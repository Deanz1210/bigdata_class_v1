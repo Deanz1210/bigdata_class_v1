{
 "cells": [
  {
   "cell_type": "markdown",
   "metadata": {
    "collapsed": true
   },
   "source": [
    "# 基本程式結構"
   ]
  },
  {
   "cell_type": "markdown",
   "metadata": {},
   "source": [
    "## 類別class\n",
    "\n",
    "\n",
    "self 指的是物件實例(Instance)本身"
   ]
  },
  {
   "cell_type": "code",
   "execution_count": null,
   "metadata": {},
   "outputs": [],
   "source": [
    "class Dog:\n",
    "    def __init__(self, name, age): #建構子\n",
    "        self.name = name  #instance variabels實體變數 是public\n",
    "        self.age = age\n",
    "    def showMe(self):\n",
    "        return \"我的名字:\"+self.name\n",
    "    def __str__(self): #被print()列印時會執行此程式，等同於java的toString()\n",
    "        return \"姓名:%s, age:%d\" %(self.name, self.age)"
   ]
  },
  {
   "cell_type": "code",
   "execution_count": null,
   "metadata": {},
   "outputs": [],
   "source": [
    "billy = Dog(\"Billy\",5)\n",
    "billy.showMe()"
   ]
  },
  {
   "cell_type": "code",
   "execution_count": null,
   "metadata": {},
   "outputs": [],
   "source": [
    "billy.age"
   ]
  },
  {
   "cell_type": "code",
   "execution_count": null,
   "metadata": {},
   "outputs": [],
   "source": [
    "print (billy)"
   ]
  },
  {
   "cell_type": "code",
   "execution_count": null,
   "metadata": {},
   "outputs": [],
   "source": [
    "willy = Dog(\"Willy\",2)\n",
    "print(willy)"
   ]
  },
  {
   "cell_type": "raw",
   "metadata": {},
   "source": [
    "Java的類別是這樣寫，比較複雜嚴謹\n",
    "public class Dog\n",
    "{\n",
    "    int age;\n",
    "    String name;\n",
    "    \n",
    "    public Dog( int  age)\n",
    "    {\n",
    "        this.age = age;\n",
    "    }\n",
    "    public Dog( String name, int  age)\n",
    "    {\n",
    "        this.name = name;\n",
    "        this.age = age;\n",
    "    }\n",
    "    \n",
    "    public void ShowMe()\n",
    "    {\n",
    "       System.out.println(\"I am \"+ name+\"歲數:\"+ age);\n",
    "    }\n",
    "    @Overide\n",
    "    public String toString()\n",
    "    {\n",
    "    }\n",
    "    \n",
    "    pubic static void main(String[] args)\n",
    "    {\n",
    "        Dog billy = new Dog(\"Billy\", 5);\n",
    "        billy.showMe();\n",
    "    }\n",
    "\n",
    "}"
   ]
  },
  {
   "cell_type": "markdown",
   "metadata": {},
   "source": [
    "## 驗收：請完成Circle類別"
   ]
  },
  {
   "cell_type": "raw",
   "metadata": {},
   "source": [
    "\n",
    "\n",
    "class Circle:\n",
    "    ...\n",
    "\n",
    "\n",
    "c = Circle(10)\n",
    "\n",
    "c.area()\n",
    "\n",
    "面積:314.159...\n",
    "\n",
    "c.info()\n",
    "\n",
    "這是Circle物件，半徑:10\n",
    "\n",
    "print(c)\n",
    "半徑:10, 面積:314.159"
   ]
  },
  {
   "cell_type": "code",
   "execution_count": null,
   "metadata": {},
   "outputs": [],
   "source": []
  },
  {
   "cell_type": "code",
   "execution_count": null,
   "metadata": {},
   "outputs": [],
   "source": [
    "#Another good example\n",
    "class Account:\n",
    "    def __init__(self, name, balance):\n",
    "        self.name = name\n",
    "        self.balance = balance\n",
    " \n",
    "    def deposit(self, amount):\n",
    "        if amount <= 0:\n",
    "             raise ValueError('amount must be positive')\n",
    "        self.balance += amount\n",
    " \n",
    "    def withdraw(self, amount):\n",
    "        if amount > self.balance:\n",
    "            raise RuntimeError('balance not enough')\n",
    "        self.balance -= amount\n",
    " \n",
    "    def __str__(self):\n",
    "        return 'Account information:{0}, {1}'.format(\n",
    "            self.name, self.balance)"
   ]
  },
  {
   "cell_type": "code",
   "execution_count": null,
   "metadata": {},
   "outputs": [],
   "source": [
    "acc1 = Account(\"Huang\",1000)\n",
    "print acc1"
   ]
  },
  {
   "cell_type": "code",
   "execution_count": null,
   "metadata": {},
   "outputs": [],
   "source": []
  },
  {
   "cell_type": "code",
   "execution_count": null,
   "metadata": {},
   "outputs": [],
   "source": []
  },
  {
   "cell_type": "markdown",
   "metadata": {},
   "source": [
    "## 實體變數   類別變數   靜態變數\n",
    "* instance variable\n",
    "* class variable\n",
    "* static variable\n",
    "\n",
    "\n",
    "@staticmethod function is nothing more than a function defined inside a class. It is callable without instantiating the class first. It’s definition is immutable via inheritance.\n",
    "\n",
    "@classmethod function also callable without instantiating the class, but its definition follows Sub class, not Parent class, via inheritance. That’s because the first argument for @classmethod function must always be cls (class).\n",
    "\n",
    "When to use what?\n",
    "We generally use class method to create factory methods. Factory methods return class object ( similar to a constructor ) for different use cases.\n",
    "We generally use static methods to create utility functions.\n",
    "\n",
    "\n",
    "https://www.geeksforgeeks.org/class-method-vs-static-method-python/"
   ]
  },
  {
   "cell_type": "raw",
   "metadata": {
    "collapsed": true
   },
   "source": [
    "Factory Method模式在一個抽象類別中留下某個建立元件的抽象方法沒有實作，其它與元件操作相關聯的方法都先依賴於元件所定義的介面，而不是依賴於元件的實現， 當您的成品中有一個或多個元件無法確定時，您先確定與這些元件的操作介面，然後用元件的抽象操作介面先完成其它的工作，元件的實作（實現）則推遲至實現元 件介面的子類完成，一旦元件加入，即可完成您的成品。\n",
    "\n",
    "簡單地說，如果您希望如何建立父類別中用到的物件這件事，是由子類別來決定，可以使用 Factory Method。\n",
    "\n",
    "就是抽象方法!"
   ]
  },
  {
   "cell_type": "raw",
   "metadata": {},
   "source": [
    "@classmethod  \n",
    "第一個參數永遠綁定為類別物件本身，無論是以實例方法來呼叫，或是以靜態方法來呼叫\n",
    "\n",
    "@staticmethod\n",
    "如果你在定義類別時希望某個函式，完全不要作為實例的綁定方法，也就是不要將第一個參數綁定為所建立的實例，則可以使用@staticmethod加以修飾。\n",
    "\n",
    "結論:\n",
    "\n",
    "utility函數用@staticmethod 比較方便\n",
    "\n",
    "若有繼承情況，希望子類別也能操作，則使用@classmethod \n"
   ]
  },
  {
   "cell_type": "code",
   "execution_count": null,
   "metadata": {},
   "outputs": [],
   "source": []
  },
  {
   "cell_type": "code",
   "execution_count": null,
   "metadata": {},
   "outputs": [],
   "source": [
    "#class static method\n",
    "#exampel from Gossip良葛格\n",
    "class Some:\n",
    "    def __init__(self, x):\n",
    "        self.x = x\n",
    "        print (self)\n",
    "        \n",
    "    @classmethod     \n",
    "    def service(cls, y):\n",
    "        print('do service...', cls, y)"
   ]
  },
  {
   "cell_type": "code",
   "execution_count": null,
   "metadata": {},
   "outputs": [],
   "source": [
    "s = Some(10)"
   ]
  },
  {
   "cell_type": "code",
   "execution_count": null,
   "metadata": {},
   "outputs": [],
   "source": [
    "s.service(20)\n",
    "Some.service(30)"
   ]
  },
  {
   "cell_type": "code",
   "execution_count": null,
   "metadata": {},
   "outputs": [],
   "source": []
  },
  {
   "cell_type": "code",
   "execution_count": null,
   "metadata": {},
   "outputs": [],
   "source": []
  },
  {
   "cell_type": "code",
   "execution_count": null,
   "metadata": {},
   "outputs": [],
   "source": [
    "#example from a python book \n",
    "class Book:\n",
    "    price=100  #class variable\n",
    "    @classmethod\n",
    "    def display(cls): #cls: class的縮寫\n",
    "        print (cls.price)\n",
    "    def set(self,x):\n",
    "        self.price=x    #self.price  instance variable\n",
    "\n",
    "    def show(self):\n",
    "        print (self.price)"
   ]
  },
  {
   "cell_type": "code",
   "execution_count": null,
   "metadata": {},
   "outputs": [],
   "source": [
    "b=Book()"
   ]
  },
  {
   "cell_type": "code",
   "execution_count": null,
   "metadata": {},
   "outputs": [],
   "source": [
    "Book.display()"
   ]
  },
  {
   "cell_type": "code",
   "execution_count": null,
   "metadata": {},
   "outputs": [],
   "source": [
    "b.display()"
   ]
  },
  {
   "cell_type": "code",
   "execution_count": null,
   "metadata": {},
   "outputs": [],
   "source": [
    "b.set(200)"
   ]
  },
  {
   "cell_type": "code",
   "execution_count": null,
   "metadata": {},
   "outputs": [],
   "source": [
    "b.show()"
   ]
  },
  {
   "cell_type": "code",
   "execution_count": null,
   "metadata": {},
   "outputs": [],
   "source": [
    "Book.display()"
   ]
  },
  {
   "cell_type": "code",
   "execution_count": null,
   "metadata": {},
   "outputs": [],
   "source": []
  },
  {
   "cell_type": "code",
   "execution_count": null,
   "metadata": {},
   "outputs": [],
   "source": [
    "#staticmethod and classmetnod\n",
    "class Product:\n",
    "    count = 0 #class variable (public)\n",
    "    def __init__(self, name):\n",
    "        self.name=name\n",
    "        Product.count += 1\n",
    "    @staticmethod\n",
    "    def getStaticCount():\n",
    "        return Product.count\n",
    "    @classmethod\n",
    "    def getClassCount(cls):\n",
    "        print('Class info:%s'  % cls )\n",
    "        print ('Class method - The product count is: %s'  %cls.count)"
   ]
  },
  {
   "cell_type": "code",
   "execution_count": null,
   "metadata": {},
   "outputs": [],
   "source": [
    "p1=Product('Camera')\n",
    "p2=Product('Cell')"
   ]
  },
  {
   "cell_type": "code",
   "execution_count": null,
   "metadata": {},
   "outputs": [],
   "source": [
    "Product.getClassCount()"
   ]
  },
  {
   "cell_type": "code",
   "execution_count": null,
   "metadata": {},
   "outputs": [],
   "source": [
    "Product.getStaticCount()"
   ]
  },
  {
   "cell_type": "code",
   "execution_count": null,
   "metadata": {},
   "outputs": [],
   "source": [
    "p1.getClassCount() #都得到相同的結果"
   ]
  },
  {
   "cell_type": "code",
   "execution_count": null,
   "metadata": {},
   "outputs": [],
   "source": []
  },
  {
   "cell_type": "code",
   "execution_count": null,
   "metadata": {},
   "outputs": [],
   "source": []
  },
  {
   "cell_type": "code",
   "execution_count": null,
   "metadata": {},
   "outputs": [],
   "source": [
    "#example\n",
    "class Dog:\n",
    "    count=0  #class variable\n",
    "    def __init__(self, na, n):\n",
    "        self.name = na\n",
    "        self.age = n\n",
    "        Dog.count += 1\n",
    "    def __str__(self):\n",
    "        return \"姓名:%s, age:%d\" %(self.name, self.age)\n",
    "    \n",
    "    @classmethod\n",
    "    def getCount(cls):\n",
    "        return cls.count #Dog.count也可\n",
    "    \n",
    "    @staticmethod\n",
    "    def getCountS():\n",
    "        return Dog.count #Dog.count也可"
   ]
  },
  {
   "cell_type": "code",
   "execution_count": null,
   "metadata": {},
   "outputs": [],
   "source": [
    "billy = Dog(\"Billy\",5)\n",
    "print billy"
   ]
  },
  {
   "cell_type": "code",
   "execution_count": null,
   "metadata": {},
   "outputs": [],
   "source": [
    "billy.getCount()"
   ]
  },
  {
   "cell_type": "code",
   "execution_count": null,
   "metadata": {},
   "outputs": [],
   "source": [
    "willy = Dog(\"Willy\",3)\n",
    "willy.getCount()"
   ]
  },
  {
   "cell_type": "code",
   "execution_count": null,
   "metadata": {},
   "outputs": [],
   "source": [
    "Dog.count"
   ]
  },
  {
   "cell_type": "code",
   "execution_count": null,
   "metadata": {},
   "outputs": [],
   "source": [
    "Dog.getCount()"
   ]
  },
  {
   "cell_type": "code",
   "execution_count": null,
   "metadata": {},
   "outputs": [],
   "source": [
    "class MyMath:\n",
    "    PI = 3.14  #class variable 共享一個存放位置\n",
    "    LUCKY_NUMBER = 7\n",
    "    @classmethod\n",
    "    def area( cls ,r ):\n",
    "        return cls.PI * r*r"
   ]
  },
  {
   "cell_type": "code",
   "execution_count": null,
   "metadata": {},
   "outputs": [],
   "source": [
    "print (MyMath.pi)\n",
    "print (MyMath.area(10))"
   ]
  },
  {
   "cell_type": "code",
   "execution_count": null,
   "metadata": {},
   "outputs": [],
   "source": []
  },
  {
   "cell_type": "code",
   "execution_count": null,
   "metadata": {},
   "outputs": [],
   "source": [
    "\n",
    "# Python program to demonstrate  \n",
    "# use of class method and static method. \n",
    "from datetime import date \n",
    "  \n",
    "class Person: \n",
    "    def __init__(self, name, age): \n",
    "        self.name = name \n",
    "        self.age = age \n",
    "      \n",
    "    # a class method to create a Person object by birth year. \n",
    "    @classmethod\n",
    "    def fromBirthYear(cls, name, year): \n",
    "        return cls(name, date.today().year - year) \n",
    "      \n",
    "    # a static method to check if a Person is adult or not. \n",
    "    @staticmethod\n",
    "    def isAdult(age): \n",
    "        return age > 18\n",
    "  \n",
    "person1 = Person('John', 12) \n",
    "person2 = Person.fromBirthYear('Bill', 1964) \n",
    "  \n",
    "print( person1.age )\n",
    "print( person2.age )\n",
    "  \n",
    "# print the result \n",
    "print( Person.isAdult(22) )"
   ]
  },
  {
   "cell_type": "code",
   "execution_count": null,
   "metadata": {},
   "outputs": [],
   "source": []
  },
  {
   "cell_type": "markdown",
   "metadata": {},
   "source": [
    "## 私有變數如何定義(private variable)？\n",
    "  __x = 0  # 私有變數\n",
    "  y = 0    # 公開變數"
   ]
  },
  {
   "cell_type": "code",
   "execution_count": null,
   "metadata": {},
   "outputs": [],
   "source": []
  },
  {
   "cell_type": "markdown",
   "metadata": {},
   "source": [
    "## 繼承inheritance與取代override"
   ]
  },
  {
   "cell_type": "code",
   "execution_count": null,
   "metadata": {},
   "outputs": [],
   "source": [
    "class A:\n",
    "    def foo(self):\n",
    "        print('hello')\n",
    "\n",
    "class B(A):\n",
    "    def foo2(self):\n",
    "        A.foo(self)\n",
    "        #super(B,self).foo()"
   ]
  },
  {
   "cell_type": "code",
   "execution_count": null,
   "metadata": {},
   "outputs": [],
   "source": [
    "b = B()\n",
    "b.foo2()"
   ]
  },
  {
   "cell_type": "code",
   "execution_count": null,
   "metadata": {},
   "outputs": [],
   "source": []
  },
  {
   "cell_type": "code",
   "execution_count": null,
   "metadata": {},
   "outputs": [],
   "source": [
    "class A(object):\n",
    "    def foo(self):\n",
    "        print('hello')\n",
    "\n",
    "class B(A):\n",
    "    def foo2(self):\n",
    "        #A.foo(self)\n",
    "        super(B,self).foo()"
   ]
  },
  {
   "cell_type": "code",
   "execution_count": null,
   "metadata": {},
   "outputs": [],
   "source": [
    "b = B()\n",
    "b.foo2()"
   ]
  },
  {
   "cell_type": "code",
   "execution_count": null,
   "metadata": {},
   "outputs": [],
   "source": []
  },
  {
   "cell_type": "code",
   "execution_count": null,
   "metadata": {},
   "outputs": [],
   "source": []
  },
  {
   "cell_type": "code",
   "execution_count": null,
   "metadata": {},
   "outputs": [],
   "source": []
  },
  {
   "cell_type": "code",
   "execution_count": null,
   "metadata": {},
   "outputs": [],
   "source": [
    "class A(object):\n",
    "    def foo(self):\n",
    "        print('hello')\n",
    "\n",
    "class B(A):\n",
    "    def foo(self): #取代\n",
    "        print('hello2')\n",
    "        #A.foo(self)\n",
    "        #super(B,self).foo()"
   ]
  },
  {
   "cell_type": "code",
   "execution_count": null,
   "metadata": {},
   "outputs": [],
   "source": [
    "b = B()\n",
    "b.foo()"
   ]
  },
  {
   "cell_type": "code",
   "execution_count": null,
   "metadata": {},
   "outputs": [],
   "source": [
    "b.isAdult(20)"
   ]
  },
  {
   "cell_type": "code",
   "execution_count": null,
   "metadata": {},
   "outputs": [],
   "source": []
  },
  {
   "cell_type": "code",
   "execution_count": null,
   "metadata": {},
   "outputs": [],
   "source": [
    "class WithClass ():\n",
    "    def __init__(self):\n",
    "        self.value = \"Bob\"\n",
    "    def my_func(self):\n",
    "        print(self.value)\n",
    "\n",
    "class WithoutClass():\n",
    "    value = \"Bob\"\n",
    "    def my_func(self):\n",
    "        print(self.value) #self.value竟然可以操作到 class variable??"
   ]
  },
  {
   "cell_type": "code",
   "execution_count": null,
   "metadata": {},
   "outputs": [],
   "source": [
    "c1 = WithClass()"
   ]
  },
  {
   "cell_type": "code",
   "execution_count": null,
   "metadata": {},
   "outputs": [],
   "source": [
    "c1.my_func()"
   ]
  },
  {
   "cell_type": "code",
   "execution_count": null,
   "metadata": {},
   "outputs": [],
   "source": []
  },
  {
   "cell_type": "code",
   "execution_count": null,
   "metadata": {},
   "outputs": [],
   "source": [
    "c2 = WithoutClass()"
   ]
  },
  {
   "cell_type": "code",
   "execution_count": null,
   "metadata": {},
   "outputs": [],
   "source": [
    "c2.my_func()"
   ]
  },
  {
   "cell_type": "code",
   "execution_count": null,
   "metadata": {},
   "outputs": [],
   "source": [
    "c2.value"
   ]
  },
  {
   "cell_type": "code",
   "execution_count": null,
   "metadata": {},
   "outputs": [],
   "source": [
    "c2.value=\"Bob2\""
   ]
  },
  {
   "cell_type": "code",
   "execution_count": null,
   "metadata": {},
   "outputs": [],
   "source": [
    "c3 = WithoutClass()"
   ]
  },
  {
   "cell_type": "code",
   "execution_count": null,
   "metadata": {},
   "outputs": [],
   "source": [
    "c3.my_func()"
   ]
  },
  {
   "cell_type": "code",
   "execution_count": null,
   "metadata": {},
   "outputs": [],
   "source": [
    "WithoutClass.value"
   ]
  },
  {
   "cell_type": "code",
   "execution_count": null,
   "metadata": {},
   "outputs": [],
   "source": [
    "c3.y=6"
   ]
  },
  {
   "cell_type": "code",
   "execution_count": null,
   "metadata": {},
   "outputs": [],
   "source": []
  },
  {
   "cell_type": "code",
   "execution_count": null,
   "metadata": {},
   "outputs": [],
   "source": [
    "class A(object):\n",
    "\n",
    "  label=\"Amazing\"\n",
    "\n",
    "  def __init__(self,d): \n",
    "      self.data=d\n",
    "      #self.label=\"GO\"#???? \n",
    "\n",
    "  def say(self):\n",
    "      #self.label=\"Amazing2\" #注意self.label是class variable \n",
    "      print(\"%s %s!\"%(self.label,self.data)) #注意self.label是class variable\n",
    "\n",
    "class B(A):\n",
    "  label=\"Bold\"  # overrides A.label\n",
    "\n",
    "A(5).say()      # Amazing 5!\n",
    "B(3).say()      # Bold 3!"
   ]
  },
  {
   "cell_type": "code",
   "execution_count": null,
   "metadata": {},
   "outputs": [],
   "source": [
    "a=A(5)"
   ]
  },
  {
   "cell_type": "code",
   "execution_count": null,
   "metadata": {},
   "outputs": [],
   "source": [
    "a.say()"
   ]
  },
  {
   "cell_type": "code",
   "execution_count": null,
   "metadata": {},
   "outputs": [],
   "source": [
    "b=B(3)"
   ]
  },
  {
   "cell_type": "code",
   "execution_count": null,
   "metadata": {},
   "outputs": [],
   "source": [
    "b.say()"
   ]
  },
  {
   "cell_type": "code",
   "execution_count": null,
   "metadata": {},
   "outputs": [],
   "source": [
    "a.say()"
   ]
  },
  {
   "cell_type": "code",
   "execution_count": null,
   "metadata": {},
   "outputs": [],
   "source": [
    "a.label=\"HI\""
   ]
  },
  {
   "cell_type": "code",
   "execution_count": null,
   "metadata": {},
   "outputs": [],
   "source": []
  },
  {
   "cell_type": "code",
   "execution_count": null,
   "metadata": {},
   "outputs": [],
   "source": []
  },
  {
   "cell_type": "code",
   "execution_count": null,
   "metadata": {},
   "outputs": [],
   "source": [
    "a.say()"
   ]
  },
  {
   "cell_type": "code",
   "execution_count": null,
   "metadata": {},
   "outputs": [],
   "source": [
    "b.say()"
   ]
  },
  {
   "cell_type": "code",
   "execution_count": null,
   "metadata": {},
   "outputs": [],
   "source": [
    "c= A(7)"
   ]
  },
  {
   "cell_type": "code",
   "execution_count": null,
   "metadata": {},
   "outputs": [],
   "source": [
    "c.say()"
   ]
  },
  {
   "cell_type": "code",
   "execution_count": null,
   "metadata": {},
   "outputs": [],
   "source": []
  },
  {
   "cell_type": "code",
   "execution_count": null,
   "metadata": {},
   "outputs": [],
   "source": []
  },
  {
   "cell_type": "code",
   "execution_count": null,
   "metadata": {},
   "outputs": [],
   "source": [
    "class MyClass:\n",
    "    static_elem = 123\n",
    "\n",
    "    def __init__(self):\n",
    "        self.object_elem = 456\n",
    "\n",
    "c1 = MyClass()\n",
    "c2 = MyClass()"
   ]
  },
  {
   "cell_type": "code",
   "execution_count": null,
   "metadata": {},
   "outputs": [],
   "source": [
    "# Initial values of both elements\n",
    "c1.static_elem, c1.object_elem "
   ]
  },
  {
   "cell_type": "code",
   "execution_count": null,
   "metadata": {},
   "outputs": [],
   "source": [
    "c2.static_elem, c2.object_elem"
   ]
  },
  {
   "cell_type": "code",
   "execution_count": null,
   "metadata": {},
   "outputs": [],
   "source": [
    "# Let's try changing the static element\n",
    "MyClass.static_elem = 999"
   ]
  },
  {
   "cell_type": "code",
   "execution_count": null,
   "metadata": {},
   "outputs": [],
   "source": [
    "c1.static_elem, c1.object_elem"
   ]
  },
  {
   "cell_type": "code",
   "execution_count": null,
   "metadata": {},
   "outputs": [],
   "source": [
    "c2.static_elem, c2.object_elem"
   ]
  },
  {
   "cell_type": "code",
   "execution_count": null,
   "metadata": {},
   "outputs": [],
   "source": [
    "# Now, let's try changing the object element\n",
    "c1.object_elem = 888\n",
    "\n",
    "c1.static_elem, c1.object_elem"
   ]
  },
  {
   "cell_type": "code",
   "execution_count": null,
   "metadata": {},
   "outputs": [],
   "source": [
    "c2.static_elem, c2.object_elem"
   ]
  },
  {
   "cell_type": "code",
   "execution_count": null,
   "metadata": {},
   "outputs": [],
   "source": []
  }
 ],
 "metadata": {
  "kernelspec": {
   "display_name": "Python 3",
   "language": "python",
   "name": "python3"
  },
  "language_info": {
   "codemirror_mode": {
    "name": "ipython",
    "version": 3
   },
   "file_extension": ".py",
   "mimetype": "text/x-python",
   "name": "python",
   "nbconvert_exporter": "python",
   "pygments_lexer": "ipython3",
   "version": "3.7.9"
  },
  "toc": {
   "base_numbering": 1,
   "nav_menu": {},
   "number_sections": true,
   "sideBar": true,
   "skip_h1_title": false,
   "title_cell": "Table of Contents",
   "title_sidebar": "Contents",
   "toc_cell": false,
   "toc_position": {},
   "toc_section_display": true,
   "toc_window_display": false
  }
 },
 "nbformat": 4,
 "nbformat_minor": 1
}
