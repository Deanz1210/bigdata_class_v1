{
 "cells": [
  {
   "cell_type": "markdown",
   "metadata": {},
   "source": [
    "# Get popular persons and draw chart\n",
    "\n",
    "熱門人物、類別新聞熱門關鍵字寫成方法呼叫"
   ]
  },
  {
   "cell_type": "markdown",
   "metadata": {},
   "source": [
    "# Read top person data\n"
   ]
  },
  {
   "cell_type": "code",
   "execution_count": 1,
   "metadata": {},
   "outputs": [],
   "source": [
    "import pandas as pd"
   ]
  },
  {
   "cell_type": "code",
   "execution_count": 2,
   "metadata": {},
   "outputs": [],
   "source": [
    "df_data = pd.read_csv('news_top_person_by_category_via_ner.csv')"
   ]
  },
  {
   "cell_type": "code",
   "execution_count": 3,
   "metadata": {
    "scrolled": true
   },
   "outputs": [
    {
     "data": {
      "text/html": [
       "<div>\n",
       "<style scoped>\n",
       "    .dataframe tbody tr th:only-of-type {\n",
       "        vertical-align: middle;\n",
       "    }\n",
       "\n",
       "    .dataframe tbody tr th {\n",
       "        vertical-align: top;\n",
       "    }\n",
       "\n",
       "    .dataframe thead th {\n",
       "        text-align: right;\n",
       "    }\n",
       "</style>\n",
       "<table border=\"1\" class=\"dataframe\">\n",
       "  <thead>\n",
       "    <tr style=\"text-align: right;\">\n",
       "      <th></th>\n",
       "      <th>category</th>\n",
       "      <th>top_keys</th>\n",
       "    </tr>\n",
       "  </thead>\n",
       "  <tbody>\n",
       "    <tr>\n",
       "      <th>0</th>\n",
       "      <td>政治</td>\n",
       "      <td>[('吳釗燮', 4), ('許邁德', 2), ('黃重凱', 1), ('柳惠千', 1...</td>\n",
       "    </tr>\n",
       "    <tr>\n",
       "      <th>1</th>\n",
       "      <td>科技</td>\n",
       "      <td>[('王金燦', 2), ('王兆璋', 1), ('希塔拉姆', 1)]</td>\n",
       "    </tr>\n",
       "    <tr>\n",
       "      <th>2</th>\n",
       "      <td>運動</td>\n",
       "      <td>[('陳將双', 8), ('樂天', 3), ('岱縈', 2), ('筠熹', 2), ...</td>\n",
       "    </tr>\n",
       "    <tr>\n",
       "      <th>3</th>\n",
       "      <td>證卷</td>\n",
       "      <td>[('葉獻文', 2), ('林耕億', 2)]</td>\n",
       "    </tr>\n",
       "    <tr>\n",
       "      <th>4</th>\n",
       "      <td>產經</td>\n",
       "      <td>[('杜書全', 5), ('蘇松輝', 4), ('丁予嘉', 1), ('魏啟林', 1)]</td>\n",
       "    </tr>\n",
       "    <tr>\n",
       "      <th>5</th>\n",
       "      <td>娛樂</td>\n",
       "      <td>[('林暉閔', 7), ('黃新皓', 6), ('郭宇宸', 3), ('林煒傑', 1...</td>\n",
       "    </tr>\n",
       "    <tr>\n",
       "      <th>6</th>\n",
       "      <td>生活</td>\n",
       "      <td>[('陳時中', 7)]</td>\n",
       "    </tr>\n",
       "    <tr>\n",
       "      <th>7</th>\n",
       "      <td>國際</td>\n",
       "      <td>[('阿布拉莫維奇', 3), ('切爾西', 2), ('潘恩', 2), ('蒲亭', ...</td>\n",
       "    </tr>\n",
       "    <tr>\n",
       "      <th>8</th>\n",
       "      <td>社會</td>\n",
       "      <td>[('戴寧', 2)]</td>\n",
       "    </tr>\n",
       "    <tr>\n",
       "      <th>9</th>\n",
       "      <td>文化</td>\n",
       "      <td>[('平珩', 10), ('陳悅宜', 3), ('李安', 2), ('譚盾', 2),...</td>\n",
       "    </tr>\n",
       "    <tr>\n",
       "      <th>10</th>\n",
       "      <td>兩岸</td>\n",
       "      <td>[('雷正龍', 3), ('林柏偉', 1), ('林伯偉', 1), ('黃守應', 1...</td>\n",
       "    </tr>\n",
       "    <tr>\n",
       "      <th>11</th>\n",
       "      <td>全部</td>\n",
       "      <td>[('平珩', 10), ('陳將双', 8), ('林暉閔', 7), ('陳時中', 7...</td>\n",
       "    </tr>\n",
       "  </tbody>\n",
       "</table>\n",
       "</div>"
      ],
      "text/plain": [
       "   category                                           top_keys\n",
       "0        政治  [('吳釗燮', 4), ('許邁德', 2), ('黃重凱', 1), ('柳惠千', 1...\n",
       "1        科技              [('王金燦', 2), ('王兆璋', 1), ('希塔拉姆', 1)]\n",
       "2        運動  [('陳將双', 8), ('樂天', 3), ('岱縈', 2), ('筠熹', 2), ...\n",
       "3        證卷                           [('葉獻文', 2), ('林耕億', 2)]\n",
       "4        產經   [('杜書全', 5), ('蘇松輝', 4), ('丁予嘉', 1), ('魏啟林', 1)]\n",
       "5        娛樂  [('林暉閔', 7), ('黃新皓', 6), ('郭宇宸', 3), ('林煒傑', 1...\n",
       "6        生活                                       [('陳時中', 7)]\n",
       "7        國際  [('阿布拉莫維奇', 3), ('切爾西', 2), ('潘恩', 2), ('蒲亭', ...\n",
       "8        社會                                        [('戴寧', 2)]\n",
       "9        文化  [('平珩', 10), ('陳悅宜', 3), ('李安', 2), ('譚盾', 2),...\n",
       "10       兩岸  [('雷正龍', 3), ('林柏偉', 1), ('林伯偉', 1), ('黃守應', 1...\n",
       "11       全部  [('平珩', 10), ('陳將双', 8), ('林暉閔', 7), ('陳時中', 7..."
      ]
     },
     "execution_count": 3,
     "metadata": {},
     "output_type": "execute_result"
    }
   ],
   "source": [
    "df_data.head(12)"
   ]
  },
  {
   "cell_type": "code",
   "execution_count": 4,
   "metadata": {},
   "outputs": [],
   "source": [
    "data={}\n",
    "for idx, row in df_data.iterrows():\n",
    "    data[row['category']]= eval(row['top_keys'])"
   ]
  },
  {
   "cell_type": "code",
   "execution_count": 5,
   "metadata": {},
   "outputs": [
    {
     "data": {
      "text/plain": [
       "{'政治': [('吳釗燮', 4), ('許邁德', 2), ('黃重凱', 1), ('柳惠千', 1), ('朱冠甍', 1)],\n",
       " '科技': [('王金燦', 2), ('王兆璋', 1), ('希塔拉姆', 1)],\n",
       " '運動': [('陳將双', 8),\n",
       "  ('樂天', 3),\n",
       "  ('岱縈', 2),\n",
       "  ('筠熹', 2),\n",
       "  ('浦韋青', 1),\n",
       "  ('胡瓜', 1),\n",
       "  ('林襄', 1),\n",
       "  ('霖霖', 1),\n",
       "  ('伊婷（Kira）', 1),\n",
       "  ('詩媛', 1),\n",
       "  ('佳琳', 1),\n",
       "  ('雅涵', 1),\n",
       "  ('婉卉', 1),\n",
       "  ('宋宋', 1)],\n",
       " '證卷': [('葉獻文', 2), ('林耕億', 2)],\n",
       " '產經': [('杜書全', 5), ('蘇松輝', 4), ('丁予嘉', 1), ('魏啟林', 1)],\n",
       " '娛樂': [('林暉閔', 7),\n",
       "  ('黃新皓', 6),\n",
       "  ('郭宇宸', 3),\n",
       "  ('林煒傑', 1),\n",
       "  ('李見騰', 1),\n",
       "  ('黃云歆', 1),\n",
       "  ('葉泓毅', 1),\n",
       "  ('郝心翔', 1),\n",
       "  ('柏霖', 1),\n",
       "  ('林郁智', 1),\n",
       "  ('阿Ken', 1),\n",
       "  ('林暐恆', 1),\n",
       "  ('徐熙娣', 1),\n",
       "  ('黃路梓茵', 1),\n",
       "  ('陳嘉樺', 1),\n",
       "  ('彭佳慧', 1),\n",
       "  ('藍心湄', 1),\n",
       "  ('張可昀', 1),\n",
       "  ('侯友宜', 1)],\n",
       " '生活': [('陳時中', 7)],\n",
       " '國際': [('阿布拉莫維奇', 3),\n",
       "  ('切爾西', 2),\n",
       "  ('潘恩', 2),\n",
       "  ('蒲亭', 2),\n",
       "  ('拉夫羅夫', 2),\n",
       "  ('阿布杜拉希安', 2),\n",
       "  ('哈蒂柏札德', 2),\n",
       "  ('布魯塞爾', 1),\n",
       "  ('Marise Payne）', 1),\n",
       "  ('米勒', 1),\n",
       "  ('Alexey Miller）', 1),\n",
       "  ('穆罕穆德', 1),\n",
       "  ('Sheikh ', 1),\n",
       "  ('波瑞爾', 1),\n",
       "  ('普萊斯', 1)],\n",
       " '社會': [('戴寧', 2)],\n",
       " '文化': [('平珩', 10), ('陳悅宜', 3), ('李安', 2), ('譚盾', 2), ('瑪芮娜', 1), ('羅曼菲', 1)],\n",
       " '兩岸': [('雷正龍', 3), ('林柏偉', 1), ('林伯偉', 1), ('黃守應', 1), ('王長青', 1)],\n",
       " '全部': [('平珩', 10),\n",
       "  ('陳將双', 8),\n",
       "  ('林暉閔', 7),\n",
       "  ('陳時中', 7),\n",
       "  ('黃新皓', 6),\n",
       "  ('杜書全', 5),\n",
       "  ('吳釗燮', 4),\n",
       "  ('蘇松輝', 4),\n",
       "  ('樂天', 3),\n",
       "  ('郭宇宸', 3),\n",
       "  ('阿布拉莫維奇', 3),\n",
       "  ('陳悅宜', 3),\n",
       "  ('雷正龍', 3),\n",
       "  ('許邁德', 2),\n",
       "  ('王金燦', 2),\n",
       "  ('岱縈', 2),\n",
       "  ('筠熹', 2),\n",
       "  ('葉獻文', 2),\n",
       "  ('林耕億', 2),\n",
       "  ('切爾西', 2),\n",
       "  ('潘恩', 2),\n",
       "  ('蒲亭', 2),\n",
       "  ('拉夫羅夫', 2),\n",
       "  ('阿布杜拉希安', 2),\n",
       "  ('哈蒂柏札德', 2),\n",
       "  ('戴寧', 2),\n",
       "  ('李安', 2),\n",
       "  ('譚盾', 2),\n",
       "  ('黃重凱', 1),\n",
       "  ('柳惠千', 1),\n",
       "  ('朱冠甍', 1),\n",
       "  ('王兆璋', 1),\n",
       "  ('希塔拉姆', 1),\n",
       "  ('浦韋青', 1),\n",
       "  ('胡瓜', 1),\n",
       "  ('林襄', 1),\n",
       "  ('霖霖', 1),\n",
       "  ('伊婷（Kira）', 1),\n",
       "  ('詩媛', 1),\n",
       "  ('佳琳', 1),\n",
       "  ('雅涵', 1),\n",
       "  ('婉卉', 1),\n",
       "  ('宋宋', 1),\n",
       "  ('丁予嘉', 1),\n",
       "  ('魏啟林', 1),\n",
       "  ('林煒傑', 1),\n",
       "  ('李見騰', 1),\n",
       "  ('黃云歆', 1),\n",
       "  ('葉泓毅', 1),\n",
       "  ('郝心翔', 1),\n",
       "  ('柏霖', 1),\n",
       "  ('林郁智', 1),\n",
       "  ('阿Ken', 1),\n",
       "  ('林暐恆', 1),\n",
       "  ('徐熙娣', 1),\n",
       "  ('黃路梓茵', 1),\n",
       "  ('陳嘉樺', 1),\n",
       "  ('彭佳慧', 1),\n",
       "  ('藍心湄', 1),\n",
       "  ('張可昀', 1),\n",
       "  ('侯友宜', 1),\n",
       "  ('布魯塞爾', 1),\n",
       "  ('Marise Payne）', 1),\n",
       "  ('米勒', 1),\n",
       "  ('Alexey Miller）', 1),\n",
       "  ('穆罕穆德', 1),\n",
       "  ('Sheikh ', 1),\n",
       "  ('波瑞爾', 1),\n",
       "  ('普萊斯', 1),\n",
       "  ('瑪芮娜', 1),\n",
       "  ('羅曼菲', 1),\n",
       "  ('林柏偉', 1),\n",
       "  ('林伯偉', 1),\n",
       "  ('黃守應', 1),\n",
       "  ('王長青', 1)]}"
      ]
     },
     "execution_count": 5,
     "metadata": {},
     "output_type": "execute_result"
    }
   ],
   "source": [
    "data"
   ]
  },
  {
   "cell_type": "code",
   "execution_count": 6,
   "metadata": {},
   "outputs": [
    {
     "data": {
      "text/plain": [
       "[('吳釗燮', 4), ('許邁德', 2), ('黃重凱', 1), ('柳惠千', 1), ('朱冠甍', 1)]"
      ]
     },
     "execution_count": 6,
     "metadata": {},
     "output_type": "execute_result"
    }
   ],
   "source": [
    "data['政治']"
   ]
  },
  {
   "cell_type": "code",
   "execution_count": 8,
   "metadata": {},
   "outputs": [
    {
     "data": {
      "text/plain": [
       "[('吳釗燮', 4), ('許邁德', 2), ('黃重凱', 1)]"
      ]
     },
     "execution_count": 8,
     "metadata": {},
     "output_type": "execute_result"
    }
   ],
   "source": [
    "data['政治'][0:3]"
   ]
  },
  {
   "cell_type": "code",
   "execution_count": null,
   "metadata": {},
   "outputs": [],
   "source": []
  },
  {
   "cell_type": "markdown",
   "metadata": {},
   "source": [
    "# Define functions to be used in Django"
   ]
  },
  {
   "cell_type": "markdown",
   "metadata": {},
   "source": [
    "## Load data and prepare chart data dict"
   ]
  },
  {
   "cell_type": "code",
   "execution_count": 9,
   "metadata": {},
   "outputs": [],
   "source": [
    "# Load data and prepare chart data dict\n",
    "df_data = pd.read_csv('news_top_person_by_category_via_ner.csv')\n",
    "\n",
    "# Prepare top keys data with dictionary format\n",
    "data={}\n",
    "for idx, row in df_data.iterrows():\n",
    "    data[row['category']]= eval(row['top_keys'])\n",
    "    "
   ]
  },
  {
   "cell_type": "code",
   "execution_count": 10,
   "metadata": {},
   "outputs": [],
   "source": [
    "'''\n",
    "the format of data:\n",
    "{'政治': [('韓國瑜', 6344),\n",
    "  ('蔡英文', 2114),\n",
    "  ('賴清德', 1480),\n",
    "  ...\n",
    "  }\n",
    "'''\n",
    "\n",
    "# load data and prepare chart data dict\n",
    "def load_data_topPerson():\n",
    "    # read df\n",
    "    #df_topPerson = pd.read_csv('app_top_person/dataset/news_top_person_by_category_via_ner.csv')\n",
    "    df_topPerson = pd.read_csv('news_top_person_by_category_via_ner.csv')\n",
    "    # refresh data\n",
    "    global data\n",
    "    data = {}\n",
    "    for idx, row in df_topPerson.iterrows():\n",
    "        data[row['category']] = eval(row['top_keys'])\n",
    "\n",
    "# Load data first when starting server.\n",
    "load_data_topPerson()"
   ]
  },
  {
   "cell_type": "code",
   "execution_count": 11,
   "metadata": {},
   "outputs": [
    {
     "data": {
      "text/plain": [
       "{'政治': [('吳釗燮', 4), ('許邁德', 2), ('黃重凱', 1), ('柳惠千', 1), ('朱冠甍', 1)],\n",
       " '科技': [('王金燦', 2), ('王兆璋', 1), ('希塔拉姆', 1)],\n",
       " '運動': [('陳將双', 8),\n",
       "  ('樂天', 3),\n",
       "  ('岱縈', 2),\n",
       "  ('筠熹', 2),\n",
       "  ('浦韋青', 1),\n",
       "  ('胡瓜', 1),\n",
       "  ('林襄', 1),\n",
       "  ('霖霖', 1),\n",
       "  ('伊婷（Kira）', 1),\n",
       "  ('詩媛', 1),\n",
       "  ('佳琳', 1),\n",
       "  ('雅涵', 1),\n",
       "  ('婉卉', 1),\n",
       "  ('宋宋', 1)],\n",
       " '證卷': [('葉獻文', 2), ('林耕億', 2)],\n",
       " '產經': [('杜書全', 5), ('蘇松輝', 4), ('丁予嘉', 1), ('魏啟林', 1)],\n",
       " '娛樂': [('林暉閔', 7),\n",
       "  ('黃新皓', 6),\n",
       "  ('郭宇宸', 3),\n",
       "  ('林煒傑', 1),\n",
       "  ('李見騰', 1),\n",
       "  ('黃云歆', 1),\n",
       "  ('葉泓毅', 1),\n",
       "  ('郝心翔', 1),\n",
       "  ('柏霖', 1),\n",
       "  ('林郁智', 1),\n",
       "  ('阿Ken', 1),\n",
       "  ('林暐恆', 1),\n",
       "  ('徐熙娣', 1),\n",
       "  ('黃路梓茵', 1),\n",
       "  ('陳嘉樺', 1),\n",
       "  ('彭佳慧', 1),\n",
       "  ('藍心湄', 1),\n",
       "  ('張可昀', 1),\n",
       "  ('侯友宜', 1)],\n",
       " '生活': [('陳時中', 7)],\n",
       " '國際': [('阿布拉莫維奇', 3),\n",
       "  ('切爾西', 2),\n",
       "  ('潘恩', 2),\n",
       "  ('蒲亭', 2),\n",
       "  ('拉夫羅夫', 2),\n",
       "  ('阿布杜拉希安', 2),\n",
       "  ('哈蒂柏札德', 2),\n",
       "  ('布魯塞爾', 1),\n",
       "  ('Marise Payne）', 1),\n",
       "  ('米勒', 1),\n",
       "  ('Alexey Miller）', 1),\n",
       "  ('穆罕穆德', 1),\n",
       "  ('Sheikh ', 1),\n",
       "  ('波瑞爾', 1),\n",
       "  ('普萊斯', 1)],\n",
       " '社會': [('戴寧', 2)],\n",
       " '文化': [('平珩', 10), ('陳悅宜', 3), ('李安', 2), ('譚盾', 2), ('瑪芮娜', 1), ('羅曼菲', 1)],\n",
       " '兩岸': [('雷正龍', 3), ('林柏偉', 1), ('林伯偉', 1), ('黃守應', 1), ('王長青', 1)],\n",
       " '全部': [('平珩', 10),\n",
       "  ('陳將双', 8),\n",
       "  ('林暉閔', 7),\n",
       "  ('陳時中', 7),\n",
       "  ('黃新皓', 6),\n",
       "  ('杜書全', 5),\n",
       "  ('吳釗燮', 4),\n",
       "  ('蘇松輝', 4),\n",
       "  ('樂天', 3),\n",
       "  ('郭宇宸', 3),\n",
       "  ('阿布拉莫維奇', 3),\n",
       "  ('陳悅宜', 3),\n",
       "  ('雷正龍', 3),\n",
       "  ('許邁德', 2),\n",
       "  ('王金燦', 2),\n",
       "  ('岱縈', 2),\n",
       "  ('筠熹', 2),\n",
       "  ('葉獻文', 2),\n",
       "  ('林耕億', 2),\n",
       "  ('切爾西', 2),\n",
       "  ('潘恩', 2),\n",
       "  ('蒲亭', 2),\n",
       "  ('拉夫羅夫', 2),\n",
       "  ('阿布杜拉希安', 2),\n",
       "  ('哈蒂柏札德', 2),\n",
       "  ('戴寧', 2),\n",
       "  ('李安', 2),\n",
       "  ('譚盾', 2),\n",
       "  ('黃重凱', 1),\n",
       "  ('柳惠千', 1),\n",
       "  ('朱冠甍', 1),\n",
       "  ('王兆璋', 1),\n",
       "  ('希塔拉姆', 1),\n",
       "  ('浦韋青', 1),\n",
       "  ('胡瓜', 1),\n",
       "  ('林襄', 1),\n",
       "  ('霖霖', 1),\n",
       "  ('伊婷（Kira）', 1),\n",
       "  ('詩媛', 1),\n",
       "  ('佳琳', 1),\n",
       "  ('雅涵', 1),\n",
       "  ('婉卉', 1),\n",
       "  ('宋宋', 1),\n",
       "  ('丁予嘉', 1),\n",
       "  ('魏啟林', 1),\n",
       "  ('林煒傑', 1),\n",
       "  ('李見騰', 1),\n",
       "  ('黃云歆', 1),\n",
       "  ('葉泓毅', 1),\n",
       "  ('郝心翔', 1),\n",
       "  ('柏霖', 1),\n",
       "  ('林郁智', 1),\n",
       "  ('阿Ken', 1),\n",
       "  ('林暐恆', 1),\n",
       "  ('徐熙娣', 1),\n",
       "  ('黃路梓茵', 1),\n",
       "  ('陳嘉樺', 1),\n",
       "  ('彭佳慧', 1),\n",
       "  ('藍心湄', 1),\n",
       "  ('張可昀', 1),\n",
       "  ('侯友宜', 1),\n",
       "  ('布魯塞爾', 1),\n",
       "  ('Marise Payne）', 1),\n",
       "  ('米勒', 1),\n",
       "  ('Alexey Miller）', 1),\n",
       "  ('穆罕穆德', 1),\n",
       "  ('Sheikh ', 1),\n",
       "  ('波瑞爾', 1),\n",
       "  ('普萊斯', 1),\n",
       "  ('瑪芮娜', 1),\n",
       "  ('羅曼菲', 1),\n",
       "  ('林柏偉', 1),\n",
       "  ('林伯偉', 1),\n",
       "  ('黃守應', 1),\n",
       "  ('王長青', 1)]}"
      ]
     },
     "execution_count": 11,
     "metadata": {},
     "output_type": "execute_result"
    }
   ],
   "source": [
    "data"
   ]
  },
  {
   "cell_type": "markdown",
   "metadata": {},
   "source": [
    "## Get categorical topkeys"
   ]
  },
  {
   "cell_type": "code",
   "execution_count": 12,
   "metadata": {},
   "outputs": [],
   "source": [
    "# Django views.py needs this function\n",
    "def get_category_topkey(cate, topk=10):\n",
    "    wf_pairs = data[cate][0:topk]\n",
    "    words = [w for w, f in wf_pairs]\n",
    "    freqs = [f for w, f in wf_pairs]\n",
    "    chart_data = {\n",
    "        \"category\": cate,\n",
    "        \"labels\": words,\n",
    "        \"values\": freqs}\n",
    "    return chart_data, wf_pairs"
   ]
  },
  {
   "cell_type": "code",
   "execution_count": null,
   "metadata": {},
   "outputs": [],
   "source": []
  },
  {
   "cell_type": "code",
   "execution_count": 14,
   "metadata": {},
   "outputs": [
    {
     "data": {
      "text/plain": [
       "({'category': '政治', 'labels': ['吳釗燮', '許邁德', '黃重凱'], 'values': [4, 2, 1]},\n",
       " [('吳釗燮', 4), ('許邁德', 2), ('黃重凱', 1)])"
      ]
     },
     "execution_count": 14,
     "metadata": {},
     "output_type": "execute_result"
    }
   ],
   "source": [
    "get_category_topkey('政治',3)"
   ]
  },
  {
   "cell_type": "code",
   "execution_count": null,
   "metadata": {},
   "outputs": [],
   "source": []
  },
  {
   "cell_type": "markdown",
   "metadata": {},
   "source": [
    "# Django view.py"
   ]
  },
  {
   "cell_type": "code",
   "execution_count": null,
   "metadata": {},
   "outputs": [],
   "source": [
    "from django.shortcuts import render\n",
    "import pandas as pd\n",
    "\n",
    "from django.http import JsonResponse\n",
    "from django.views.decorators.csrf import csrf_exempt\n",
    "\n",
    "'''\n",
    "the format of data:\n",
    "{'政治': [('韓國瑜', 6344),\n",
    "  ('蔡英文', 2114),\n",
    "  ('賴清德', 1480),\n",
    "  ...\n",
    "  }\n",
    "'''\n",
    "\n",
    "# load data\n",
    "def load_data_topPerson():\n",
    "    # read df\n",
    "    df_topPerson = pd.read_csv(\n",
    "        'app_top_person/dataset/news_top_person_by_category_via_ner.csv')\n",
    "    # refresh data\n",
    "    global data\n",
    "    data = {}\n",
    "    for idx, row in df_topPerson.iterrows():\n",
    "        data[row['category']] = eval(row['top_keys'])\n",
    "\n",
    "\n",
    "# Load data first when starting server.\n",
    "load_data_topPerson()\n",
    "\n",
    "def home(request):\n",
    "    return render(request, 'app_top_person/home.html')\n",
    "\n",
    "# csrf_exempt is used for POST\n",
    "# 單獨指定這一支程式忽略csrf驗證\n",
    "@csrf_exempt\n",
    "def api_get_topPerson(request):\n",
    "\n",
    "    # chart_data, wf_pairs = get_category_topkey(\"科技\", 10) #先做簡單的測試\n",
    "\n",
    "    cate = request.POST.get('news_category')\n",
    "    topk = request.POST.get('topk')\n",
    "    topk = int(topk)\n",
    "    #print(cate, topk)\n",
    "\n",
    "    chart_data, wf_pairs = get_category_topPerson(cate, topk)\n",
    "\n",
    "    # print(chart_data)\n",
    "    response = {'chart_data':  chart_data,\n",
    "                'wf_pairs': wf_pairs,\n",
    "                }\n",
    "    return JsonResponse(response)\n",
    "\n",
    "\n",
    "def get_category_topPerson(cate, topk):\n",
    "    wf_pairs = data[cate][0:topk]\n",
    "    words = [w for w, f in wf_pairs]\n",
    "    freqs = [f for w, f in wf_pairs]\n",
    "    chart_data = {\n",
    "        \"category\": cate,\n",
    "        \"labels\": words,\n",
    "        \"values\": freqs}\n",
    "    return chart_data, wf_pairs  # chart_data is for charting\n",
    "\n",
    "\n",
    "print(\"app_news_analysis--類別熱門人物載入成功!\")"
   ]
  },
  {
   "cell_type": "code",
   "execution_count": null,
   "metadata": {},
   "outputs": [],
   "source": []
  },
  {
   "cell_type": "raw",
   "metadata": {},
   "source": [
    "# For your reference\n",
    "# Alternative code for the same function\n",
    "def get_category_topkey(cate, topk=10):\n",
    "    keys = df_data.loc[df_data['category'] == cate]\n",
    "    wf_pairs = eval(keys['top_keys'].values[0])\n",
    "    wf_pairs = wf_pairs[0:topk]\n",
    "    words = [w for w, f in wf_pairs]\n",
    "    freqs = [f for w, f in wf_pairs]\n",
    "    chart_data = {\n",
    "        \"category\": cate,\n",
    "        \"labels\": words,\n",
    "        \"values\": freqs}\n",
    "    return chart_data, wf_pairs"
   ]
  },
  {
   "cell_type": "code",
   "execution_count": null,
   "metadata": {},
   "outputs": [],
   "source": []
  }
 ],
 "metadata": {
  "kernelspec": {
   "display_name": "Python 3",
   "language": "python",
   "name": "python3"
  },
  "language_info": {
   "codemirror_mode": {
    "name": "ipython",
    "version": 3
   },
   "file_extension": ".py",
   "mimetype": "text/x-python",
   "name": "python",
   "nbconvert_exporter": "python",
   "pygments_lexer": "ipython3",
   "version": "3.8.16"
  },
  "toc": {
   "base_numbering": 1,
   "nav_menu": {},
   "number_sections": true,
   "sideBar": true,
   "skip_h1_title": false,
   "title_cell": "Table of Contents",
   "title_sidebar": "Contents",
   "toc_cell": false,
   "toc_position": {},
   "toc_section_display": true,
   "toc_window_display": false
  }
 },
 "nbformat": 4,
 "nbformat_minor": 2
}
