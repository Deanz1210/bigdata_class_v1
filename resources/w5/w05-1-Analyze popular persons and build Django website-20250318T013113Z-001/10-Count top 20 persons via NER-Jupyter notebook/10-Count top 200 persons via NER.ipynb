{
 "cells": [
  {
   "cell_type": "markdown",
   "metadata": {
    "collapsed": true
   },
   "source": [
    "# Count top 200 persons via NER\n",
    "\n",
    "\n",
    "We want to display top person names via NER.\n",
    "\n",
    "NER實體命名辨識的結果有人名可以善加利用!\n"
   ]
  },
  {
   "cell_type": "markdown",
   "metadata": {},
   "source": [
    "# Read data"
   ]
  },
  {
   "cell_type": "code",
   "execution_count": 1,
   "metadata": {},
   "outputs": [],
   "source": [
    "import pandas as pd"
   ]
  },
  {
   "cell_type": "code",
   "execution_count": 2,
   "metadata": {},
   "outputs": [],
   "source": [
    "df = pd.read_csv('cna_news_preprocessed.csv',sep='|')"
   ]
  },
  {
   "cell_type": "code",
   "execution_count": 3,
   "metadata": {},
   "outputs": [
    {
     "data": {
      "text/html": [
       "<div>\n",
       "<style scoped>\n",
       "    .dataframe tbody tr th:only-of-type {\n",
       "        vertical-align: middle;\n",
       "    }\n",
       "\n",
       "    .dataframe tbody tr th {\n",
       "        vertical-align: top;\n",
       "    }\n",
       "\n",
       "    .dataframe thead th {\n",
       "        text-align: right;\n",
       "    }\n",
       "</style>\n",
       "<table border=\"1\" class=\"dataframe\">\n",
       "  <thead>\n",
       "    <tr style=\"text-align: right;\">\n",
       "      <th></th>\n",
       "      <th>item_id</th>\n",
       "      <th>date</th>\n",
       "      <th>category</th>\n",
       "      <th>title</th>\n",
       "      <th>content</th>\n",
       "      <th>sentiment</th>\n",
       "      <th>summary</th>\n",
       "      <th>top_key_freq</th>\n",
       "      <th>tokens</th>\n",
       "      <th>tokens_v2</th>\n",
       "      <th>entities</th>\n",
       "      <th>token_pos</th>\n",
       "      <th>link</th>\n",
       "      <th>photo_link</th>\n",
       "    </tr>\n",
       "  </thead>\n",
       "  <tbody>\n",
       "    <tr>\n",
       "      <th>0</th>\n",
       "      <td>aipl_20220314_1</td>\n",
       "      <td>2022/03/14 21:38</td>\n",
       "      <td>政治</td>\n",
       "      <td>外交部援烏物資已募4000箱 吳釗燮感謝捐贈民眾</td>\n",
       "      <td>民眾捐贈烏克蘭的愛心物資持續湧入外交部，截至今天傍晚累計已收到約4000箱，外交部長吳釗燮中...</td>\n",
       "      <td>0.01</td>\n",
       "      <td>['外交部除感謝熱心民眾踴躍捐贈援助烏克蘭人道物資外', '親赴外交部捐贈物資的民眾約173...</td>\n",
       "      <td>[('外交部', 14), ('民眾', 7), ('物資', 7), ('烏克蘭', 5)...</td>\n",
       "      <td>['民眾', '捐贈', '烏克蘭', '的', '愛心', '物資', '持續', '湧入...</td>\n",
       "      <td>['民眾', '烏克蘭', '愛心', '物資', '外交部', '收到', '外交部長',...</td>\n",
       "      <td>[NerToken(word='烏克蘭', ner='GPE', idx=(4, 7)), ...</td>\n",
       "      <td>[('民眾', 'Na'), ('捐贈', 'VD'), ('烏克蘭', 'Nc'), ('...</td>\n",
       "      <td>https://www.cna.com.tw/news/aipl/202203140364....</td>\n",
       "      <td>https://imgcdn.cna.com.tw/www/WebPhotos/200/20...</td>\n",
       "    </tr>\n",
       "  </tbody>\n",
       "</table>\n",
       "</div>"
      ],
      "text/plain": [
       "           item_id              date category                     title  \\\n",
       "0  aipl_20220314_1  2022/03/14 21:38       政治  外交部援烏物資已募4000箱 吳釗燮感謝捐贈民眾   \n",
       "\n",
       "                                             content  sentiment  \\\n",
       "0  民眾捐贈烏克蘭的愛心物資持續湧入外交部，截至今天傍晚累計已收到約4000箱，外交部長吳釗燮中...       0.01   \n",
       "\n",
       "                                             summary  \\\n",
       "0  ['外交部除感謝熱心民眾踴躍捐贈援助烏克蘭人道物資外', '親赴外交部捐贈物資的民眾約173...   \n",
       "\n",
       "                                        top_key_freq  \\\n",
       "0  [('外交部', 14), ('民眾', 7), ('物資', 7), ('烏克蘭', 5)...   \n",
       "\n",
       "                                              tokens  \\\n",
       "0  ['民眾', '捐贈', '烏克蘭', '的', '愛心', '物資', '持續', '湧入...   \n",
       "\n",
       "                                           tokens_v2  \\\n",
       "0  ['民眾', '烏克蘭', '愛心', '物資', '外交部', '收到', '外交部長',...   \n",
       "\n",
       "                                            entities  \\\n",
       "0  [NerToken(word='烏克蘭', ner='GPE', idx=(4, 7)), ...   \n",
       "\n",
       "                                           token_pos  \\\n",
       "0  [('民眾', 'Na'), ('捐贈', 'VD'), ('烏克蘭', 'Nc'), ('...   \n",
       "\n",
       "                                                link  \\\n",
       "0  https://www.cna.com.tw/news/aipl/202203140364....   \n",
       "\n",
       "                                          photo_link  \n",
       "0  https://imgcdn.cna.com.tw/www/WebPhotos/200/20...  "
      ]
     },
     "execution_count": 3,
     "metadata": {},
     "output_type": "execute_result"
    }
   ],
   "source": [
    "df.head(1)"
   ]
  },
  {
   "cell_type": "code",
   "execution_count": null,
   "metadata": {},
   "outputs": [],
   "source": []
  },
  {
   "cell_type": "raw",
   "metadata": {},
   "source": [
    "\n",
    "Name\tDescription\n",
    "CARDINAL\t數字\n",
    "DATE\t日期\n",
    "EVENT\t事件\n",
    "FAC\t設施\n",
    "GPE\t行政區\n",
    "LANGUAGE\t語言\n",
    "LAW\t法律\n",
    "LOC\t地理區\n",
    "MONEY\t金錢\n",
    "NORP\t民族、宗教、政治團體\n",
    "ORDINAL\t序數\n",
    "ORG\t組織\n",
    "PERCENT\t百分比率\n",
    "PERSON\t人物\n",
    "PRODUCT\t產品\n",
    "QUANTITY\t數量\n",
    "TIME\t時間\n",
    "WORK_OF_ART\t作品"
   ]
  },
  {
   "cell_type": "code",
   "execution_count": 4,
   "metadata": {},
   "outputs": [
    {
     "data": {
      "text/plain": [
       "\"[NerToken(word='烏克蘭', ner='GPE', idx=(4, 7)), NerToken(word='外交部', ner='ORG', idx=(16, 19)), NerToken(word='傍晚', ner='TIME', idx=(24, 26)), NerToken(word='4000', ner='CARDINAL', idx=(32, 36)), NerToken(word='外交部長', ner='ORG', idx=(38, 42)), NerToken(word='吳釗燮', ner='PERSON', idx=(42, 45)), NerToken(word='中午', ner='TIME', idx=(45, 47)), NerToken(word='外交部', ner='ORG', idx=(76, 79)), NerToken(word='晚間', ner='TIME', idx=(79, 81)), NerToken(word='外交部', ner='ORG', idx=(89, 92)), NerToken(word='7日', ner='DATE', idx=(93, 95)), NerToken(word='烏克蘭', ner='NORP', idx=(104, 107)), NerToken(word='外交部', ner='ORG', idx=(122, 125)), NerToken(word='1730', ner='CARDINAL', idx=(133, 137)), NerToken(word='4000', ner='CARDINAL', idx=(152, 156)), NerToken(word='18日', ner='DATE', idx=(195, 198)), NerToken(word='外交部', ner='ORG', idx=(199, 202)), NerToken(word='外交部', ner='ORG', idx=(228, 231)), NerToken(word='吳釗燮', ner='PERSON', idx=(234, 237)), NerToken(word='今天', ner='DATE', idx=(237, 239)), NerToken(word='中午', ner='TIME', idx=(239, 241)), NerToken(word='外交部', ner='ORG', idx=(245, 248)), NerToken(word='吳釗燮', ner='PERSON', idx=(259, 262)), NerToken(word='慈濟', ner='ORG', idx=(266, 268)), NerToken(word='烏克蘭', ner='NORP', idx=(302, 305)), NerToken(word='吳釗燮', ner='PERSON', idx=(321, 324)), NerToken(word='外交部', ner='ORG', idx=(333, 336)), NerToken(word='烏克蘭', ner='NORP', idx=(347, 350)), NerToken(word='外交部', ner='ORG', idx=(367, 370)), NerToken(word='外交部', ner='ORG', idx=(391, 394)), NerToken(word='外交部', ner='ORG', idx=(422, 425)), NerToken(word='6個月', ner='DATE', idx=(449, 452)), NerToken(word='3月18日', ner='DATE', idx=(479, 484)), NerToken(word='下午', ner='TIME', idx=(484, 486)), NerToken(word='5時', ner='TIME', idx=(486, 488)), NerToken(word='20', ner='CARDINAL', idx=(506, 508)), NerToken(word='外交部', ner='ORG', idx=(520, 523)), NerToken(word='外交部', ner='ORG', idx=(524, 527)), NerToken(word='烏克蘭', ner='NORP', idx=(540, 543)), NerToken(word='外交部', ner='ORG', idx=(566, 569))]\""
      ]
     },
     "execution_count": 4,
     "metadata": {},
     "output_type": "execute_result"
    }
   ],
   "source": [
    "# Take a look at the named entities of the first news \n",
    "df.entities[0]"
   ]
  },
  {
   "cell_type": "code",
   "execution_count": 5,
   "metadata": {},
   "outputs": [],
   "source": [
    "# NerToken(word='烏克蘭', ner='GPE', idx=(4, 7))  # call function NerToken with three parameters: word, ner, and idx\n",
    "def NerToken(word, ner, idx):\n",
    "    # print(ner,word)\n",
    "    return ner,word\n"
   ]
  },
  {
   "cell_type": "code",
   "execution_count": 6,
   "metadata": {},
   "outputs": [
    {
     "data": {
      "text/plain": [
       "('GPE', '烏克蘭')"
      ]
     },
     "execution_count": 6,
     "metadata": {},
     "output_type": "execute_result"
    }
   ],
   "source": [
    "# call function NerToken with three parameters: word, ner, and idx\n",
    "# 回傳 關鍵字 與 NER\n",
    "NerToken(word='烏克蘭', ner='GPE', idx=(4, 7))"
   ]
  },
  {
   "cell_type": "code",
   "execution_count": 7,
   "metadata": {},
   "outputs": [
    {
     "data": {
      "text/plain": [
       "[('GPE', '烏克蘭'),\n",
       " ('ORG', '外交部'),\n",
       " ('TIME', '傍晚'),\n",
       " ('CARDINAL', '4000'),\n",
       " ('ORG', '外交部長'),\n",
       " ('PERSON', '吳釗燮'),\n",
       " ('TIME', '中午'),\n",
       " ('ORG', '外交部'),\n",
       " ('TIME', '晚間'),\n",
       " ('ORG', '外交部'),\n",
       " ('DATE', '7日'),\n",
       " ('NORP', '烏克蘭'),\n",
       " ('ORG', '外交部'),\n",
       " ('CARDINAL', '1730'),\n",
       " ('CARDINAL', '4000'),\n",
       " ('DATE', '18日'),\n",
       " ('ORG', '外交部'),\n",
       " ('ORG', '外交部'),\n",
       " ('PERSON', '吳釗燮'),\n",
       " ('DATE', '今天'),\n",
       " ('TIME', '中午'),\n",
       " ('ORG', '外交部'),\n",
       " ('PERSON', '吳釗燮'),\n",
       " ('ORG', '慈濟'),\n",
       " ('NORP', '烏克蘭'),\n",
       " ('PERSON', '吳釗燮'),\n",
       " ('ORG', '外交部'),\n",
       " ('NORP', '烏克蘭'),\n",
       " ('ORG', '外交部'),\n",
       " ('ORG', '外交部'),\n",
       " ('ORG', '外交部'),\n",
       " ('DATE', '6個月'),\n",
       " ('DATE', '3月18日'),\n",
       " ('TIME', '下午'),\n",
       " ('TIME', '5時'),\n",
       " ('CARDINAL', '20'),\n",
       " ('ORG', '外交部'),\n",
       " ('ORG', '外交部'),\n",
       " ('NORP', '烏克蘭'),\n",
       " ('ORG', '外交部')]"
      ]
     },
     "execution_count": 7,
     "metadata": {},
     "output_type": "execute_result"
    }
   ],
   "source": [
    "# eval評估字串中的每個物件時，遇到NerToken(word='烏克蘭', ner='GPE', idx=(4, 7))，就會自動呼叫NerToken(word='烏克蘭', ner='GPE', idx=(4, 7))方法，而取得我們要的關鍵字、Ner\n",
    "eval(df.entities[0])"
   ]
  },
  {
   "cell_type": "code",
   "execution_count": null,
   "metadata": {},
   "outputs": [],
   "source": []
  },
  {
   "cell_type": "code",
   "execution_count": 8,
   "metadata": {},
   "outputs": [
    {
     "name": "stdout",
     "output_type": "stream",
     "text": [
      "GPE 烏克蘭\n",
      "ORG 外交部\n",
      "TIME 傍晚\n",
      "CARDINAL 4000\n",
      "ORG 外交部長\n",
      "PERSON 吳釗燮\n",
      "TIME 中午\n",
      "ORG 外交部\n",
      "TIME 晚間\n",
      "ORG 外交部\n",
      "DATE 7日\n",
      "NORP 烏克蘭\n",
      "ORG 外交部\n",
      "CARDINAL 1730\n",
      "CARDINAL 4000\n",
      "DATE 18日\n",
      "ORG 外交部\n",
      "ORG 外交部\n",
      "PERSON 吳釗燮\n",
      "DATE 今天\n",
      "TIME 中午\n",
      "ORG 外交部\n",
      "PERSON 吳釗燮\n",
      "ORG 慈濟\n",
      "NORP 烏克蘭\n",
      "PERSON 吳釗燮\n",
      "ORG 外交部\n",
      "NORP 烏克蘭\n",
      "ORG 外交部\n",
      "ORG 外交部\n",
      "ORG 外交部\n",
      "DATE 6個月\n",
      "DATE 3月18日\n",
      "TIME 下午\n",
      "TIME 5時\n",
      "CARDINAL 20\n",
      "ORG 外交部\n",
      "ORG 外交部\n",
      "NORP 烏克蘭\n",
      "ORG 外交部\n"
     ]
    }
   ],
   "source": [
    "# We need the name and keyword\n",
    "for ner,key in eval(df.entities[0]):\n",
    "    print(ner,key)"
   ]
  },
  {
   "cell_type": "code",
   "execution_count": null,
   "metadata": {},
   "outputs": [],
   "source": []
  },
  {
   "cell_type": "code",
   "execution_count": 9,
   "metadata": {},
   "outputs": [],
   "source": [
    "from collections import Counter"
   ]
  },
  {
   "cell_type": "raw",
   "metadata": {},
   "source": [
    "CARDINAL\t數字\n",
    "DATE\t日期\n",
    "EVENT\t事件\n",
    "FAC\t設施\n",
    "GPE\t行政區\n",
    "LANGUAGE\t語言\n",
    "LAW\t法律\n",
    "LOC\t地理區\n",
    "MONEY\t金錢\n",
    "NORP\t民族、宗教、政治團體\n",
    "ORDINAL\t序數\n",
    "ORG\t組織\n",
    "PERCENT\t百分比率\n",
    "PERSON\t人物\n",
    "PRODUCT\t產品\n",
    "QUANTITY\t數量\n",
    "TIME\t時間\n",
    "WORK_OF_ART\t作品"
   ]
  },
  {
   "cell_type": "code",
   "execution_count": null,
   "metadata": {},
   "outputs": [],
   "source": []
  },
  {
   "cell_type": "code",
   "execution_count": 11,
   "metadata": {},
   "outputs": [],
   "source": [
    "# Filter condition: two words and specified NE\n",
    "# 過濾條件:兩個字以上 特定的詞性\n",
    "allowedNE=['PERSON']\n",
    "#allowedNE=['PRODUCT']"
   ]
  },
  {
   "cell_type": "code",
   "execution_count": 12,
   "metadata": {},
   "outputs": [],
   "source": [
    "filtered_words =[]\n",
    "for ner,word in eval(df.entities[0]):\n",
    "    if (len(word) >= 2) & (ner in allowedNE):\n",
    "        filtered_words.append(word)"
   ]
  },
  {
   "cell_type": "code",
   "execution_count": 13,
   "metadata": {},
   "outputs": [
    {
     "data": {
      "text/plain": [
       "['吳釗燮', '吳釗燮', '吳釗燮', '吳釗燮']"
      ]
     },
     "execution_count": 13,
     "metadata": {},
     "output_type": "execute_result"
    }
   ],
   "source": [
    "filtered_words"
   ]
  },
  {
   "cell_type": "code",
   "execution_count": 14,
   "metadata": {},
   "outputs": [
    {
     "data": {
      "text/plain": [
       "[('吳釗燮', 4)]"
      ]
     },
     "execution_count": 14,
     "metadata": {},
     "output_type": "execute_result"
    }
   ],
   "source": [
    "counter = Counter( filtered_words )\n",
    "counter.most_common( 200 )"
   ]
  },
  {
   "cell_type": "code",
   "execution_count": null,
   "metadata": {},
   "outputs": [],
   "source": []
  },
  {
   "cell_type": "markdown",
   "metadata": {},
   "source": [
    "# Define a function to count top 200 word frequency from entities for a piece of news"
   ]
  },
  {
   "cell_type": "code",
   "execution_count": 15,
   "metadata": {},
   "outputs": [],
   "source": [
    "def ne_word_frequency( a_news_ne ):\n",
    "    filtered_words =[]\n",
    "    for ner,word in a_news_ne:\n",
    "        if (len(word) >= 2) & (ner in allowedNE):\n",
    "            filtered_words.append(word)\n",
    "    counter = Counter( filtered_words )\n",
    "    return counter.most_common( 200 )"
   ]
  },
  {
   "cell_type": "code",
   "execution_count": 16,
   "metadata": {
    "scrolled": true
   },
   "outputs": [
    {
     "data": {
      "text/plain": [
       "[('吳釗燮', 4)]"
      ]
     },
     "execution_count": 16,
     "metadata": {},
     "output_type": "execute_result"
    }
   ],
   "source": [
    "ne_word_frequency(eval(df.entities[0]))"
   ]
  },
  {
   "cell_type": "code",
   "execution_count": 17,
   "metadata": {
    "scrolled": true
   },
   "outputs": [
    {
     "data": {
      "text/plain": [
       "[('許邁德', 2), ('黃重凱', 1), ('柳惠千', 1), ('朱冠甍', 1)]"
      ]
     },
     "execution_count": 17,
     "metadata": {},
     "output_type": "execute_result"
    }
   ],
   "source": [
    "ne_word_frequency(eval(df.entities[1]))"
   ]
  },
  {
   "cell_type": "code",
   "execution_count": null,
   "metadata": {},
   "outputs": [],
   "source": []
  },
  {
   "cell_type": "markdown",
   "metadata": {},
   "source": [
    "## How to calculate frequency a couple of news?\n",
    "### Concatenate (add or combine) two lists"
   ]
  },
  {
   "cell_type": "code",
   "execution_count": 18,
   "metadata": {},
   "outputs": [],
   "source": [
    "# Let's define a empty list to store NEs of a news category\n",
    "ne_group=[]"
   ]
  },
  {
   "cell_type": "code",
   "execution_count": 19,
   "metadata": {},
   "outputs": [],
   "source": [
    "# concatenate the first NE list\n",
    "ne_group+=eval(df.entities[0]) "
   ]
  },
  {
   "cell_type": "code",
   "execution_count": 20,
   "metadata": {},
   "outputs": [
    {
     "data": {
      "text/plain": [
       "[('GPE', '烏克蘭'),\n",
       " ('ORG', '外交部'),\n",
       " ('TIME', '傍晚'),\n",
       " ('CARDINAL', '4000'),\n",
       " ('ORG', '外交部長'),\n",
       " ('PERSON', '吳釗燮'),\n",
       " ('TIME', '中午'),\n",
       " ('ORG', '外交部'),\n",
       " ('TIME', '晚間'),\n",
       " ('ORG', '外交部'),\n",
       " ('DATE', '7日'),\n",
       " ('NORP', '烏克蘭'),\n",
       " ('ORG', '外交部'),\n",
       " ('CARDINAL', '1730'),\n",
       " ('CARDINAL', '4000'),\n",
       " ('DATE', '18日'),\n",
       " ('ORG', '外交部'),\n",
       " ('ORG', '外交部'),\n",
       " ('PERSON', '吳釗燮'),\n",
       " ('DATE', '今天'),\n",
       " ('TIME', '中午'),\n",
       " ('ORG', '外交部'),\n",
       " ('PERSON', '吳釗燮'),\n",
       " ('ORG', '慈濟'),\n",
       " ('NORP', '烏克蘭'),\n",
       " ('PERSON', '吳釗燮'),\n",
       " ('ORG', '外交部'),\n",
       " ('NORP', '烏克蘭'),\n",
       " ('ORG', '外交部'),\n",
       " ('ORG', '外交部'),\n",
       " ('ORG', '外交部'),\n",
       " ('DATE', '6個月'),\n",
       " ('DATE', '3月18日'),\n",
       " ('TIME', '下午'),\n",
       " ('TIME', '5時'),\n",
       " ('CARDINAL', '20'),\n",
       " ('ORG', '外交部'),\n",
       " ('ORG', '外交部'),\n",
       " ('NORP', '烏克蘭'),\n",
       " ('ORG', '外交部')]"
      ]
     },
     "execution_count": 20,
     "metadata": {},
     "output_type": "execute_result"
    }
   ],
   "source": [
    "ne_group"
   ]
  },
  {
   "cell_type": "code",
   "execution_count": 21,
   "metadata": {},
   "outputs": [],
   "source": [
    "# concatenate the second NE list\n",
    "ne_group += eval(df.entities[1]) "
   ]
  },
  {
   "cell_type": "code",
   "execution_count": 22,
   "metadata": {},
   "outputs": [
    {
     "data": {
      "text/plain": [
       "[('GPE', '烏克蘭'),\n",
       " ('ORG', '外交部'),\n",
       " ('TIME', '傍晚'),\n",
       " ('CARDINAL', '4000'),\n",
       " ('ORG', '外交部長'),\n",
       " ('PERSON', '吳釗燮'),\n",
       " ('TIME', '中午'),\n",
       " ('ORG', '外交部'),\n",
       " ('TIME', '晚間'),\n",
       " ('ORG', '外交部'),\n",
       " ('DATE', '7日'),\n",
       " ('NORP', '烏克蘭'),\n",
       " ('ORG', '外交部'),\n",
       " ('CARDINAL', '1730'),\n",
       " ('CARDINAL', '4000'),\n",
       " ('DATE', '18日'),\n",
       " ('ORG', '外交部'),\n",
       " ('ORG', '外交部'),\n",
       " ('PERSON', '吳釗燮'),\n",
       " ('DATE', '今天'),\n",
       " ('TIME', '中午'),\n",
       " ('ORG', '外交部'),\n",
       " ('PERSON', '吳釗燮'),\n",
       " ('ORG', '慈濟'),\n",
       " ('NORP', '烏克蘭'),\n",
       " ('PERSON', '吳釗燮'),\n",
       " ('ORG', '外交部'),\n",
       " ('NORP', '烏克蘭'),\n",
       " ('ORG', '外交部'),\n",
       " ('ORG', '外交部'),\n",
       " ('ORG', '外交部'),\n",
       " ('DATE', '6個月'),\n",
       " ('DATE', '3月18日'),\n",
       " ('TIME', '下午'),\n",
       " ('TIME', '5時'),\n",
       " ('CARDINAL', '20'),\n",
       " ('ORG', '外交部'),\n",
       " ('ORG', '外交部'),\n",
       " ('NORP', '烏克蘭'),\n",
       " ('ORG', '外交部'),\n",
       " ('DATE', '今天'),\n",
       " ('QUANTITY', '2000呎'),\n",
       " ('FAC', '新竹空軍基地'),\n",
       " ('CARDINAL', '2000'),\n",
       " ('TIME', '上午'),\n",
       " ('GPE', '台東'),\n",
       " ('PERSON', '黃重凱'),\n",
       " ('PERSON', '柳惠千'),\n",
       " ('TIME', '下午'),\n",
       " ('QUANTITY', '2000呎'),\n",
       " ('QUANTITY', '2000呎'),\n",
       " ('PERSON', '朱冠甍'),\n",
       " ('DATE', '民國109年'),\n",
       " ('PERSON', '許邁德'),\n",
       " ('GPE', '英國'),\n",
       " ('GPE', '美國'),\n",
       " ('PERSON', '許邁德'),\n",
       " ('QUANTITY', '1500呎'),\n",
       " ('QUANTITY', '150浬')]"
      ]
     },
     "execution_count": 22,
     "metadata": {},
     "output_type": "execute_result"
    }
   ],
   "source": [
    "ne_group"
   ]
  },
  {
   "cell_type": "code",
   "execution_count": null,
   "metadata": {},
   "outputs": [],
   "source": []
  },
  {
   "cell_type": "code",
   "execution_count": null,
   "metadata": {},
   "outputs": [],
   "source": []
  },
  {
   "cell_type": "markdown",
   "metadata": {},
   "source": [
    "# Count top 200 word frequencies for each category"
   ]
  },
  {
   "cell_type": "code",
   "execution_count": 23,
   "metadata": {},
   "outputs": [],
   "source": [
    "news_categories=['政治','科技','運動','證卷','產經','娛樂','生活','國際','社會','文化','兩岸']"
   ]
  },
  {
   "cell_type": "code",
   "execution_count": 25,
   "metadata": {},
   "outputs": [],
   "source": [
    "\n",
    "# The categorial word freqencies are keep in this dict. \n",
    "top_cate_ne_words={}\n",
    "\n",
    "# Define a empty list to store all NEs in all categories \"全部\"\n",
    "ne_all=[]\n",
    "\n",
    "for category in news_categories:\n",
    "    \n",
    "    df_group = df[df.category == category]\n",
    "    \n",
    "    # Define a empty list to store NEs of a news category\n",
    "    ne_group = []\n",
    "\n",
    "    # concatenate all NEs in a category\n",
    "    for ne in df_group.entities:\n",
    "        ne_group += eval(ne)\n",
    "\n",
    "    # concatenate all NEs for category \"全部\" (合併全部的詞不分類別)\n",
    "    ne_all += ne_group\n",
    "\n",
    "    # Calculate top words by calling ne_word_frequency() function\n",
    "    topwords = ne_word_frequency( ne_group )\n",
    "    \n",
    "    # Keep topwords into dict\n",
    "    top_cate_ne_words[category]=topwords\n",
    "\n",
    "# Calculate top words for category '全部'\n",
    "top_ne_all = ne_word_frequency(ne_all)\n",
    "# Add topwors of category '全部' into dict\n",
    "top_cate_ne_words['全部']=top_ne_all"
   ]
  },
  {
   "cell_type": "code",
   "execution_count": 26,
   "metadata": {},
   "outputs": [
    {
     "data": {
      "text/plain": [
       "{'政治': [('吳釗燮', 4), ('許邁德', 2), ('黃重凱', 1), ('柳惠千', 1), ('朱冠甍', 1)],\n",
       " '科技': [('王金燦', 2), ('王兆璋', 1), ('希塔拉姆', 1)],\n",
       " '運動': [('陳將双', 8),\n",
       "  ('樂天', 3),\n",
       "  ('岱縈', 2),\n",
       "  ('筠熹', 2),\n",
       "  ('浦韋青', 1),\n",
       "  ('胡瓜', 1),\n",
       "  ('林襄', 1),\n",
       "  ('霖霖', 1),\n",
       "  ('伊婷（Kira）', 1),\n",
       "  ('詩媛', 1),\n",
       "  ('佳琳', 1),\n",
       "  ('雅涵', 1),\n",
       "  ('婉卉', 1),\n",
       "  ('宋宋', 1)],\n",
       " '證卷': [('葉獻文', 2), ('林耕億', 2)],\n",
       " '產經': [('杜書全', 5), ('蘇松輝', 4), ('丁予嘉', 1), ('魏啟林', 1)],\n",
       " '娛樂': [('林暉閔', 7),\n",
       "  ('黃新皓', 6),\n",
       "  ('郭宇宸', 3),\n",
       "  ('林煒傑', 1),\n",
       "  ('李見騰', 1),\n",
       "  ('黃云歆', 1),\n",
       "  ('葉泓毅', 1),\n",
       "  ('郝心翔', 1),\n",
       "  ('柏霖', 1),\n",
       "  ('林郁智', 1),\n",
       "  ('阿Ken', 1),\n",
       "  ('林暐恆', 1),\n",
       "  ('徐熙娣', 1),\n",
       "  ('黃路梓茵', 1),\n",
       "  ('陳嘉樺', 1),\n",
       "  ('彭佳慧', 1),\n",
       "  ('藍心湄', 1),\n",
       "  ('張可昀', 1),\n",
       "  ('侯友宜', 1)],\n",
       " '生活': [('陳時中', 7)],\n",
       " '國際': [('阿布拉莫維奇', 3),\n",
       "  ('切爾西', 2),\n",
       "  ('潘恩', 2),\n",
       "  ('蒲亭', 2),\n",
       "  ('拉夫羅夫', 2),\n",
       "  ('阿布杜拉希安', 2),\n",
       "  ('哈蒂柏札德', 2),\n",
       "  ('布魯塞爾', 1),\n",
       "  ('Marise Payne）', 1),\n",
       "  ('米勒', 1),\n",
       "  ('Alexey Miller）', 1),\n",
       "  ('穆罕穆德', 1),\n",
       "  ('Sheikh ', 1),\n",
       "  ('波瑞爾', 1),\n",
       "  ('普萊斯', 1)],\n",
       " '社會': [('戴寧', 2)],\n",
       " '文化': [('平珩', 10), ('陳悅宜', 3), ('李安', 2), ('譚盾', 2), ('瑪芮娜', 1), ('羅曼菲', 1)],\n",
       " '兩岸': [('雷正龍', 3), ('林柏偉', 1), ('林伯偉', 1), ('黃守應', 1), ('王長青', 1)],\n",
       " '全部': [('平珩', 10),\n",
       "  ('陳將双', 8),\n",
       "  ('林暉閔', 7),\n",
       "  ('陳時中', 7),\n",
       "  ('黃新皓', 6),\n",
       "  ('杜書全', 5),\n",
       "  ('吳釗燮', 4),\n",
       "  ('蘇松輝', 4),\n",
       "  ('樂天', 3),\n",
       "  ('郭宇宸', 3),\n",
       "  ('阿布拉莫維奇', 3),\n",
       "  ('陳悅宜', 3),\n",
       "  ('雷正龍', 3),\n",
       "  ('許邁德', 2),\n",
       "  ('王金燦', 2),\n",
       "  ('岱縈', 2),\n",
       "  ('筠熹', 2),\n",
       "  ('葉獻文', 2),\n",
       "  ('林耕億', 2),\n",
       "  ('切爾西', 2),\n",
       "  ('潘恩', 2),\n",
       "  ('蒲亭', 2),\n",
       "  ('拉夫羅夫', 2),\n",
       "  ('阿布杜拉希安', 2),\n",
       "  ('哈蒂柏札德', 2),\n",
       "  ('戴寧', 2),\n",
       "  ('李安', 2),\n",
       "  ('譚盾', 2),\n",
       "  ('黃重凱', 1),\n",
       "  ('柳惠千', 1),\n",
       "  ('朱冠甍', 1),\n",
       "  ('王兆璋', 1),\n",
       "  ('希塔拉姆', 1),\n",
       "  ('浦韋青', 1),\n",
       "  ('胡瓜', 1),\n",
       "  ('林襄', 1),\n",
       "  ('霖霖', 1),\n",
       "  ('伊婷（Kira）', 1),\n",
       "  ('詩媛', 1),\n",
       "  ('佳琳', 1),\n",
       "  ('雅涵', 1),\n",
       "  ('婉卉', 1),\n",
       "  ('宋宋', 1),\n",
       "  ('丁予嘉', 1),\n",
       "  ('魏啟林', 1),\n",
       "  ('林煒傑', 1),\n",
       "  ('李見騰', 1),\n",
       "  ('黃云歆', 1),\n",
       "  ('葉泓毅', 1),\n",
       "  ('郝心翔', 1),\n",
       "  ('柏霖', 1),\n",
       "  ('林郁智', 1),\n",
       "  ('阿Ken', 1),\n",
       "  ('林暐恆', 1),\n",
       "  ('徐熙娣', 1),\n",
       "  ('黃路梓茵', 1),\n",
       "  ('陳嘉樺', 1),\n",
       "  ('彭佳慧', 1),\n",
       "  ('藍心湄', 1),\n",
       "  ('張可昀', 1),\n",
       "  ('侯友宜', 1),\n",
       "  ('布魯塞爾', 1),\n",
       "  ('Marise Payne）', 1),\n",
       "  ('米勒', 1),\n",
       "  ('Alexey Miller）', 1),\n",
       "  ('穆罕穆德', 1),\n",
       "  ('Sheikh ', 1),\n",
       "  ('波瑞爾', 1),\n",
       "  ('普萊斯', 1),\n",
       "  ('瑪芮娜', 1),\n",
       "  ('羅曼菲', 1),\n",
       "  ('林柏偉', 1),\n",
       "  ('林伯偉', 1),\n",
       "  ('黃守應', 1),\n",
       "  ('王長青', 1)]}"
      ]
     },
     "execution_count": 26,
     "metadata": {},
     "output_type": "execute_result"
    }
   ],
   "source": [
    "top_cate_ne_words"
   ]
  },
  {
   "cell_type": "code",
   "execution_count": 27,
   "metadata": {},
   "outputs": [
    {
     "data": {
      "text/plain": [
       "dict_items([('政治', [('吳釗燮', 4), ('許邁德', 2), ('黃重凱', 1), ('柳惠千', 1), ('朱冠甍', 1)]), ('科技', [('王金燦', 2), ('王兆璋', 1), ('希塔拉姆', 1)]), ('運動', [('陳將双', 8), ('樂天', 3), ('岱縈', 2), ('筠熹', 2), ('浦韋青', 1), ('胡瓜', 1), ('林襄', 1), ('霖霖', 1), ('伊婷（Kira）', 1), ('詩媛', 1), ('佳琳', 1), ('雅涵', 1), ('婉卉', 1), ('宋宋', 1)]), ('證卷', [('葉獻文', 2), ('林耕億', 2)]), ('產經', [('杜書全', 5), ('蘇松輝', 4), ('丁予嘉', 1), ('魏啟林', 1)]), ('娛樂', [('林暉閔', 7), ('黃新皓', 6), ('郭宇宸', 3), ('林煒傑', 1), ('李見騰', 1), ('黃云歆', 1), ('葉泓毅', 1), ('郝心翔', 1), ('柏霖', 1), ('林郁智', 1), ('阿Ken', 1), ('林暐恆', 1), ('徐熙娣', 1), ('黃路梓茵', 1), ('陳嘉樺', 1), ('彭佳慧', 1), ('藍心湄', 1), ('張可昀', 1), ('侯友宜', 1)]), ('生活', [('陳時中', 7)]), ('國際', [('阿布拉莫維奇', 3), ('切爾西', 2), ('潘恩', 2), ('蒲亭', 2), ('拉夫羅夫', 2), ('阿布杜拉希安', 2), ('哈蒂柏札德', 2), ('布魯塞爾', 1), ('Marise Payne）', 1), ('米勒', 1), ('Alexey Miller）', 1), ('穆罕穆德', 1), ('Sheikh ', 1), ('波瑞爾', 1), ('普萊斯', 1)]), ('社會', [('戴寧', 2)]), ('文化', [('平珩', 10), ('陳悅宜', 3), ('李安', 2), ('譚盾', 2), ('瑪芮娜', 1), ('羅曼菲', 1)]), ('兩岸', [('雷正龍', 3), ('林柏偉', 1), ('林伯偉', 1), ('黃守應', 1), ('王長青', 1)]), ('全部', [('平珩', 10), ('陳將双', 8), ('林暉閔', 7), ('陳時中', 7), ('黃新皓', 6), ('杜書全', 5), ('吳釗燮', 4), ('蘇松輝', 4), ('樂天', 3), ('郭宇宸', 3), ('阿布拉莫維奇', 3), ('陳悅宜', 3), ('雷正龍', 3), ('許邁德', 2), ('王金燦', 2), ('岱縈', 2), ('筠熹', 2), ('葉獻文', 2), ('林耕億', 2), ('切爾西', 2), ('潘恩', 2), ('蒲亭', 2), ('拉夫羅夫', 2), ('阿布杜拉希安', 2), ('哈蒂柏札德', 2), ('戴寧', 2), ('李安', 2), ('譚盾', 2), ('黃重凱', 1), ('柳惠千', 1), ('朱冠甍', 1), ('王兆璋', 1), ('希塔拉姆', 1), ('浦韋青', 1), ('胡瓜', 1), ('林襄', 1), ('霖霖', 1), ('伊婷（Kira）', 1), ('詩媛', 1), ('佳琳', 1), ('雅涵', 1), ('婉卉', 1), ('宋宋', 1), ('丁予嘉', 1), ('魏啟林', 1), ('林煒傑', 1), ('李見騰', 1), ('黃云歆', 1), ('葉泓毅', 1), ('郝心翔', 1), ('柏霖', 1), ('林郁智', 1), ('阿Ken', 1), ('林暐恆', 1), ('徐熙娣', 1), ('黃路梓茵', 1), ('陳嘉樺', 1), ('彭佳慧', 1), ('藍心湄', 1), ('張可昀', 1), ('侯友宜', 1), ('布魯塞爾', 1), ('Marise Payne）', 1), ('米勒', 1), ('Alexey Miller）', 1), ('穆罕穆德', 1), ('Sheikh ', 1), ('波瑞爾', 1), ('普萊斯', 1), ('瑪芮娜', 1), ('羅曼菲', 1), ('林柏偉', 1), ('林伯偉', 1), ('黃守應', 1), ('王長青', 1)])])"
      ]
     },
     "execution_count": 27,
     "metadata": {},
     "output_type": "execute_result"
    }
   ],
   "source": [
    "top_cate_ne_words.items()"
   ]
  },
  {
   "cell_type": "markdown",
   "metadata": {},
   "source": [
    "### To conveniently save data using pandas, we should convert dict to list."
   ]
  },
  {
   "cell_type": "code",
   "execution_count": 25,
   "metadata": {},
   "outputs": [
    {
     "data": {
      "text/plain": [
       "[('政治', [('吳釗燮', 4), ('許邁德', 2), ('黃重凱', 1), ('柳惠千', 1), ('朱冠甍', 1)]),\n",
       " ('科技', [('王金燦', 2), ('王兆璋', 1), ('希塔拉姆', 1)]),\n",
       " ('運動',\n",
       "  [('陳將双', 8),\n",
       "   ('樂天', 3),\n",
       "   ('岱縈', 2),\n",
       "   ('筠熹', 2),\n",
       "   ('浦韋青', 1),\n",
       "   ('胡瓜', 1),\n",
       "   ('林襄', 1),\n",
       "   ('霖霖', 1),\n",
       "   ('伊婷（Kira）', 1),\n",
       "   ('詩媛', 1),\n",
       "   ('佳琳', 1),\n",
       "   ('雅涵', 1),\n",
       "   ('婉卉', 1),\n",
       "   ('宋宋', 1)]),\n",
       " ('證卷', [('葉獻文', 2), ('林耕億', 2)]),\n",
       " ('產經', [('杜書全', 5), ('蘇松輝', 4), ('丁予嘉', 1), ('魏啟林', 1)]),\n",
       " ('娛樂',\n",
       "  [('林暉閔', 7),\n",
       "   ('黃新皓', 6),\n",
       "   ('郭宇宸', 3),\n",
       "   ('林煒傑', 1),\n",
       "   ('李見騰', 1),\n",
       "   ('黃云歆', 1),\n",
       "   ('葉泓毅', 1),\n",
       "   ('郝心翔', 1),\n",
       "   ('柏霖', 1),\n",
       "   ('林郁智', 1),\n",
       "   ('阿Ken', 1),\n",
       "   ('林暐恆', 1),\n",
       "   ('徐熙娣', 1),\n",
       "   ('黃路梓茵', 1),\n",
       "   ('陳嘉樺', 1),\n",
       "   ('彭佳慧', 1),\n",
       "   ('藍心湄', 1),\n",
       "   ('張可昀', 1),\n",
       "   ('侯友宜', 1)]),\n",
       " ('生活', [('陳時中', 7)]),\n",
       " ('國際',\n",
       "  [('阿布拉莫維奇', 3),\n",
       "   ('切爾西', 2),\n",
       "   ('潘恩', 2),\n",
       "   ('蒲亭', 2),\n",
       "   ('拉夫羅夫', 2),\n",
       "   ('阿布杜拉希安', 2),\n",
       "   ('哈蒂柏札德', 2),\n",
       "   ('布魯塞爾', 1),\n",
       "   ('Marise Payne）', 1),\n",
       "   ('米勒', 1),\n",
       "   ('Alexey Miller）', 1),\n",
       "   ('穆罕穆德', 1),\n",
       "   ('Sheikh ', 1),\n",
       "   ('波瑞爾', 1),\n",
       "   ('普萊斯', 1)]),\n",
       " ('社會', [('戴寧', 2)]),\n",
       " ('文化',\n",
       "  [('平珩', 10), ('陳悅宜', 3), ('李安', 2), ('譚盾', 2), ('瑪芮娜', 1), ('羅曼菲', 1)]),\n",
       " ('兩岸', [('雷正龍', 3), ('林柏偉', 1), ('林伯偉', 1), ('黃守應', 1), ('王長青', 1)]),\n",
       " ('全部',\n",
       "  [('平珩', 10),\n",
       "   ('陳將双', 8),\n",
       "   ('林暉閔', 7),\n",
       "   ('陳時中', 7),\n",
       "   ('黃新皓', 6),\n",
       "   ('杜書全', 5),\n",
       "   ('吳釗燮', 4),\n",
       "   ('蘇松輝', 4),\n",
       "   ('樂天', 3),\n",
       "   ('郭宇宸', 3),\n",
       "   ('阿布拉莫維奇', 3),\n",
       "   ('陳悅宜', 3),\n",
       "   ('雷正龍', 3),\n",
       "   ('許邁德', 2),\n",
       "   ('王金燦', 2),\n",
       "   ('岱縈', 2),\n",
       "   ('筠熹', 2),\n",
       "   ('葉獻文', 2),\n",
       "   ('林耕億', 2),\n",
       "   ('切爾西', 2),\n",
       "   ('潘恩', 2),\n",
       "   ('蒲亭', 2),\n",
       "   ('拉夫羅夫', 2),\n",
       "   ('阿布杜拉希安', 2),\n",
       "   ('哈蒂柏札德', 2),\n",
       "   ('戴寧', 2),\n",
       "   ('李安', 2),\n",
       "   ('譚盾', 2),\n",
       "   ('黃重凱', 1),\n",
       "   ('柳惠千', 1),\n",
       "   ('朱冠甍', 1),\n",
       "   ('王兆璋', 1),\n",
       "   ('希塔拉姆', 1),\n",
       "   ('浦韋青', 1),\n",
       "   ('胡瓜', 1),\n",
       "   ('林襄', 1),\n",
       "   ('霖霖', 1),\n",
       "   ('伊婷（Kira）', 1),\n",
       "   ('詩媛', 1),\n",
       "   ('佳琳', 1),\n",
       "   ('雅涵', 1),\n",
       "   ('婉卉', 1),\n",
       "   ('宋宋', 1),\n",
       "   ('丁予嘉', 1),\n",
       "   ('魏啟林', 1),\n",
       "   ('林煒傑', 1),\n",
       "   ('李見騰', 1),\n",
       "   ('黃云歆', 1),\n",
       "   ('葉泓毅', 1),\n",
       "   ('郝心翔', 1),\n",
       "   ('柏霖', 1),\n",
       "   ('林郁智', 1),\n",
       "   ('阿Ken', 1),\n",
       "   ('林暐恆', 1),\n",
       "   ('徐熙娣', 1),\n",
       "   ('黃路梓茵', 1),\n",
       "   ('陳嘉樺', 1),\n",
       "   ('彭佳慧', 1),\n",
       "   ('藍心湄', 1),\n",
       "   ('張可昀', 1),\n",
       "   ('侯友宜', 1),\n",
       "   ('布魯塞爾', 1),\n",
       "   ('Marise Payne）', 1),\n",
       "   ('米勒', 1),\n",
       "   ('Alexey Miller）', 1),\n",
       "   ('穆罕穆德', 1),\n",
       "   ('Sheikh ', 1),\n",
       "   ('波瑞爾', 1),\n",
       "   ('普萊斯', 1),\n",
       "   ('瑪芮娜', 1),\n",
       "   ('羅曼菲', 1),\n",
       "   ('林柏偉', 1),\n",
       "   ('林伯偉', 1),\n",
       "   ('黃守應', 1),\n",
       "   ('王長青', 1)])]"
      ]
     },
     "execution_count": 25,
     "metadata": {},
     "output_type": "execute_result"
    }
   ],
   "source": [
    "list(top_cate_ne_words.items())"
   ]
  },
  {
   "cell_type": "code",
   "execution_count": null,
   "metadata": {},
   "outputs": [],
   "source": []
  },
  {
   "attachments": {},
   "cell_type": "markdown",
   "metadata": {},
   "source": [
    "# All-in-one function  for calculating the most popular persons"
   ]
  },
  {
   "cell_type": "code",
   "execution_count": 28,
   "metadata": {},
   "outputs": [],
   "source": [
    "allowedNE=['PERSON']"
   ]
  },
  {
   "cell_type": "code",
   "execution_count": 29,
   "metadata": {},
   "outputs": [],
   "source": [
    "news_categories=['政治','科技','運動','證卷','產經','娛樂','生活','國際','社會','文化','兩岸']"
   ]
  },
  {
   "cell_type": "code",
   "execution_count": 30,
   "metadata": {},
   "outputs": [],
   "source": [
    "def ne_word_frequency( a_news_ne ):\n",
    "    filtered_words =[]\n",
    "    for ner,word in a_news_ne:\n",
    "        if (len(word) >= 2) & (ner in allowedNE):\n",
    "            filtered_words.append(word)\n",
    "    counter = Counter( filtered_words )\n",
    "    return counter.most_common( 200 )"
   ]
  },
  {
   "cell_type": "code",
   "execution_count": 37,
   "metadata": {},
   "outputs": [],
   "source": [
    "# All-in-one function\n",
    "def get_top_ner_words():\n",
    "    top_cate_ner_words={}\n",
    "    words_all=[]\n",
    "    for category in news_categories:\n",
    "        df_group = df[df.category == category]\n",
    "        words_group = []\n",
    "\n",
    "        # concatenate terms in a category\n",
    "        for row in df_group.entities:\n",
    "            words_group += eval(row)\n",
    "\n",
    "        # concatenate all terms\n",
    "        words_all += words_group\n",
    "\n",
    "        # Get top words by calling ne_word_frequency() function\n",
    "        topwords = ne_word_frequency( words_group )\n",
    "        top_cate_ner_words[category] = topwords\n",
    "\n",
    "    topwords_all = ne_word_frequency(words_all)\n",
    "    top_cate_ner_words['全部'] = topwords_all\n",
    "    \n",
    "    return list(top_cate_ner_words.items())\n",
    "    #return top_cate_ne_words"
   ]
  },
  {
   "cell_type": "code",
   "execution_count": 38,
   "metadata": {},
   "outputs": [
    {
     "name": "stdout",
     "output_type": "stream",
     "text": [
      "CPU times: total: 15.6 ms\n",
      "Wall time: 16 ms\n"
     ]
    }
   ],
   "source": [
    "%%time\n",
    "hotPersons = get_top_ner_words()"
   ]
  },
  {
   "cell_type": "code",
   "execution_count": 39,
   "metadata": {},
   "outputs": [
    {
     "data": {
      "text/plain": [
       "[('政治', [('吳釗燮', 4), ('許邁德', 2), ('黃重凱', 1), ('柳惠千', 1), ('朱冠甍', 1)]),\n",
       " ('科技', [('王金燦', 2), ('王兆璋', 1), ('希塔拉姆', 1)]),\n",
       " ('運動',\n",
       "  [('陳將双', 8),\n",
       "   ('樂天', 3),\n",
       "   ('岱縈', 2),\n",
       "   ('筠熹', 2),\n",
       "   ('浦韋青', 1),\n",
       "   ('胡瓜', 1),\n",
       "   ('林襄', 1),\n",
       "   ('霖霖', 1),\n",
       "   ('伊婷（Kira）', 1),\n",
       "   ('詩媛', 1),\n",
       "   ('佳琳', 1),\n",
       "   ('雅涵', 1),\n",
       "   ('婉卉', 1),\n",
       "   ('宋宋', 1)]),\n",
       " ('證卷', [('葉獻文', 2), ('林耕億', 2)]),\n",
       " ('產經', [('杜書全', 5), ('蘇松輝', 4), ('丁予嘉', 1), ('魏啟林', 1)]),\n",
       " ('娛樂',\n",
       "  [('林暉閔', 7),\n",
       "   ('黃新皓', 6),\n",
       "   ('郭宇宸', 3),\n",
       "   ('林煒傑', 1),\n",
       "   ('李見騰', 1),\n",
       "   ('黃云歆', 1),\n",
       "   ('葉泓毅', 1),\n",
       "   ('郝心翔', 1),\n",
       "   ('柏霖', 1),\n",
       "   ('林郁智', 1),\n",
       "   ('阿Ken', 1),\n",
       "   ('林暐恆', 1),\n",
       "   ('徐熙娣', 1),\n",
       "   ('黃路梓茵', 1),\n",
       "   ('陳嘉樺', 1),\n",
       "   ('彭佳慧', 1),\n",
       "   ('藍心湄', 1),\n",
       "   ('張可昀', 1),\n",
       "   ('侯友宜', 1)]),\n",
       " ('生活', [('陳時中', 7)]),\n",
       " ('國際',\n",
       "  [('阿布拉莫維奇', 3),\n",
       "   ('切爾西', 2),\n",
       "   ('潘恩', 2),\n",
       "   ('蒲亭', 2),\n",
       "   ('拉夫羅夫', 2),\n",
       "   ('阿布杜拉希安', 2),\n",
       "   ('哈蒂柏札德', 2),\n",
       "   ('布魯塞爾', 1),\n",
       "   ('Marise Payne）', 1),\n",
       "   ('米勒', 1),\n",
       "   ('Alexey Miller）', 1),\n",
       "   ('穆罕穆德', 1),\n",
       "   ('Sheikh ', 1),\n",
       "   ('波瑞爾', 1),\n",
       "   ('普萊斯', 1)]),\n",
       " ('社會', [('戴寧', 2)]),\n",
       " ('文化',\n",
       "  [('平珩', 10), ('陳悅宜', 3), ('李安', 2), ('譚盾', 2), ('瑪芮娜', 1), ('羅曼菲', 1)]),\n",
       " ('兩岸', [('雷正龍', 3), ('林柏偉', 1), ('林伯偉', 1), ('黃守應', 1), ('王長青', 1)]),\n",
       " ('全部',\n",
       "  [('平珩', 10),\n",
       "   ('陳將双', 8),\n",
       "   ('林暉閔', 7),\n",
       "   ('陳時中', 7),\n",
       "   ('黃新皓', 6),\n",
       "   ('杜書全', 5),\n",
       "   ('吳釗燮', 4),\n",
       "   ('蘇松輝', 4),\n",
       "   ('樂天', 3),\n",
       "   ('郭宇宸', 3),\n",
       "   ('阿布拉莫維奇', 3),\n",
       "   ('陳悅宜', 3),\n",
       "   ('雷正龍', 3),\n",
       "   ('許邁德', 2),\n",
       "   ('王金燦', 2),\n",
       "   ('岱縈', 2),\n",
       "   ('筠熹', 2),\n",
       "   ('葉獻文', 2),\n",
       "   ('林耕億', 2),\n",
       "   ('切爾西', 2),\n",
       "   ('潘恩', 2),\n",
       "   ('蒲亭', 2),\n",
       "   ('拉夫羅夫', 2),\n",
       "   ('阿布杜拉希安', 2),\n",
       "   ('哈蒂柏札德', 2),\n",
       "   ('戴寧', 2),\n",
       "   ('李安', 2),\n",
       "   ('譚盾', 2),\n",
       "   ('黃重凱', 1),\n",
       "   ('柳惠千', 1),\n",
       "   ('朱冠甍', 1),\n",
       "   ('王兆璋', 1),\n",
       "   ('希塔拉姆', 1),\n",
       "   ('浦韋青', 1),\n",
       "   ('胡瓜', 1),\n",
       "   ('林襄', 1),\n",
       "   ('霖霖', 1),\n",
       "   ('伊婷（Kira）', 1),\n",
       "   ('詩媛', 1),\n",
       "   ('佳琳', 1),\n",
       "   ('雅涵', 1),\n",
       "   ('婉卉', 1),\n",
       "   ('宋宋', 1),\n",
       "   ('丁予嘉', 1),\n",
       "   ('魏啟林', 1),\n",
       "   ('林煒傑', 1),\n",
       "   ('李見騰', 1),\n",
       "   ('黃云歆', 1),\n",
       "   ('葉泓毅', 1),\n",
       "   ('郝心翔', 1),\n",
       "   ('柏霖', 1),\n",
       "   ('林郁智', 1),\n",
       "   ('阿Ken', 1),\n",
       "   ('林暐恆', 1),\n",
       "   ('徐熙娣', 1),\n",
       "   ('黃路梓茵', 1),\n",
       "   ('陳嘉樺', 1),\n",
       "   ('彭佳慧', 1),\n",
       "   ('藍心湄', 1),\n",
       "   ('張可昀', 1),\n",
       "   ('侯友宜', 1),\n",
       "   ('布魯塞爾', 1),\n",
       "   ('Marise Payne）', 1),\n",
       "   ('米勒', 1),\n",
       "   ('Alexey Miller）', 1),\n",
       "   ('穆罕穆德', 1),\n",
       "   ('Sheikh ', 1),\n",
       "   ('波瑞爾', 1),\n",
       "   ('普萊斯', 1),\n",
       "   ('瑪芮娜', 1),\n",
       "   ('羅曼菲', 1),\n",
       "   ('林柏偉', 1),\n",
       "   ('林伯偉', 1),\n",
       "   ('黃守應', 1),\n",
       "   ('王長青', 1)])]"
      ]
     },
     "execution_count": 39,
     "metadata": {},
     "output_type": "execute_result"
    }
   ],
   "source": [
    "hotPersons"
   ]
  },
  {
   "cell_type": "code",
   "execution_count": 32,
   "metadata": {},
   "outputs": [],
   "source": [
    "## Save top-200 hot persons for future usage"
   ]
  },
  {
   "cell_type": "code",
   "execution_count": 40,
   "metadata": {},
   "outputs": [],
   "source": [
    "df_hotPersons = pd.DataFrame(hotPersons, columns = ['category','top_keys'])"
   ]
  },
  {
   "cell_type": "code",
   "execution_count": 41,
   "metadata": {
    "scrolled": false
   },
   "outputs": [
    {
     "data": {
      "text/html": [
       "<div>\n",
       "<style scoped>\n",
       "    .dataframe tbody tr th:only-of-type {\n",
       "        vertical-align: middle;\n",
       "    }\n",
       "\n",
       "    .dataframe tbody tr th {\n",
       "        vertical-align: top;\n",
       "    }\n",
       "\n",
       "    .dataframe thead th {\n",
       "        text-align: right;\n",
       "    }\n",
       "</style>\n",
       "<table border=\"1\" class=\"dataframe\">\n",
       "  <thead>\n",
       "    <tr style=\"text-align: right;\">\n",
       "      <th></th>\n",
       "      <th>category</th>\n",
       "      <th>top_keys</th>\n",
       "    </tr>\n",
       "  </thead>\n",
       "  <tbody>\n",
       "    <tr>\n",
       "      <th>0</th>\n",
       "      <td>政治</td>\n",
       "      <td>[(吳釗燮, 4), (許邁德, 2), (黃重凱, 1), (柳惠千, 1), (朱冠甍,...</td>\n",
       "    </tr>\n",
       "    <tr>\n",
       "      <th>1</th>\n",
       "      <td>科技</td>\n",
       "      <td>[(王金燦, 2), (王兆璋, 1), (希塔拉姆, 1)]</td>\n",
       "    </tr>\n",
       "    <tr>\n",
       "      <th>2</th>\n",
       "      <td>運動</td>\n",
       "      <td>[(陳將双, 8), (樂天, 3), (岱縈, 2), (筠熹, 2), (浦韋青, 1)...</td>\n",
       "    </tr>\n",
       "    <tr>\n",
       "      <th>3</th>\n",
       "      <td>證卷</td>\n",
       "      <td>[(葉獻文, 2), (林耕億, 2)]</td>\n",
       "    </tr>\n",
       "    <tr>\n",
       "      <th>4</th>\n",
       "      <td>產經</td>\n",
       "      <td>[(杜書全, 5), (蘇松輝, 4), (丁予嘉, 1), (魏啟林, 1)]</td>\n",
       "    </tr>\n",
       "    <tr>\n",
       "      <th>5</th>\n",
       "      <td>娛樂</td>\n",
       "      <td>[(林暉閔, 7), (黃新皓, 6), (郭宇宸, 3), (林煒傑, 1), (李見騰,...</td>\n",
       "    </tr>\n",
       "    <tr>\n",
       "      <th>6</th>\n",
       "      <td>生活</td>\n",
       "      <td>[(陳時中, 7)]</td>\n",
       "    </tr>\n",
       "    <tr>\n",
       "      <th>7</th>\n",
       "      <td>國際</td>\n",
       "      <td>[(阿布拉莫維奇, 3), (切爾西, 2), (潘恩, 2), (蒲亭, 2), (拉夫羅...</td>\n",
       "    </tr>\n",
       "    <tr>\n",
       "      <th>8</th>\n",
       "      <td>社會</td>\n",
       "      <td>[(戴寧, 2)]</td>\n",
       "    </tr>\n",
       "    <tr>\n",
       "      <th>9</th>\n",
       "      <td>文化</td>\n",
       "      <td>[(平珩, 10), (陳悅宜, 3), (李安, 2), (譚盾, 2), (瑪芮娜, 1...</td>\n",
       "    </tr>\n",
       "    <tr>\n",
       "      <th>10</th>\n",
       "      <td>兩岸</td>\n",
       "      <td>[(雷正龍, 3), (林柏偉, 1), (林伯偉, 1), (黃守應, 1), (王長青,...</td>\n",
       "    </tr>\n",
       "    <tr>\n",
       "      <th>11</th>\n",
       "      <td>全部</td>\n",
       "      <td>[(平珩, 10), (陳將双, 8), (林暉閔, 7), (陳時中, 7), (黃新皓,...</td>\n",
       "    </tr>\n",
       "  </tbody>\n",
       "</table>\n",
       "</div>"
      ],
      "text/plain": [
       "   category                                           top_keys\n",
       "0        政治  [(吳釗燮, 4), (許邁德, 2), (黃重凱, 1), (柳惠千, 1), (朱冠甍,...\n",
       "1        科技                    [(王金燦, 2), (王兆璋, 1), (希塔拉姆, 1)]\n",
       "2        運動  [(陳將双, 8), (樂天, 3), (岱縈, 2), (筠熹, 2), (浦韋青, 1)...\n",
       "3        證卷                               [(葉獻文, 2), (林耕億, 2)]\n",
       "4        產經           [(杜書全, 5), (蘇松輝, 4), (丁予嘉, 1), (魏啟林, 1)]\n",
       "5        娛樂  [(林暉閔, 7), (黃新皓, 6), (郭宇宸, 3), (林煒傑, 1), (李見騰,...\n",
       "6        生活                                         [(陳時中, 7)]\n",
       "7        國際  [(阿布拉莫維奇, 3), (切爾西, 2), (潘恩, 2), (蒲亭, 2), (拉夫羅...\n",
       "8        社會                                          [(戴寧, 2)]\n",
       "9        文化  [(平珩, 10), (陳悅宜, 3), (李安, 2), (譚盾, 2), (瑪芮娜, 1...\n",
       "10       兩岸  [(雷正龍, 3), (林柏偉, 1), (林伯偉, 1), (黃守應, 1), (王長青,...\n",
       "11       全部  [(平珩, 10), (陳將双, 8), (林暉閔, 7), (陳時中, 7), (黃新皓,..."
      ]
     },
     "execution_count": 41,
     "metadata": {},
     "output_type": "execute_result"
    }
   ],
   "source": [
    "df_hotPersons"
   ]
  },
  {
   "cell_type": "markdown",
   "metadata": {},
   "source": [
    "## Save the word frequecy "
   ]
  },
  {
   "cell_type": "code",
   "execution_count": 42,
   "metadata": {},
   "outputs": [],
   "source": [
    "df_hotPersons.to_csv('news_top_person_by_category_via_ner.csv', sep=',', index=False)"
   ]
  },
  {
   "cell_type": "code",
   "execution_count": null,
   "metadata": {},
   "outputs": [],
   "source": []
  },
  {
   "cell_type": "markdown",
   "metadata": {},
   "source": [
    "# For your reference: Another way to analyze by concatenating counter objects\n"
   ]
  },
  {
   "cell_type": "code",
   "execution_count": 36,
   "metadata": {},
   "outputs": [
    {
     "data": {
      "text/plain": [
       "Counter({'menu': 21, 'good': 16, 'happy': 10, 'bar': 8})"
      ]
     },
     "execution_count": 36,
     "metadata": {},
     "output_type": "execute_result"
    }
   ],
   "source": [
    "from collections import Counter\n",
    "a = Counter({'menu': 20, 'good': 15, 'happy': 10, 'bar': 5})\n",
    "b = Counter({'menu': 1, 'good': 1, 'bar': 3})\n",
    "a + b"
   ]
  },
  {
   "cell_type": "code",
   "execution_count": 37,
   "metadata": {},
   "outputs": [
    {
     "data": {
      "text/plain": [
       "\"[NerToken(word='烏克蘭', ner='GPE', idx=(4, 7)), NerToken(word='外交部', ner='ORG', idx=(16, 19)), NerToken(word='傍晚', ner='TIME', idx=(24, 26)), NerToken(word='4000', ner='CARDINAL', idx=(32, 36)), NerToken(word='外交部長', ner='ORG', idx=(38, 42)), NerToken(word='吳釗燮', ner='PERSON', idx=(42, 45)), NerToken(word='中午', ner='TIME', idx=(45, 47)), NerToken(word='外交部', ner='ORG', idx=(76, 79)), NerToken(word='晚間', ner='TIME', idx=(79, 81)), NerToken(word='外交部', ner='ORG', idx=(89, 92)), NerToken(word='7日', ner='DATE', idx=(93, 95)), NerToken(word='烏克蘭', ner='NORP', idx=(104, 107)), NerToken(word='外交部', ner='ORG', idx=(122, 125)), NerToken(word='1730', ner='CARDINAL', idx=(133, 137)), NerToken(word='4000', ner='CARDINAL', idx=(152, 156)), NerToken(word='18日', ner='DATE', idx=(195, 198)), NerToken(word='外交部', ner='ORG', idx=(199, 202)), NerToken(word='外交部', ner='ORG', idx=(228, 231)), NerToken(word='吳釗燮', ner='PERSON', idx=(234, 237)), NerToken(word='今天', ner='DATE', idx=(237, 239)), NerToken(word='中午', ner='TIME', idx=(239, 241)), NerToken(word='外交部', ner='ORG', idx=(245, 248)), NerToken(word='吳釗燮', ner='PERSON', idx=(259, 262)), NerToken(word='慈濟', ner='ORG', idx=(266, 268)), NerToken(word='烏克蘭', ner='NORP', idx=(302, 305)), NerToken(word='吳釗燮', ner='PERSON', idx=(321, 324)), NerToken(word='外交部', ner='ORG', idx=(333, 336)), NerToken(word='烏克蘭', ner='NORP', idx=(347, 350)), NerToken(word='外交部', ner='ORG', idx=(367, 370)), NerToken(word='外交部', ner='ORG', idx=(391, 394)), NerToken(word='外交部', ner='ORG', idx=(422, 425)), NerToken(word='6個月', ner='DATE', idx=(449, 452)), NerToken(word='3月18日', ner='DATE', idx=(479, 484)), NerToken(word='下午', ner='TIME', idx=(484, 486)), NerToken(word='5時', ner='TIME', idx=(486, 488)), NerToken(word='20', ner='CARDINAL', idx=(506, 508)), NerToken(word='外交部', ner='ORG', idx=(520, 523)), NerToken(word='外交部', ner='ORG', idx=(524, 527)), NerToken(word='烏克蘭', ner='NORP', idx=(540, 543)), NerToken(word='外交部', ner='ORG', idx=(566, 569))]\""
      ]
     },
     "execution_count": 37,
     "metadata": {},
     "output_type": "execute_result"
    }
   ],
   "source": [
    "df.entities[0]"
   ]
  },
  {
   "cell_type": "code",
   "execution_count": 38,
   "metadata": {},
   "outputs": [
    {
     "data": {
      "text/plain": [
       "[('GPE', '烏克蘭'),\n",
       " ('ORG', '外交部'),\n",
       " ('TIME', '傍晚'),\n",
       " ('CARDINAL', '4000'),\n",
       " ('ORG', '外交部長'),\n",
       " ('PERSON', '吳釗燮'),\n",
       " ('TIME', '中午'),\n",
       " ('ORG', '外交部'),\n",
       " ('TIME', '晚間'),\n",
       " ('ORG', '外交部'),\n",
       " ('DATE', '7日'),\n",
       " ('NORP', '烏克蘭'),\n",
       " ('ORG', '外交部'),\n",
       " ('CARDINAL', '1730'),\n",
       " ('CARDINAL', '4000'),\n",
       " ('DATE', '18日'),\n",
       " ('ORG', '外交部'),\n",
       " ('ORG', '外交部'),\n",
       " ('PERSON', '吳釗燮'),\n",
       " ('DATE', '今天'),\n",
       " ('TIME', '中午'),\n",
       " ('ORG', '外交部'),\n",
       " ('PERSON', '吳釗燮'),\n",
       " ('ORG', '慈濟'),\n",
       " ('NORP', '烏克蘭'),\n",
       " ('PERSON', '吳釗燮'),\n",
       " ('ORG', '外交部'),\n",
       " ('NORP', '烏克蘭'),\n",
       " ('ORG', '外交部'),\n",
       " ('ORG', '外交部'),\n",
       " ('ORG', '外交部'),\n",
       " ('DATE', '6個月'),\n",
       " ('DATE', '3月18日'),\n",
       " ('TIME', '下午'),\n",
       " ('TIME', '5時'),\n",
       " ('CARDINAL', '20'),\n",
       " ('ORG', '外交部'),\n",
       " ('ORG', '外交部'),\n",
       " ('NORP', '烏克蘭'),\n",
       " ('ORG', '外交部')]"
      ]
     },
     "execution_count": 38,
     "metadata": {},
     "output_type": "execute_result"
    }
   ],
   "source": [
    "# conver string to set\n",
    "eval(df.entities[0])"
   ]
  },
  {
   "cell_type": "code",
   "execution_count": 39,
   "metadata": {},
   "outputs": [],
   "source": [
    "top_cate_ner_words={} # final result\n",
    "counter_all = Counter() # counter for category '全部'\n",
    "for category in news_categories:\n",
    "    \n",
    "    df_group = df[df.category == category]\n",
    "    \n",
    "    # concatenate all filtered words in the same category\n",
    "    words_group = []\n",
    "    for row in df_group.entities:\n",
    "        \n",
    "        # filter words for each news\n",
    "        filtered_words =[]\n",
    "        for (ner, word) in eval(row):\n",
    "            if (len(word) >= 2) & (ner in allowedNE):\n",
    "                filtered_words.append(word)\n",
    "                \n",
    "        # concatenate filtered words  \n",
    "        words_group += filtered_words\n",
    "\n",
    "    # now we can count word frequency\n",
    "    counter = Counter( words_group )\n",
    "    \n",
    "    # combine counter_all with conter\n",
    "    counter_all += counter\n",
    "\n",
    "    # get a few most common items\n",
    "    topwords = counter.most_common(200)\n",
    "\n",
    "    # store topwords\n",
    "    top_cate_ner_words[category]= topwords\n",
    "\n",
    "# Process category '全部'\n",
    "top_cate_ne_words['全部'] = counter_all.most_common(200)"
   ]
  },
  {
   "cell_type": "code",
   "execution_count": 40,
   "metadata": {},
   "outputs": [],
   "source": [
    "# All-in-one function\n",
    "def get_top_ner_words():\n",
    "    \n",
    "    top_cate_ner_words={} # final result\n",
    "    counter_all = Counter() # counter for category '全部'\n",
    "    for category in news_categories:\n",
    "\n",
    "        df_group = df[df.category == category]\n",
    "\n",
    "        # concatenate all filtered words in the same category\n",
    "        words_group = []\n",
    "        for row in df_group.entities:\n",
    "\n",
    "            # filter words for each news\n",
    "            filtered_words =[]\n",
    "            for (ner, word) in eval(row):\n",
    "                if (len(word) >= 2) & (ner in allowedNE):\n",
    "                    filtered_words.append(word)\n",
    "\n",
    "            # concatenate filtered words  \n",
    "            words_group += filtered_words\n",
    "\n",
    "        # now we can count word frequency\n",
    "        counter = Counter( words_group )\n",
    "\n",
    "        # combine counter_all with conter\n",
    "        counter_all += counter\n",
    "        \n",
    "        # get a few most common items\n",
    "        topwords = counter.most_common(200)\n",
    "\n",
    "        # store topwords\n",
    "        top_cate_ner_words[category]= topwords\n",
    "\n",
    "    # Process category '全部'\n",
    "    top_cate_ner_words['全部'] = counter_all.most_common(200)\n",
    "    return list(top_cate_ner_words.items())"
   ]
  },
  {
   "cell_type": "code",
   "execution_count": 41,
   "metadata": {},
   "outputs": [
    {
     "name": "stdout",
     "output_type": "stream",
     "text": [
      "Wall time: 20 ms\n"
     ]
    }
   ],
   "source": [
    "%%time\n",
    "result = get_top_ner_words()"
   ]
  },
  {
   "cell_type": "code",
   "execution_count": 42,
   "metadata": {},
   "outputs": [
    {
     "data": {
      "text/plain": [
       "[('政治', [('吳釗燮', 4), ('許邁德', 2), ('黃重凱', 1), ('柳惠千', 1), ('朱冠甍', 1)]),\n",
       " ('科技', [('王金燦', 2), ('王兆璋', 1), ('希塔拉姆', 1)]),\n",
       " ('運動',\n",
       "  [('陳將双', 8),\n",
       "   ('樂天', 3),\n",
       "   ('岱縈', 2),\n",
       "   ('筠熹', 2),\n",
       "   ('浦韋青', 1),\n",
       "   ('胡瓜', 1),\n",
       "   ('林襄', 1),\n",
       "   ('霖霖', 1),\n",
       "   ('伊婷（Kira）', 1),\n",
       "   ('詩媛', 1),\n",
       "   ('佳琳', 1),\n",
       "   ('雅涵', 1),\n",
       "   ('婉卉', 1),\n",
       "   ('宋宋', 1)]),\n",
       " ('證卷', [('葉獻文', 2), ('林耕億', 2)]),\n",
       " ('產經', [('杜書全', 5), ('蘇松輝', 4), ('丁予嘉', 1), ('魏啟林', 1)]),\n",
       " ('娛樂',\n",
       "  [('林暉閔', 7),\n",
       "   ('黃新皓', 6),\n",
       "   ('郭宇宸', 3),\n",
       "   ('林煒傑', 1),\n",
       "   ('李見騰', 1),\n",
       "   ('黃云歆', 1),\n",
       "   ('葉泓毅', 1),\n",
       "   ('郝心翔', 1),\n",
       "   ('柏霖', 1),\n",
       "   ('林郁智', 1),\n",
       "   ('阿Ken', 1),\n",
       "   ('林暐恆', 1),\n",
       "   ('徐熙娣', 1),\n",
       "   ('黃路梓茵', 1),\n",
       "   ('陳嘉樺', 1),\n",
       "   ('彭佳慧', 1),\n",
       "   ('藍心湄', 1),\n",
       "   ('張可昀', 1),\n",
       "   ('侯友宜', 1)]),\n",
       " ('生活', [('陳時中', 7)]),\n",
       " ('國際',\n",
       "  [('阿布拉莫維奇', 3),\n",
       "   ('切爾西', 2),\n",
       "   ('潘恩', 2),\n",
       "   ('蒲亭', 2),\n",
       "   ('拉夫羅夫', 2),\n",
       "   ('阿布杜拉希安', 2),\n",
       "   ('哈蒂柏札德', 2),\n",
       "   ('布魯塞爾', 1),\n",
       "   ('Marise Payne）', 1),\n",
       "   ('米勒', 1),\n",
       "   ('Alexey Miller）', 1),\n",
       "   ('穆罕穆德', 1),\n",
       "   ('Sheikh ', 1),\n",
       "   ('波瑞爾', 1),\n",
       "   ('普萊斯', 1)]),\n",
       " ('社會', [('戴寧', 2)]),\n",
       " ('文化',\n",
       "  [('平珩', 10), ('陳悅宜', 3), ('李安', 2), ('譚盾', 2), ('瑪芮娜', 1), ('羅曼菲', 1)]),\n",
       " ('兩岸', [('雷正龍', 3), ('林柏偉', 1), ('林伯偉', 1), ('黃守應', 1), ('王長青', 1)]),\n",
       " ('全部',\n",
       "  [('平珩', 10),\n",
       "   ('陳將双', 8),\n",
       "   ('林暉閔', 7),\n",
       "   ('陳時中', 7),\n",
       "   ('黃新皓', 6),\n",
       "   ('杜書全', 5),\n",
       "   ('吳釗燮', 4),\n",
       "   ('蘇松輝', 4),\n",
       "   ('樂天', 3),\n",
       "   ('郭宇宸', 3),\n",
       "   ('阿布拉莫維奇', 3),\n",
       "   ('陳悅宜', 3),\n",
       "   ('雷正龍', 3),\n",
       "   ('許邁德', 2),\n",
       "   ('王金燦', 2),\n",
       "   ('岱縈', 2),\n",
       "   ('筠熹', 2),\n",
       "   ('葉獻文', 2),\n",
       "   ('林耕億', 2),\n",
       "   ('切爾西', 2),\n",
       "   ('潘恩', 2),\n",
       "   ('蒲亭', 2),\n",
       "   ('拉夫羅夫', 2),\n",
       "   ('阿布杜拉希安', 2),\n",
       "   ('哈蒂柏札德', 2),\n",
       "   ('戴寧', 2),\n",
       "   ('李安', 2),\n",
       "   ('譚盾', 2),\n",
       "   ('黃重凱', 1),\n",
       "   ('柳惠千', 1),\n",
       "   ('朱冠甍', 1),\n",
       "   ('王兆璋', 1),\n",
       "   ('希塔拉姆', 1),\n",
       "   ('浦韋青', 1),\n",
       "   ('胡瓜', 1),\n",
       "   ('林襄', 1),\n",
       "   ('霖霖', 1),\n",
       "   ('伊婷（Kira）', 1),\n",
       "   ('詩媛', 1),\n",
       "   ('佳琳', 1),\n",
       "   ('雅涵', 1),\n",
       "   ('婉卉', 1),\n",
       "   ('宋宋', 1),\n",
       "   ('丁予嘉', 1),\n",
       "   ('魏啟林', 1),\n",
       "   ('林煒傑', 1),\n",
       "   ('李見騰', 1),\n",
       "   ('黃云歆', 1),\n",
       "   ('葉泓毅', 1),\n",
       "   ('郝心翔', 1),\n",
       "   ('柏霖', 1),\n",
       "   ('林郁智', 1),\n",
       "   ('阿Ken', 1),\n",
       "   ('林暐恆', 1),\n",
       "   ('徐熙娣', 1),\n",
       "   ('黃路梓茵', 1),\n",
       "   ('陳嘉樺', 1),\n",
       "   ('彭佳慧', 1),\n",
       "   ('藍心湄', 1),\n",
       "   ('張可昀', 1),\n",
       "   ('侯友宜', 1),\n",
       "   ('布魯塞爾', 1),\n",
       "   ('Marise Payne）', 1),\n",
       "   ('米勒', 1),\n",
       "   ('Alexey Miller）', 1),\n",
       "   ('穆罕穆德', 1),\n",
       "   ('Sheikh ', 1),\n",
       "   ('波瑞爾', 1),\n",
       "   ('普萊斯', 1),\n",
       "   ('瑪芮娜', 1),\n",
       "   ('羅曼菲', 1),\n",
       "   ('林柏偉', 1),\n",
       "   ('林伯偉', 1),\n",
       "   ('黃守應', 1),\n",
       "   ('王長青', 1)])]"
      ]
     },
     "execution_count": 42,
     "metadata": {},
     "output_type": "execute_result"
    }
   ],
   "source": [
    "result"
   ]
  },
  {
   "cell_type": "code",
   "execution_count": null,
   "metadata": {},
   "outputs": [],
   "source": []
  }
 ],
 "metadata": {
  "kernelspec": {
   "display_name": "Python 3",
   "language": "python",
   "name": "python3"
  },
  "language_info": {
   "codemirror_mode": {
    "name": "ipython",
    "version": 3
   },
   "file_extension": ".py",
   "mimetype": "text/x-python",
   "name": "python",
   "nbconvert_exporter": "python",
   "pygments_lexer": "ipython3",
   "version": "3.10.6"
  },
  "toc": {
   "base_numbering": 1,
   "nav_menu": {},
   "number_sections": true,
   "sideBar": true,
   "skip_h1_title": false,
   "title_cell": "Table of Contents",
   "title_sidebar": "Contents",
   "toc_cell": false,
   "toc_position": {},
   "toc_section_display": true,
   "toc_window_display": false
  }
 },
 "nbformat": 4,
 "nbformat_minor": 2
}
