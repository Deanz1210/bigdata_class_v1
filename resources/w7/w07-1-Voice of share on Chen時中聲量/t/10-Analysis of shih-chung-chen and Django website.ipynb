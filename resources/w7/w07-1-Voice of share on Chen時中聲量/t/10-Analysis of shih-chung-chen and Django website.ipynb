{
 "cells": [
  {
   "attachments": {},
   "cell_type": "markdown",
   "metadata": {},
   "source": [
    "# 時中指數"
   ]
  },
  {
   "cell_type": "code",
   "execution_count": null,
   "metadata": {},
   "outputs": [],
   "source": []
  },
  {
   "attachments": {},
   "cell_type": "markdown",
   "metadata": {},
   "source": [
    "# Load Data "
   ]
  },
  {
   "cell_type": "code",
   "execution_count": 25,
   "metadata": {},
   "outputs": [],
   "source": [
    "import pandas as pd\n",
    "from datetime import datetime, timedelta\n",
    "\n",
    "df = pd.read_csv('D:\\\\project_code\\\\bigdata_class_v1\\\\resources\\\\w7\\\\w07-1-Voice of share on Chen時中聲量\\\\t\\\\cna_news_preprocessed.csv',sep='|')"
   ]
  },
  {
   "cell_type": "code",
   "execution_count": null,
   "metadata": {},
   "outputs": [],
   "source": []
  },
  {
   "cell_type": "code",
   "execution_count": 26,
   "metadata": {},
   "outputs": [
    {
     "data": {
      "text/html": [
       "<div>\n",
       "<style scoped>\n",
       "    .dataframe tbody tr th:only-of-type {\n",
       "        vertical-align: middle;\n",
       "    }\n",
       "\n",
       "    .dataframe tbody tr th {\n",
       "        vertical-align: top;\n",
       "    }\n",
       "\n",
       "    .dataframe thead th {\n",
       "        text-align: right;\n",
       "    }\n",
       "</style>\n",
       "<table border=\"1\" class=\"dataframe\">\n",
       "  <thead>\n",
       "    <tr style=\"text-align: right;\">\n",
       "      <th></th>\n",
       "      <th>item_id</th>\n",
       "      <th>date</th>\n",
       "      <th>category</th>\n",
       "      <th>title</th>\n",
       "      <th>content</th>\n",
       "      <th>sentiment</th>\n",
       "      <th>summary</th>\n",
       "      <th>top_key_freq</th>\n",
       "      <th>tokens</th>\n",
       "      <th>tokens_v2</th>\n",
       "      <th>entities</th>\n",
       "      <th>token_pos</th>\n",
       "      <th>link</th>\n",
       "      <th>photo_link</th>\n",
       "    </tr>\n",
       "  </thead>\n",
       "  <tbody>\n",
       "    <tr>\n",
       "      <th>0</th>\n",
       "      <td>index.php?k=1_2025-03-27_1</td>\n",
       "      <td>2025-03-27</td>\n",
       "      <td>PC</td>\n",
       "      <td>多平台\\n《餓狼傳說 City of the Wolves》足球界傳奇巨星「克里斯蒂亞諾‧羅...</td>\n",
       "      <td>株式會社 SNK 今日（3/27）宣布，足球界傳奇巨星「克里斯蒂亞諾‧羅納度」確定將以可遊玩...</td>\n",
       "      <td>暫無</td>\n",
       "      <td>暫無</td>\n",
       "      <td>[('遊戲', 8), ('足球', 8), ('傳說', 7), ('角色', 6), (...</td>\n",
       "      <td>['株式會社', ' SNK ', '今日', '（', '3/27', '）', '宣布'...</td>\n",
       "      <td>['株式會社', '宣布', '足球界', '傳奇', '巨星', '克里斯蒂亞諾‧羅納度'...</td>\n",
       "      <td>[NerToken(word='株式會社', ner='ORG', idx=(0, 4)),...</td>\n",
       "      <td>[('株式會社', 'Nc'), (' SNK ', 'FW'), ('今日', 'Nd')...</td>\n",
       "      <td>https://gnn.gamer.com.tw/detail.php?sn=282906</td>\n",
       "      <td>https://p2.bahamut.com.tw/B/2KU/58/2fc0d3915aa...</td>\n",
       "    </tr>\n",
       "  </tbody>\n",
       "</table>\n",
       "</div>"
      ],
      "text/plain": [
       "                      item_id        date category  \\\n",
       "0  index.php?k=1_2025-03-27_1  2025-03-27       PC   \n",
       "\n",
       "                                               title  \\\n",
       "0  多平台\\n《餓狼傳說 City of the Wolves》足球界傳奇巨星「克里斯蒂亞諾‧羅...   \n",
       "\n",
       "                                             content sentiment summary  \\\n",
       "0  株式會社 SNK 今日（3/27）宣布，足球界傳奇巨星「克里斯蒂亞諾‧羅納度」確定將以可遊玩...        暫無      暫無   \n",
       "\n",
       "                                        top_key_freq  \\\n",
       "0  [('遊戲', 8), ('足球', 8), ('傳說', 7), ('角色', 6), (...   \n",
       "\n",
       "                                              tokens  \\\n",
       "0  ['株式會社', ' SNK ', '今日', '（', '3/27', '）', '宣布'...   \n",
       "\n",
       "                                           tokens_v2  \\\n",
       "0  ['株式會社', '宣布', '足球界', '傳奇', '巨星', '克里斯蒂亞諾‧羅納度'...   \n",
       "\n",
       "                                            entities  \\\n",
       "0  [NerToken(word='株式會社', ner='ORG', idx=(0, 4)),...   \n",
       "\n",
       "                                           token_pos  \\\n",
       "0  [('株式會社', 'Nc'), (' SNK ', 'FW'), ('今日', 'Nd')...   \n",
       "\n",
       "                                            link  \\\n",
       "0  https://gnn.gamer.com.tw/detail.php?sn=282906   \n",
       "\n",
       "                                          photo_link  \n",
       "0  https://p2.bahamut.com.tw/B/2KU/58/2fc0d3915aa...  "
      ]
     },
     "execution_count": 26,
     "metadata": {},
     "output_type": "execute_result"
    }
   ],
   "source": [
    "df.head(1)"
   ]
  },
  {
   "cell_type": "code",
   "execution_count": 27,
   "metadata": {},
   "outputs": [
    {
     "data": {
      "text/plain": [
       "(391, 14)"
      ]
     },
     "execution_count": 27,
     "metadata": {},
     "output_type": "execute_result"
    }
   ],
   "source": [
    "df.shape"
   ]
  },
  {
   "attachments": {},
   "cell_type": "markdown",
   "metadata": {},
   "source": [
    "# Filter news for selected keywords"
   ]
  },
  {
   "cell_type": "code",
   "execution_count": 28,
   "metadata": {},
   "outputs": [],
   "source": [
    "import pandas as pd\n",
    "from datetime import datetime, timedelta\n",
    "import re\n",
    "\n",
    "# # Load Data \n",
    "# df = pd.read_csv('./news_dataset_preprocessed_for_django.csv',sep='|')\n",
    "# Step 0: Filter news articles using the following function\n",
    "# Searching keywords from \"content\" column\n",
    "def filter_df_via_content(df, query_keywords, cond, cate, weeks):\n",
    "\n",
    "    # end date: the date of the latest record of news\n",
    "    end_date = df.date.max()\n",
    "    \n",
    "    # start date\n",
    "    start_date_delta = (datetime.strptime(end_date, '%Y-%m-%d').date() - timedelta(weeks=weeks)).strftime('%Y-%m-%d')\n",
    "    start_date_min = df.date.min()\n",
    "    # set start_date as the larger one from the start_date_delta and start_date_min 開始時間選資料最早時間與周數:兩者較晚者\n",
    "    start_date = max(start_date_delta,   start_date_min)\n",
    "\n",
    "\n",
    "    # (1) proceed filtering: a duration of a period of time\n",
    "    # 期間條件\n",
    "    period_condition = (df.date >= start_date) & (df.date <= end_date) \n",
    "    \n",
    "    # (2) proceed filtering: news category\n",
    "    # 新聞類別條件\n",
    "    if (cate == \"全部\"):\n",
    "        condition = period_condition  # \"全部\"類別不必過濾新聞種類\n",
    "    else:\n",
    "        # 過濾category新聞類別條件\n",
    "        condition = period_condition & (df.category == cate)\n",
    "\n",
    "    # (3) proceed filtering: and or\n",
    "    # and or 條件\n",
    "    if (cond == 'and'):\n",
    "        # query keywords condition使用者輸入關鍵字條件and\n",
    "        condition = condition & df.content.apply(lambda text: all((qk in text) for qk in query_keywords)) #寫法:all()\n",
    "    elif (cond == 'or'):\n",
    "        # query keywords condition使用者輸入關鍵字條件\n",
    "        condition = condition & df.content.apply(lambda text: isinstance(text, str) and any(qk in text for qk in query_keywords))\n",
    " #寫法:any()\n",
    "    # condiction is a list of True or False boolean value\n",
    "    df_query = df[condition]\n",
    "\n",
    "    return df_query\n"
   ]
  },
  {
   "cell_type": "code",
   "execution_count": 29,
   "metadata": {},
   "outputs": [],
   "source": [
    "query_keywords = ['英雄聯盟','lol'] #不要有子字串否則會重複計算 ['陳時中','時中'] 這樣沒有意義!\n",
    "weeks=4\n",
    "cond='or'\n",
    "cate='全部'\n",
    "df_query = filter_df_via_content(df, query_keywords, cond, cate, weeks)"
   ]
  },
  {
   "cell_type": "code",
   "execution_count": 30,
   "metadata": {},
   "outputs": [
    {
     "data": {
      "text/plain": [
       "13"
      ]
     },
     "execution_count": 30,
     "metadata": {},
     "output_type": "execute_result"
    }
   ],
   "source": [
    "len(df_query)"
   ]
  },
  {
   "attachments": {},
   "cell_type": "markdown",
   "metadata": {},
   "source": [
    "# Count how many pieces of news containing these keywords計算各類別多少篇文章提到該關鍵字\n",
    "\n",
    "# Count how many times these keywords were mentioned in each category計算各類別出現關鍵字次數"
   ]
  },
  {
   "cell_type": "code",
   "execution_count": 31,
   "metadata": {},
   "outputs": [],
   "source": [
    "# **計算各類別多少篇文章提到該關鍵字\n",
    "# **計算各類別出現關鍵字次數\n",
    "\n",
    "news_categories = ['PC','動漫畫','電競','活動展覽']\n",
    "\n",
    "def count_keyword(df_query, query_keywords):\n",
    "    cate_occurrence = {}\n",
    "    cate_freq = {}\n",
    "\n",
    "    # 字典初始化\n",
    "    for cate in news_categories:\n",
    "        cate_occurrence[cate] = 0\n",
    "        cate_freq[cate] = 0\n",
    "\n",
    "    # 初始化 '全部'\n",
    "    cate_occurrence['全部'] = 0\n",
    "    cate_freq['全部'] = 0\n",
    "\n",
    "    for idx, row in df_query.iterrows():\n",
    "        # count the number of articles 各類別篇數統計\n",
    "        cate_occurrence[row.category] += 1\n",
    "        cate_occurrence['全部'] += 1\n",
    "        \n",
    "        # count the keyword frequency 各類別次數統計\n",
    "        freq = sum([len(re.findall(keyword, row.content, re.I)) for keyword in query_keywords])\n",
    "        cate_freq[row.category] += freq\n",
    "        cate_freq['全部'] += freq\n",
    "\n",
    "    total_articles = cate_occurrence['全部']\n",
    "    total_frequency = cate_freq['全部']\n",
    "    return cate_freq, cate_occurrence, total_articles, total_frequency\n"
   ]
  },
  {
   "cell_type": "code",
   "execution_count": 32,
   "metadata": {},
   "outputs": [
    {
     "data": {
      "text/plain": [
       "({'PC': 4, '動漫畫': 0, '電競': 20, '活動展覽': 6, '全部': 30},\n",
       " {'PC': 1, '動漫畫': 0, '電競': 11, '活動展覽': 1, '全部': 13},\n",
       " 13,\n",
       " 30)"
      ]
     },
     "execution_count": 32,
     "metadata": {},
     "output_type": "execute_result"
    }
   ],
   "source": [
    "query_keywords = ['英雄聯盟','lol'] #不要有子字串否則會重複計算 ['陳時中','時中'] 這樣沒有意義!\n",
    "weeks=4\n",
    "cond='or'\n",
    "cate='全部'\n",
    "df_query = filter_df_via_content(df, query_keywords, cond, cate, weeks)\n",
    "count_keyword(df_query, query_keywords)"
   ]
  },
  {
   "cell_type": "code",
   "execution_count": 33,
   "metadata": {},
   "outputs": [
    {
     "data": {
      "text/plain": [
       "({'PC': 4, '動漫畫': 0, '電競': 20, '活動展覽': 6, '全部': 30},\n",
       " {'PC': 1, '動漫畫': 0, '電競': 11, '活動展覽': 1, '全部': 13},\n",
       " 13,\n",
       " 30)"
      ]
     },
     "execution_count": 33,
     "metadata": {},
     "output_type": "execute_result"
    }
   ],
   "source": [
    "query_keywords = ['英雄聯盟','lol'] #不要有子字串否則會重複計算 ['陳時中','時中'] 這樣沒有意義!\n",
    "weeks=4\n",
    "cond='or'\n",
    "cate='全部'\n",
    "df_query = filter_df_via_content(df, query_keywords, cond, cate, weeks)\n",
    "count_keyword(df_query, query_keywords)"
   ]
  },
  {
   "cell_type": "code",
   "execution_count": 34,
   "metadata": {},
   "outputs": [],
   "source": [
    "import re"
   ]
  },
  {
   "cell_type": "code",
   "execution_count": 35,
   "metadata": {},
   "outputs": [
    {
     "data": {
      "text/plain": [
       "['陳時中', '陳時中', '陳時中']"
      ]
     },
     "execution_count": 35,
     "metadata": {},
     "output_type": "execute_result"
    }
   ],
   "source": [
    "content=\"陳時中,....，陳時中00，陳時中說，\"\n",
    "keyword=\"陳時中\"\n",
    "re.findall(keyword, content)"
   ]
  },
  {
   "cell_type": "code",
   "execution_count": 36,
   "metadata": {},
   "outputs": [
    {
     "data": {
      "text/plain": [
       "3"
      ]
     },
     "execution_count": 36,
     "metadata": {},
     "output_type": "execute_result"
    }
   ],
   "source": [
    "len(re.findall(keyword, content))"
   ]
  },
  {
   "cell_type": "code",
   "execution_count": 37,
   "metadata": {},
   "outputs": [
    {
     "data": {
      "text/plain": [
       "['時中', '時中', '時中']"
      ]
     },
     "execution_count": 37,
     "metadata": {},
     "output_type": "execute_result"
    }
   ],
   "source": [
    "keyword=\"時中\"\n",
    "re.findall(keyword, content)"
   ]
  },
  {
   "cell_type": "code",
   "execution_count": 38,
   "metadata": {},
   "outputs": [
    {
     "data": {
      "text/plain": [
       "[]"
      ]
     },
     "execution_count": 38,
     "metadata": {},
     "output_type": "execute_result"
    }
   ],
   "source": [
    "keyword=\"陳中\"\n",
    "re.findall(keyword, content)"
   ]
  },
  {
   "attachments": {},
   "cell_type": "markdown",
   "metadata": {},
   "source": [
    "# Caclulate date-based reported frequency of these keywords計算被報導的次數以時間為基礎"
   ]
  },
  {
   "cell_type": "code",
   "execution_count": 39,
   "metadata": {},
   "outputs": [],
   "source": [
    "def get_keyword_occurrence_time_series(df_query):\n",
    "    date_samples = df_query.date\n",
    "    query_freq = pd.DataFrame({'date_index': pd.to_datetime(date_samples), 'freq': [1 for _ in range(len(df_query))]})\n",
    "    data = query_freq.groupby(pd.Grouper(key='date_index', freq='D')).sum()\n",
    "    line_xy_data = []\n",
    "    for i, idx in enumerate(data.index):\n",
    "        row = {'x': idx.strftime('%Y-%m-%d'), 'y': int(data.iloc[i].freq)}\n",
    "        line_xy_data.append(row)\n",
    "    return line_xy_data"
   ]
  },
  {
   "cell_type": "code",
   "execution_count": 40,
   "metadata": {},
   "outputs": [
    {
     "data": {
      "text/plain": [
       "[{'x': '2025-03-03', 'y': 1},\n",
       " {'x': '2025-03-04', 'y': 0},\n",
       " {'x': '2025-03-05', 'y': 1},\n",
       " {'x': '2025-03-06', 'y': 0},\n",
       " {'x': '2025-03-07', 'y': 0},\n",
       " {'x': '2025-03-08', 'y': 0},\n",
       " {'x': '2025-03-09', 'y': 0},\n",
       " {'x': '2025-03-10', 'y': 2},\n",
       " {'x': '2025-03-11', 'y': 1},\n",
       " {'x': '2025-03-12', 'y': 1},\n",
       " {'x': '2025-03-13', 'y': 1},\n",
       " {'x': '2025-03-14', 'y': 0},\n",
       " {'x': '2025-03-15', 'y': 2},\n",
       " {'x': '2025-03-16', 'y': 0},\n",
       " {'x': '2025-03-17', 'y': 2},\n",
       " {'x': '2025-03-18', 'y': 0},\n",
       " {'x': '2025-03-19', 'y': 0},\n",
       " {'x': '2025-03-20', 'y': 0},\n",
       " {'x': '2025-03-21', 'y': 1},\n",
       " {'x': '2025-03-22', 'y': 0},\n",
       " {'x': '2025-03-23', 'y': 0},\n",
       " {'x': '2025-03-24', 'y': 0},\n",
       " {'x': '2025-03-25', 'y': 1}]"
      ]
     },
     "execution_count": 40,
     "metadata": {},
     "output_type": "execute_result"
    }
   ],
   "source": [
    "get_keyword_occurrence_time_series(df_query)"
   ]
  },
  {
   "attachments": {},
   "cell_type": "markdown",
   "metadata": {},
   "source": [
    "# Put them together"
   ]
  },
  {
   "cell_type": "code",
   "execution_count": 41,
   "metadata": {},
   "outputs": [],
   "source": [
    "\n",
    "query_keywords = ['英雄聯盟','lol'] #不要有子字串否則會重複計算 ['陳時中','時中'] 這樣沒有意義!\n",
    "weeks=1\n",
    "cond='or'\n",
    "cate='全部'\n",
    "\n",
    "df_query = filter_df_via_content(df, query_keywords, cond, cate, weeks)\n",
    "cate_freq, cate_occurrence, total_articles, total_frequency = count_keyword(df_query, query_keywords)\n",
    "freqByDate = get_keyword_occurrence_time_series(df_query)\n",
    "\n",
    "\n",
    "selectedCategories = ['PC','動漫畫','電競','活動展覽']\n",
    "# selectedCategories = ['政治', '產經', '生活', '國際', '社會', '兩岸','全部']\n",
    "\n",
    "freqByCate = [cate_occurrence[k] for k in selectedCategories]\n",
    "\n",
    "response =  {'freqByDate': freqByDate, # 時間序列資料\n",
    "           'freqByCate': freqByCate, # 各類別的篇數\n",
    "           'category': selectedCategories, # 類別名稱\n",
    "           'num_frequency': cate_freq['全部'], # 這關鍵字被提多少次\n",
    "           'num_occurrence': cate_occurrence['全部'] #多少篇提到這關鍵字\n",
    "           }"
   ]
  },
  {
   "cell_type": "code",
   "execution_count": 42,
   "metadata": {},
   "outputs": [
    {
     "data": {
      "text/plain": [
       "[1, 0, 1, 0]"
      ]
     },
     "execution_count": 42,
     "metadata": {},
     "output_type": "execute_result"
    }
   ],
   "source": [
    "freqByCate"
   ]
  },
  {
   "cell_type": "code",
   "execution_count": 43,
   "metadata": {},
   "outputs": [
    {
     "data": {
      "text/plain": [
       "{'PC': 4, '動漫畫': 0, '電競': 4, '活動展覽': 0, '全部': 8}"
      ]
     },
     "execution_count": 43,
     "metadata": {},
     "output_type": "execute_result"
    }
   ],
   "source": [
    "cate_freq"
   ]
  },
  {
   "cell_type": "code",
   "execution_count": 44,
   "metadata": {},
   "outputs": [
    {
     "data": {
      "text/plain": [
       "{'PC': 1, '動漫畫': 0, '電競': 1, '活動展覽': 0, '全部': 2}"
      ]
     },
     "execution_count": 44,
     "metadata": {},
     "output_type": "execute_result"
    }
   ],
   "source": [
    "cate_occurrence"
   ]
  },
  {
   "cell_type": "code",
   "execution_count": 45,
   "metadata": {},
   "outputs": [
    {
     "data": {
      "text/plain": [
       "[{'x': '2025-03-21', 'y': 1},\n",
       " {'x': '2025-03-22', 'y': 0},\n",
       " {'x': '2025-03-23', 'y': 0},\n",
       " {'x': '2025-03-24', 'y': 0},\n",
       " {'x': '2025-03-25', 'y': 1}]"
      ]
     },
     "execution_count": 45,
     "metadata": {},
     "output_type": "execute_result"
    }
   ],
   "source": [
    "freqByDate"
   ]
  },
  {
   "cell_type": "code",
   "execution_count": 46,
   "metadata": {},
   "outputs": [
    {
     "data": {
      "text/plain": [
       "{'freqByDate': [{'x': '2025-03-21', 'y': 1},\n",
       "  {'x': '2025-03-22', 'y': 0},\n",
       "  {'x': '2025-03-23', 'y': 0},\n",
       "  {'x': '2025-03-24', 'y': 0},\n",
       "  {'x': '2025-03-25', 'y': 1}],\n",
       " 'freqByCate': [1, 0, 1, 0],\n",
       " 'category': ['PC', '動漫畫', '電競', '活動展覽'],\n",
       " 'num_frequency': 8,\n",
       " 'num_occurrence': 2}"
      ]
     },
     "execution_count": 46,
     "metadata": {},
     "output_type": "execute_result"
    }
   ],
   "source": [
    "response"
   ]
  },
  {
   "cell_type": "code",
   "execution_count": 47,
   "metadata": {},
   "outputs": [
    {
     "data": {
      "text/plain": [
       "dict_items([('freqByDate', [{'x': '2025-03-21', 'y': 1}, {'x': '2025-03-22', 'y': 0}, {'x': '2025-03-23', 'y': 0}, {'x': '2025-03-24', 'y': 0}, {'x': '2025-03-25', 'y': 1}]), ('freqByCate', [1, 0, 1, 0]), ('category', ['PC', '動漫畫', '電競', '活動展覽']), ('num_frequency', 8), ('num_occurrence', 2)])"
      ]
     },
     "execution_count": 47,
     "metadata": {},
     "output_type": "execute_result"
    }
   ],
   "source": [
    "response.items()"
   ]
  },
  {
   "cell_type": "code",
   "execution_count": 48,
   "metadata": {},
   "outputs": [
    {
     "data": {
      "text/plain": [
       "[('freqByDate',\n",
       "  [{'x': '2025-03-21', 'y': 1},\n",
       "   {'x': '2025-03-22', 'y': 0},\n",
       "   {'x': '2025-03-23', 'y': 0},\n",
       "   {'x': '2025-03-24', 'y': 0},\n",
       "   {'x': '2025-03-25', 'y': 1}]),\n",
       " ('freqByCate', [1, 0, 1, 0]),\n",
       " ('category', ['PC', '動漫畫', '電競', '活動展覽']),\n",
       " ('num_frequency', 8),\n",
       " ('num_occurrence', 2)]"
      ]
     },
     "execution_count": 48,
     "metadata": {},
     "output_type": "execute_result"
    }
   ],
   "source": [
    "list(response.items())"
   ]
  },
  {
   "attachments": {},
   "cell_type": "markdown",
   "metadata": {},
   "source": [
    "## Save data to csv file"
   ]
  },
  {
   "cell_type": "code",
   "execution_count": 49,
   "metadata": {},
   "outputs": [],
   "source": [
    "df_data = pd.DataFrame(list(response.items()),columns=['name','value'])"
   ]
  },
  {
   "cell_type": "code",
   "execution_count": 50,
   "metadata": {},
   "outputs": [
    {
     "data": {
      "text/html": [
       "<div>\n",
       "<style scoped>\n",
       "    .dataframe tbody tr th:only-of-type {\n",
       "        vertical-align: middle;\n",
       "    }\n",
       "\n",
       "    .dataframe tbody tr th {\n",
       "        vertical-align: top;\n",
       "    }\n",
       "\n",
       "    .dataframe thead th {\n",
       "        text-align: right;\n",
       "    }\n",
       "</style>\n",
       "<table border=\"1\" class=\"dataframe\">\n",
       "  <thead>\n",
       "    <tr style=\"text-align: right;\">\n",
       "      <th></th>\n",
       "      <th>name</th>\n",
       "      <th>value</th>\n",
       "    </tr>\n",
       "  </thead>\n",
       "  <tbody>\n",
       "    <tr>\n",
       "      <th>0</th>\n",
       "      <td>freqByDate</td>\n",
       "      <td>[{'x': '2025-03-21', 'y': 1}, {'x': '2025-03-2...</td>\n",
       "    </tr>\n",
       "    <tr>\n",
       "      <th>1</th>\n",
       "      <td>freqByCate</td>\n",
       "      <td>[1, 0, 1, 0]</td>\n",
       "    </tr>\n",
       "    <tr>\n",
       "      <th>2</th>\n",
       "      <td>category</td>\n",
       "      <td>[PC, 動漫畫, 電競, 活動展覽]</td>\n",
       "    </tr>\n",
       "    <tr>\n",
       "      <th>3</th>\n",
       "      <td>num_frequency</td>\n",
       "      <td>8</td>\n",
       "    </tr>\n",
       "    <tr>\n",
       "      <th>4</th>\n",
       "      <td>num_occurrence</td>\n",
       "      <td>2</td>\n",
       "    </tr>\n",
       "  </tbody>\n",
       "</table>\n",
       "</div>"
      ],
      "text/plain": [
       "             name                                              value\n",
       "0      freqByDate  [{'x': '2025-03-21', 'y': 1}, {'x': '2025-03-2...\n",
       "1      freqByCate                                       [1, 0, 1, 0]\n",
       "2        category                                [PC, 動漫畫, 電競, 活動展覽]\n",
       "3   num_frequency                                                  8\n",
       "4  num_occurrence                                                  2"
      ]
     },
     "execution_count": 50,
     "metadata": {},
     "output_type": "execute_result"
    }
   ],
   "source": [
    "df_data"
   ]
  },
  {
   "cell_type": "code",
   "execution_count": null,
   "metadata": {},
   "outputs": [],
   "source": []
  },
  {
   "cell_type": "code",
   "execution_count": 51,
   "metadata": {},
   "outputs": [],
   "source": [
    "## 存成csv格式檔案\n",
    "df_data.to_csv('lol.csv',sep=',', index=None)"
   ]
  },
  {
   "cell_type": "code",
   "execution_count": null,
   "metadata": {},
   "outputs": [],
   "source": []
  },
  {
   "attachments": {},
   "cell_type": "markdown",
   "metadata": {},
   "source": [
    "### Alternative way: using zip"
   ]
  },
  {
   "cell_type": "code",
   "execution_count": 52,
   "metadata": {},
   "outputs": [],
   "source": [
    "k=list(response.keys())\n",
    "v=list(response.values())"
   ]
  },
  {
   "cell_type": "code",
   "execution_count": 53,
   "metadata": {},
   "outputs": [],
   "source": [
    "#list(zip(k,v))"
   ]
  },
  {
   "cell_type": "code",
   "execution_count": 54,
   "metadata": {
    "scrolled": true
   },
   "outputs": [
    {
     "data": {
      "text/html": [
       "<div>\n",
       "<style scoped>\n",
       "    .dataframe tbody tr th:only-of-type {\n",
       "        vertical-align: middle;\n",
       "    }\n",
       "\n",
       "    .dataframe tbody tr th {\n",
       "        vertical-align: top;\n",
       "    }\n",
       "\n",
       "    .dataframe thead th {\n",
       "        text-align: right;\n",
       "    }\n",
       "</style>\n",
       "<table border=\"1\" class=\"dataframe\">\n",
       "  <thead>\n",
       "    <tr style=\"text-align: right;\">\n",
       "      <th></th>\n",
       "      <th>name</th>\n",
       "      <th>value</th>\n",
       "    </tr>\n",
       "  </thead>\n",
       "  <tbody>\n",
       "    <tr>\n",
       "      <th>0</th>\n",
       "      <td>freqByDate</td>\n",
       "      <td>[{'x': '2025-03-21', 'y': 1}, {'x': '2025-03-2...</td>\n",
       "    </tr>\n",
       "    <tr>\n",
       "      <th>1</th>\n",
       "      <td>freqByCate</td>\n",
       "      <td>[1, 0, 1, 0]</td>\n",
       "    </tr>\n",
       "    <tr>\n",
       "      <th>2</th>\n",
       "      <td>category</td>\n",
       "      <td>[PC, 動漫畫, 電競, 活動展覽]</td>\n",
       "    </tr>\n",
       "    <tr>\n",
       "      <th>3</th>\n",
       "      <td>num_frequency</td>\n",
       "      <td>8</td>\n",
       "    </tr>\n",
       "    <tr>\n",
       "      <th>4</th>\n",
       "      <td>num_occurrence</td>\n",
       "      <td>2</td>\n",
       "    </tr>\n",
       "  </tbody>\n",
       "</table>\n",
       "</div>"
      ],
      "text/plain": [
       "             name                                              value\n",
       "0      freqByDate  [{'x': '2025-03-21', 'y': 1}, {'x': '2025-03-2...\n",
       "1      freqByCate                                       [1, 0, 1, 0]\n",
       "2        category                                [PC, 動漫畫, 電競, 活動展覽]\n",
       "3   num_frequency                                                  8\n",
       "4  num_occurrence                                                  2"
      ]
     },
     "execution_count": 54,
     "metadata": {},
     "output_type": "execute_result"
    }
   ],
   "source": [
    "df_data = pd.DataFrame(list(zip(k,v)),columns=['name','value'])\n",
    "df_data"
   ]
  },
  {
   "cell_type": "code",
   "execution_count": null,
   "metadata": {},
   "outputs": [],
   "source": []
  },
  {
   "attachments": {},
   "cell_type": "markdown",
   "metadata": {},
   "source": [
    "## Read csv file and convert to dict format"
   ]
  },
  {
   "cell_type": "code",
   "execution_count": 55,
   "metadata": {},
   "outputs": [],
   "source": [
    "df_data = pd.read_csv('lol.csv')"
   ]
  },
  {
   "cell_type": "code",
   "execution_count": 56,
   "metadata": {},
   "outputs": [
    {
     "data": {
      "text/html": [
       "<div>\n",
       "<style scoped>\n",
       "    .dataframe tbody tr th:only-of-type {\n",
       "        vertical-align: middle;\n",
       "    }\n",
       "\n",
       "    .dataframe tbody tr th {\n",
       "        vertical-align: top;\n",
       "    }\n",
       "\n",
       "    .dataframe thead th {\n",
       "        text-align: right;\n",
       "    }\n",
       "</style>\n",
       "<table border=\"1\" class=\"dataframe\">\n",
       "  <thead>\n",
       "    <tr style=\"text-align: right;\">\n",
       "      <th></th>\n",
       "      <th>name</th>\n",
       "      <th>value</th>\n",
       "    </tr>\n",
       "  </thead>\n",
       "  <tbody>\n",
       "    <tr>\n",
       "      <th>0</th>\n",
       "      <td>freqByDate</td>\n",
       "      <td>[{'x': '2025-03-21', 'y': 1}, {'x': '2025-03-2...</td>\n",
       "    </tr>\n",
       "    <tr>\n",
       "      <th>1</th>\n",
       "      <td>freqByCate</td>\n",
       "      <td>[1, 0, 1, 0]</td>\n",
       "    </tr>\n",
       "    <tr>\n",
       "      <th>2</th>\n",
       "      <td>category</td>\n",
       "      <td>['PC', '動漫畫', '電競', '活動展覽']</td>\n",
       "    </tr>\n",
       "    <tr>\n",
       "      <th>3</th>\n",
       "      <td>num_frequency</td>\n",
       "      <td>8</td>\n",
       "    </tr>\n",
       "    <tr>\n",
       "      <th>4</th>\n",
       "      <td>num_occurrence</td>\n",
       "      <td>2</td>\n",
       "    </tr>\n",
       "  </tbody>\n",
       "</table>\n",
       "</div>"
      ],
      "text/plain": [
       "             name                                              value\n",
       "0      freqByDate  [{'x': '2025-03-21', 'y': 1}, {'x': '2025-03-2...\n",
       "1      freqByCate                                       [1, 0, 1, 0]\n",
       "2        category                        ['PC', '動漫畫', '電競', '活動展覽']\n",
       "3   num_frequency                                                  8\n",
       "4  num_occurrence                                                  2"
      ]
     },
     "execution_count": 56,
     "metadata": {},
     "output_type": "execute_result"
    }
   ],
   "source": [
    "df_data "
   ]
  },
  {
   "cell_type": "code",
   "execution_count": 57,
   "metadata": {},
   "outputs": [
    {
     "data": {
      "text/plain": [
       "{'freqByDate': \"[{'x': '2025-03-21', 'y': 1}, {'x': '2025-03-22', 'y': 0}, {'x': '2025-03-23', 'y': 0}, {'x': '2025-03-24', 'y': 0}, {'x': '2025-03-25', 'y': 1}]\",\n",
       " 'freqByCate': '[1, 0, 1, 0]',\n",
       " 'category': \"['PC', '動漫畫', '電競', '活動展覽']\",\n",
       " 'num_frequency': '8',\n",
       " 'num_occurrence': '2'}"
      ]
     },
     "execution_count": 57,
     "metadata": {},
     "output_type": "execute_result"
    }
   ],
   "source": [
    "# Convert to dictionary format\n",
    "dict(list(df_data.values))"
   ]
  },
  {
   "cell_type": "code",
   "execution_count": 58,
   "metadata": {},
   "outputs": [
    {
     "data": {
      "text/plain": [
       "[array(['freqByDate',\n",
       "        \"[{'x': '2025-03-21', 'y': 1}, {'x': '2025-03-22', 'y': 0}, {'x': '2025-03-23', 'y': 0}, {'x': '2025-03-24', 'y': 0}, {'x': '2025-03-25', 'y': 1}]\"],\n",
       "       dtype=object),\n",
       " array(['freqByCate', '[1, 0, 1, 0]'], dtype=object),\n",
       " array(['category', \"['PC', '動漫畫', '電競', '活動展覽']\"], dtype=object),\n",
       " array(['num_frequency', '8'], dtype=object),\n",
       " array(['num_occurrence', '2'], dtype=object)]"
      ]
     },
     "execution_count": 58,
     "metadata": {},
     "output_type": "execute_result"
    }
   ],
   "source": [
    "list(df_data.values)"
   ]
  },
  {
   "cell_type": "code",
   "execution_count": 59,
   "metadata": {},
   "outputs": [],
   "source": [
    "response = dict(list(df_data.values))\n"
   ]
  },
  {
   "cell_type": "code",
   "execution_count": 60,
   "metadata": {},
   "outputs": [
    {
     "data": {
      "text/plain": [
       "'2'"
      ]
     },
     "execution_count": 60,
     "metadata": {},
     "output_type": "execute_result"
    }
   ],
   "source": [
    "response['num_occurrence']"
   ]
  },
  {
   "cell_type": "code",
   "execution_count": 61,
   "metadata": {},
   "outputs": [
    {
     "data": {
      "text/plain": [
       "str"
      ]
     },
     "execution_count": 61,
     "metadata": {},
     "output_type": "execute_result"
    }
   ],
   "source": [
    "type(response['num_occurrence'])\n"
   ]
  },
  {
   "cell_type": "code",
   "execution_count": 62,
   "metadata": {},
   "outputs": [
    {
     "data": {
      "text/plain": [
       "str"
      ]
     },
     "execution_count": 62,
     "metadata": {},
     "output_type": "execute_result"
    }
   ],
   "source": [
    "type(response['freqByCate'])\n"
   ]
  },
  {
   "cell_type": "code",
   "execution_count": 63,
   "metadata": {},
   "outputs": [],
   "source": [
    "response['freqByCate'] = eval(response['freqByCate'])\n"
   ]
  },
  {
   "cell_type": "code",
   "execution_count": 64,
   "metadata": {},
   "outputs": [
    {
     "data": {
      "text/plain": [
       "{'freqByDate': \"[{'x': '2025-03-21', 'y': 1}, {'x': '2025-03-22', 'y': 0}, {'x': '2025-03-23', 'y': 0}, {'x': '2025-03-24', 'y': 0}, {'x': '2025-03-25', 'y': 1}]\",\n",
       " 'freqByCate': [1, 0, 1, 0],\n",
       " 'category': \"['PC', '動漫畫', '電競', '活動展覽']\",\n",
       " 'num_frequency': '8',\n",
       " 'num_occurrence': '2'}"
      ]
     },
     "execution_count": 64,
     "metadata": {},
     "output_type": "execute_result"
    }
   ],
   "source": [
    "response\n"
   ]
  },
  {
   "attachments": {},
   "cell_type": "markdown",
   "metadata": {},
   "source": [
    "### # How to convert a list into a dict?"
   ]
  },
  {
   "cell_type": "code",
   "execution_count": 65,
   "metadata": {},
   "outputs": [
    {
     "data": {
      "text/plain": [
       "[['one', [1, 2, 3]], ['two', 2]]"
      ]
     },
     "execution_count": 65,
     "metadata": {},
     "output_type": "execute_result"
    }
   ],
   "source": [
    "# How to convert a list into a dict?\n",
    "[['one',[1,2,3]], ['two',2]]"
   ]
  },
  {
   "cell_type": "code",
   "execution_count": 66,
   "metadata": {},
   "outputs": [
    {
     "data": {
      "text/plain": [
       "[['one', [1, 2, 3]], ['two', 2]]"
      ]
     },
     "execution_count": 66,
     "metadata": {},
     "output_type": "execute_result"
    }
   ],
   "source": [
    "# How to convert a list into a dict?\n",
    "[['one',[1,2,3]], ['two',2]]"
   ]
  },
  {
   "cell_type": "code",
   "execution_count": 67,
   "metadata": {},
   "outputs": [
    {
     "data": {
      "text/plain": [
       "{'one': [1, 2, 3], 'two': 2}"
      ]
     },
     "execution_count": 67,
     "metadata": {},
     "output_type": "execute_result"
    }
   ],
   "source": [
    "dict([['one',[1,2,3]], ['two',2]])"
   ]
  },
  {
   "attachments": {},
   "cell_type": "markdown",
   "metadata": {},
   "source": [
    "## All-in-one function"
   ]
  },
  {
   "cell_type": "code",
   "execution_count": 70,
   "metadata": {},
   "outputs": [],
   "source": [
    "# Load Data \n",
    "import pandas as pd\n",
    "from datetime import datetime, timedelta\n",
    "\n",
    "df = pd.read_csv('D:\\\\project_code\\\\bigdata_class_v1\\\\resources\\\\w7\\\\w07-1-Voice of share on Chen時中聲量\\\\t\\\\cna_news_preprocessed.csv',sep='|')"
   ]
  },
  {
   "cell_type": "code",
   "execution_count": 71,
   "metadata": {},
   "outputs": [],
   "source": [
    "\n",
    "\n",
    "def process_data_all_in_one(query_keywords, weeks):\n",
    "\n",
    "\n",
    "    cond='or'\n",
    "    cate='全部'\n",
    "\n",
    "    df_query = filter_df_via_content(df, query_keywords, cond, cate, weeks)\n",
    "    cate_freq, cate_occurrence, _, _ = count_keyword(df_query, query_keywords)\n",
    "    freqByDate = get_keyword_occurrence_time_series(df_query)\n",
    "\n",
    "\n",
    "    selectedCategories = ['PC','動漫畫','電競','活動展覽']\n",
    "    # selectedCategories = ['全部', '政治', '產經', '生活', '社會']\n",
    "    # selectedCategories = ['全部', '政治', '兩岸', '產經', '生活', '社會']\n",
    "    # selectedCategories = ['政治', '產經', '生活', '國際', '社會', '兩岸','全部']\n",
    "\n",
    "    freqByCate = [cate_occurrence[k] for k in selectedCategories]\n",
    "\n",
    "    response =  {'freqByDate': freqByDate,\n",
    "            'freqByCate': freqByCate,\n",
    "            'category': selectedCategories,\n",
    "            'num_frequency': cate_freq['全部'], # 這關鍵字被提多少次\n",
    "            'num_occurrence': cate_occurrence['全部'] #多少篇提到這關鍵字\n",
    "            }\n",
    "\n",
    "    \n",
    "\n",
    "    return response"
   ]
  },
  {
   "cell_type": "code",
   "execution_count": 72,
   "metadata": {},
   "outputs": [],
   "source": [
    "query_keywords = ['英雄聯盟','lol'] #不要有子字串否則會重複計算 ['陳時中','時中'] 這樣沒有意義!\n",
    "weeks=4\n",
    "data_response = process_data_all_in_one(query_keywords, weeks)"
   ]
  },
  {
   "cell_type": "code",
   "execution_count": 73,
   "metadata": {},
   "outputs": [],
   "source": [
    "df_data = pd.DataFrame(list(data_response.items()),columns=['name','value'])\n",
    "## 存成csv格式檔案\n",
    "df_data.to_csv('chen_shih_chung_data.csv',sep=',', index=None)"
   ]
  },
  {
   "cell_type": "code",
   "execution_count": 74,
   "metadata": {},
   "outputs": [],
   "source": [
    "df_data = pd.read_csv('lol.csv')"
   ]
  },
  {
   "cell_type": "code",
   "execution_count": 75,
   "metadata": {},
   "outputs": [
    {
     "data": {
      "text/html": [
       "<div>\n",
       "<style scoped>\n",
       "    .dataframe tbody tr th:only-of-type {\n",
       "        vertical-align: middle;\n",
       "    }\n",
       "\n",
       "    .dataframe tbody tr th {\n",
       "        vertical-align: top;\n",
       "    }\n",
       "\n",
       "    .dataframe thead th {\n",
       "        text-align: right;\n",
       "    }\n",
       "</style>\n",
       "<table border=\"1\" class=\"dataframe\">\n",
       "  <thead>\n",
       "    <tr style=\"text-align: right;\">\n",
       "      <th></th>\n",
       "      <th>name</th>\n",
       "      <th>value</th>\n",
       "    </tr>\n",
       "  </thead>\n",
       "  <tbody>\n",
       "    <tr>\n",
       "      <th>0</th>\n",
       "      <td>freqByDate</td>\n",
       "      <td>[{'x': '2025-03-21', 'y': 1}, {'x': '2025-03-2...</td>\n",
       "    </tr>\n",
       "    <tr>\n",
       "      <th>1</th>\n",
       "      <td>freqByCate</td>\n",
       "      <td>[1, 0, 1, 0]</td>\n",
       "    </tr>\n",
       "    <tr>\n",
       "      <th>2</th>\n",
       "      <td>category</td>\n",
       "      <td>['PC', '動漫畫', '電競', '活動展覽']</td>\n",
       "    </tr>\n",
       "    <tr>\n",
       "      <th>3</th>\n",
       "      <td>num_frequency</td>\n",
       "      <td>8</td>\n",
       "    </tr>\n",
       "    <tr>\n",
       "      <th>4</th>\n",
       "      <td>num_occurrence</td>\n",
       "      <td>2</td>\n",
       "    </tr>\n",
       "  </tbody>\n",
       "</table>\n",
       "</div>"
      ],
      "text/plain": [
       "             name                                              value\n",
       "0      freqByDate  [{'x': '2025-03-21', 'y': 1}, {'x': '2025-03-2...\n",
       "1      freqByCate                                       [1, 0, 1, 0]\n",
       "2        category                        ['PC', '動漫畫', '電競', '活動展覽']\n",
       "3   num_frequency                                                  8\n",
       "4  num_occurrence                                                  2"
      ]
     },
     "execution_count": 75,
     "metadata": {},
     "output_type": "execute_result"
    }
   ],
   "source": [
    "df_data "
   ]
  },
  {
   "cell_type": "code",
   "execution_count": null,
   "metadata": {},
   "outputs": [],
   "source": []
  },
  {
   "attachments": {},
   "cell_type": "markdown",
   "metadata": {},
   "source": [
    "# This is your featured app"
   ]
  },
  {
   "cell_type": "code",
   "execution_count": null,
   "metadata": {},
   "outputs": [],
   "source": [
    "#query_keywords = ['蔡英文','小英'] #不要有子字串否則會重複計算 ['陳時中','時中'] 這樣沒有意義!\n",
    "#query_keywords = ['賴清德'] #不要有子字串否則會重複計算 \n",
    "#query_keywords = ['柯文哲','柯P','柯p'] #不要有子字串否則會重複計算 \n",
    "query_keywords = ['蘋果','Apple','ipad','iphone','imac'] #不要有子字串否則會重複計算 \n",
    "weeks=4\n",
    "data_response = process_data_all_in_one(query_keywords, weeks)"
   ]
  },
  {
   "cell_type": "code",
   "execution_count": null,
   "metadata": {},
   "outputs": [
    {
     "data": {
      "text/plain": [
       "{'freqByDate': [{'x': '2022-03-27', 'y': 1},\n",
       "  {'x': '2022-03-28', 'y': 6},\n",
       "  {'x': '2022-03-29', 'y': 9},\n",
       "  {'x': '2022-03-30', 'y': 6},\n",
       "  {'x': '2022-03-31', 'y': 6},\n",
       "  {'x': '2022-04-01', 'y': 7},\n",
       "  {'x': '2022-04-02', 'y': 2},\n",
       "  {'x': '2022-04-03', 'y': 1},\n",
       "  {'x': '2022-04-04', 'y': 1},\n",
       "  {'x': '2022-04-05', 'y': 0},\n",
       "  {'x': '2022-04-06', 'y': 5},\n",
       "  {'x': '2022-04-07', 'y': 1},\n",
       "  {'x': '2022-04-08', 'y': 3},\n",
       "  {'x': '2022-04-09', 'y': 1},\n",
       "  {'x': '2022-04-10', 'y': 0},\n",
       "  {'x': '2022-04-11', 'y': 5},\n",
       "  {'x': '2022-04-12', 'y': 5},\n",
       "  {'x': '2022-04-13', 'y': 4},\n",
       "  {'x': '2022-04-14', 'y': 2},\n",
       "  {'x': '2022-04-15', 'y': 5},\n",
       "  {'x': '2022-04-16', 'y': 2},\n",
       "  {'x': '2022-04-17', 'y': 3},\n",
       "  {'x': '2022-04-18', 'y': 2},\n",
       "  {'x': '2022-04-19', 'y': 4},\n",
       "  {'x': '2022-04-20', 'y': 5},\n",
       "  {'x': '2022-04-21', 'y': 4},\n",
       "  {'x': '2022-04-22', 'y': 3},\n",
       "  {'x': '2022-04-23', 'y': 5}],\n",
       " 'freqByCate': [98, 0, 8, 4],\n",
       " 'category': ['全部', '政治', '生活', '社會'],\n",
       " 'num_frequency': 409,\n",
       " 'num_occurrence': 98}"
      ]
     },
     "execution_count": 48,
     "metadata": {},
     "output_type": "execute_result"
    }
   ],
   "source": [
    "data_response"
   ]
  },
  {
   "cell_type": "code",
   "execution_count": null,
   "metadata": {},
   "outputs": [],
   "source": [
    "query_keywords = ['疫情','新冠'] #不要有子字串否則會重複計算 ['陳時中','時中'] 這樣沒有意義!\n",
    "weeks=4\n",
    "data_response = process_data_all_in_one(query_keywords, weeks)"
   ]
  },
  {
   "cell_type": "code",
   "execution_count": null,
   "metadata": {},
   "outputs": [
    {
     "data": {
      "text/plain": [
       "{'freqByDate': [{'x': '2022-03-26', 'y': 46},\n",
       "  {'x': '2022-03-27', 'y': 60},\n",
       "  {'x': '2022-03-28', 'y': 99},\n",
       "  {'x': '2022-03-29', 'y': 74},\n",
       "  {'x': '2022-03-30', 'y': 104},\n",
       "  {'x': '2022-03-31', 'y': 98},\n",
       "  {'x': '2022-04-01', 'y': 75},\n",
       "  {'x': '2022-04-02', 'y': 52},\n",
       "  {'x': '2022-04-03', 'y': 57},\n",
       "  {'x': '2022-04-04', 'y': 64},\n",
       "  {'x': '2022-04-05', 'y': 70},\n",
       "  {'x': '2022-04-06', 'y': 97},\n",
       "  {'x': '2022-04-07', 'y': 119},\n",
       "  {'x': '2022-04-08', 'y': 98},\n",
       "  {'x': '2022-04-09', 'y': 74},\n",
       "  {'x': '2022-04-10', 'y': 57},\n",
       "  {'x': '2022-04-11', 'y': 103},\n",
       "  {'x': '2022-04-12', 'y': 120},\n",
       "  {'x': '2022-04-13', 'y': 150},\n",
       "  {'x': '2022-04-14', 'y': 105},\n",
       "  {'x': '2022-04-15', 'y': 94},\n",
       "  {'x': '2022-04-16', 'y': 69},\n",
       "  {'x': '2022-04-17', 'y': 71},\n",
       "  {'x': '2022-04-18', 'y': 101},\n",
       "  {'x': '2022-04-19', 'y': 122},\n",
       "  {'x': '2022-04-20', 'y': 114},\n",
       "  {'x': '2022-04-21', 'y': 116},\n",
       "  {'x': '2022-04-22', 'y': 87},\n",
       "  {'x': '2022-04-23', 'y': 56}],\n",
       " 'freqByCate': [2552, 210, 1023, 38],\n",
       " 'category': ['全部', '政治', '生活', '社會'],\n",
       " 'num_frequency': 7100,\n",
       " 'num_occurrence': 2552}"
      ]
     },
     "execution_count": 42,
     "metadata": {},
     "output_type": "execute_result"
    }
   ],
   "source": [
    "data_response"
   ]
  },
  {
   "attachments": {},
   "cell_type": "markdown",
   "metadata": {},
   "source": [
    "# views.py in Django"
   ]
  },
  {
   "cell_type": "code",
   "execution_count": null,
   "metadata": {},
   "outputs": [],
   "source": [
    "from django.http import JsonResponse\n",
    "from django.shortcuts import render\n",
    "import pandas as pd\n",
    "\n",
    "def load_data_scchen():\n",
    "    # Read data from csv file\n",
    "    df_data = pd.read_csv('app_scchen/dataset/chen_shih_chung_data.csv',sep=',')\n",
    "    global response\n",
    "    response = dict(list(df_data.values))\n",
    "    del df_data\n",
    "\n",
    "# load pk data\n",
    "load_data_scchen()\n",
    "\n",
    "def home(request):\n",
    "    return render(request,'app_scchen/home.html', response)\n",
    "\n",
    "print('app_scchen was loaded!')"
   ]
  },
  {
   "cell_type": "code",
   "execution_count": null,
   "metadata": {},
   "outputs": [],
   "source": []
  },
  {
   "attachments": {},
   "cell_type": "markdown",
   "metadata": {},
   "source": [
    "        # Saving data with other file format\n",
    "\n",
    "        ## Save to text file\n",
    "        # Save data\n",
    "        f = open('pk_politician.txt','w')\n",
    "        f.write(str(data_pk))\n",
    "        f.close()\n",
    "\n",
    "        # Load data\n",
    "        f = open('pk_politician.txt','r')\n",
    "        data_pk = f.read()\n",
    "\n",
    "        # dictionary format\n",
    "        eval(data_pk)\n",
    "        ## Save to json file\n",
    "        import json\n",
    "\n",
    "        # Save data\n",
    "        with open('pk_politician.txt', 'w') as file:\n",
    "            json.dump( data_pk, file)\n",
    "\n",
    "        # Load data\n",
    "        with open('pk_politician.txt', 'r') as file:\n",
    "            data_pk = json.load(file)\n",
    "\n",
    "        # dictionary format\n",
    "        data_pk\n",
    "\n",
    "        ## save to mongoDb (A famous NoneSQL)\n",
    "        from pymongo import MongoClient\n",
    "\n",
    "        # Save data\n",
    "        client = MongoClient()\n",
    "        database = client[\"cnaNews\"]  # SQL: Database Name\n",
    "        table_KTH = database[\"pk_politicianTsaiHan\"]   # SQL: Table Name\n",
    "\n",
    "        table_KTH.drop()\n",
    "        table_KTH.insert_one(data)\n",
    "\n",
    "\n",
    "        # Load data\n",
    "        from pymongo import MongoClient\n",
    "        client = MongoClient()\n",
    "        database = client[\"cnaNews\"]  # SQL: Database Name\n",
    "        table_KTH  = database[\"pkData\"]   # SQL: Table Name\n",
    "\n",
    "        for x in table_KTH.find():\n",
    "            print(x)\n",
    "\n",
    "        list(table_KTH.find({}, {'_id': False}))\n"
   ]
  },
  {
   "cell_type": "code",
   "execution_count": null,
   "metadata": {},
   "outputs": [],
   "source": []
  }
 ],
 "metadata": {
  "kernelspec": {
   "display_name": "venv_bigdata",
   "language": "python",
   "name": "python3"
  },
  "language_info": {
   "codemirror_mode": {
    "name": "ipython",
    "version": 3
   },
   "file_extension": ".py",
   "mimetype": "text/x-python",
   "name": "python",
   "nbconvert_exporter": "python",
   "pygments_lexer": "ipython3",
   "version": "3.11.3"
  },
  "toc-autonumbering": true
 },
 "nbformat": 4,
 "nbformat_minor": 4
}
