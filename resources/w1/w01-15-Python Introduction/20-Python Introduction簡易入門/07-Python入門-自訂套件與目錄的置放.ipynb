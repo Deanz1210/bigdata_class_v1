{
 "cells": [
  {
   "cell_type": "markdown",
   "metadata": {
    "collapsed": true
   },
   "source": [
    "# (1)Package 套件 就是一個目錄\n",
    "# (2)Module 模組 就是一個.py程式檔案"
   ]
  },
  {
   "cell_type": "raw",
   "metadata": {
    "collapsed": true
   },
   "source": [
    "* 把一個package 想成一個目錄\n",
    "  目錄底下有很多個檔案，包括一個特別的 \"__init__.py\" 檔案\n",
    "\n",
    "* 把一個 module 想成一個檔案\n",
    " 檔案裡頭可以定義 function，class，和 variable。 "
   ]
  },
  {
   "cell_type": "raw",
   "metadata": {},
   "source": [
    "注意: 模組只會import一次，你必須Kernel Restart之後，才會重新import"
   ]
  },
  {
   "cell_type": "code",
   "execution_count": null,
   "metadata": {},
   "outputs": [],
   "source": []
  },
  {
   "cell_type": "markdown",
   "metadata": {},
   "source": [
    "## Module 模組 檔案"
   ]
  },
  {
   "cell_type": "raw",
   "metadata": {},
   "source": [
    "只要你建立了一個原始碼檔案 mymodule.py，你就建立了一個模組 mymodule，程式碼檔名就是模組名稱\n",
    "\n",
    "import mymodule 陳述句會在  目前所在目錄下  尋找 mymodule.py，如果沒找到，則會試著尋找在 sys.path中遞迴地尋找 mymodule.py，如果還是沒有，則會引發 ImportError 例外。\n"
   ]
  },
  {
   "cell_type": "markdown",
   "metadata": {},
   "source": [
    "## Package 套件 目錄"
   ]
  },
  {
   "cell_type": "raw",
   "metadata": {},
   "source": [
    "假設現在你有一些 .py 檔案，別人同樣也有一堆 .py 檔案，你們的檔案現在得放在同一專案中，那麼檔案名稱衝突是有可能發生的，最好是為你們的 .py 檔案分別開設目錄。\n",
    "\n",
    "使用 Python 時，你可以在開設的目錄中放個 __init__.py 檔案，這樣 Python 就會將這個目錄視為一個套件，而目錄名稱就是套件名稱。\n",
    "\n",
    "使用 import pack.modu 陳述時，Python 會尋找 pack 目錄，看看裏頭是否有 __init__.py 檔案，然後看看目錄中是否有個 modu.py 檔案。\n",
    "\n",
    "__init__.py 檔案空白也無所謂，實際上當中也可以寫些程式碼，用來執行這個套件中都會需要的初始工作，不過慣例上，除非你有真正不得已的理由，請保持 __init__.py 檔案空白。在找到模組後，實際上會執行其中頂層範疇中的程式碼，之後，模組中的變數、函式、類別等名稱，可以透過 pack.modu 來取得。"
   ]
  },
  {
   "cell_type": "raw",
   "metadata": {},
   "source": [
    "套件\n",
    "\n",
    "一個專案有很多的模組( .py 檔案)，需要使用套件 (package)，將這些模組分門別類\n",
    "建立套件就是建立一個目錄，並且在目錄中放一個 __init__.py 檔案，此時Python就會自動將這個目錄視為套件，套件名稱就是目錄名稱。"
   ]
  },
  {
   "cell_type": "code",
   "execution_count": null,
   "metadata": {},
   "outputs": [],
   "source": []
  },
  {
   "cell_type": "markdown",
   "metadata": {},
   "source": [
    "# 模組中的變數、函式與類別，需透過以下方式取用"
   ]
  },
  {
   "cell_type": "raw",
   "metadata": {},
   "source": [
    "import xx\n",
    "import xx as zz\n",
    "from xx import yy\n",
    "from xx import yy as zz\n",
    "from xx.yy import zz"
   ]
  },
  {
   "cell_type": "markdown",
   "metadata": {},
   "source": [
    "## 命名空間 (Namespace)"
   ]
  },
  {
   "cell_type": "raw",
   "metadata": {},
   "source": [
    "Python為模組提供命名空間的機制，讓函式名稱不會產生衝突，下面有寫法，習慣上比較推薦第一種，因為第一種除了保證不會與其他名稱衝突外，也可以讓程式讀起來更容易理解，使用的函式是出自哪一個模組中。\n",
    "\n",
    "from x1 import y as z1\n",
    "from x2 import y as z2"
   ]
  },
  {
   "cell_type": "code",
   "execution_count": null,
   "metadata": {},
   "outputs": [],
   "source": []
  },
  {
   "cell_type": "raw",
   "metadata": {},
   "source": [
    "初始化一次\n",
    "Python 的模組在 import 時只會被載入一次，之後再使用import則不會有任何作用，但是也可以使用 imp.reload 的方式，重新載入。"
   ]
  },
  {
   "cell_type": "markdown",
   "metadata": {},
   "source": [
    "# 模組的搜尋路徑"
   ]
  },
  {
   "cell_type": "code",
   "execution_count": 1,
   "metadata": {},
   "outputs": [
    {
     "name": "stdout",
     "output_type": "stream",
     "text": [
      "['/Users/clhuang/miniconda3/envs/py36/lib/python36.zip', '/Users/clhuang/miniconda3/envs/py36/lib/python3.6', '/Users/clhuang/miniconda3/envs/py36/lib/python3.6/lib-dynload', '', '/Users/clhuang/miniconda3/envs/py36/lib/python3.6/site-packages', '/Users/clhuang/miniconda3/envs/py36/lib/python3.6/site-packages/IPython/extensions', '/Users/clhuang/.ipython']\n"
     ]
    }
   ],
   "source": [
    "import sys\n",
    "print(sys.path)"
   ]
  },
  {
   "cell_type": "raw",
   "metadata": {},
   "source": [
    "Python尋找某一模組 xxx.py 時，會依照 sys.path 所定義的路徑，依序搜尋\n",
    "sys.path 定義的目錄列表如下:\n",
    "1. 當前目錄下尋找 xxx.py\n",
    "2. 由環境變數 PYTHONPATH 指定的目錄下尋找\n",
    "3. 由Python的安裝路徑"
   ]
  },
  {
   "cell_type": "code",
   "execution_count": null,
   "metadata": {},
   "outputs": [],
   "source": []
  },
  {
   "cell_type": "code",
   "execution_count": null,
   "metadata": {},
   "outputs": [],
   "source": []
  },
  {
   "cell_type": "raw",
   "metadata": {},
   "source": [
    "當你import的時候，python只會在sys.path這個變量（一個list，你可以print出來看）裡面的路徑中找可能匹配的package和module。\n",
    " \n",
    "而一個package跟一個普通文件夾的區別在於，package的文件夾中多了一個__init__.py文件。換句話說，如果你在某個文件夾中添加了一個__init__.py文件，則python就認為這個文件夾是一個package。\n",
    "\n",
    "__init__.py文件可以是空的，它只是告訴python當前文件夾是一個package。當然，也可以在裡面添加一些代碼，這些代碼會在import這個包的時候運行。\n",
    "\n",
    "所以，請確保你要import的文件所在的文件夾有__init__.py文件（除非它在sys.path中某個文件夾下）。"
   ]
  },
  {
   "cell_type": "raw",
   "metadata": {},
   "source": [
    "parent_package/\n",
    " __init__.py            <- EMPTY, NOT NECESSARY in Python 3.3+\n",
    " child_package/\n",
    "      __init__.py       <- STILL REQUIRED if you want to run an initialization script\n",
    "      child1.py\n",
    "      child2.py\n",
    "      child3.py\n",
    "          "
   ]
  },
  {
   "cell_type": "raw",
   "metadata": {},
   "source": [
    "請在當前目錄下新增一個mydogmodule.py，內容如下\n",
    "\n",
    "class Dog:\n",
    "    def __init__(self, name, age): #建構子\n",
    "        self.name = name  #instance variabels實體變數 是public\n",
    "        self.age = age\n",
    "    def showMe(self):\n",
    "        return \"我的名字:\"+self.name\n",
    "    def __str__(self): #被print()列印時會執行此程式，等同於java的toString()\n",
    "        return \"姓名:%s, age:%d\" %(self.name, self.age)\n",
    "\n",
    "def hello():\n",
    "    print('hello()方法來自mymodule.py--你懂得模組概念了!')"
   ]
  },
  {
   "cell_type": "code",
   "execution_count": null,
   "metadata": {},
   "outputs": [],
   "source": []
  },
  {
   "cell_type": "code",
   "execution_count": 50,
   "metadata": {},
   "outputs": [],
   "source": [
    "from mydogmodule import Dog"
   ]
  },
  {
   "cell_type": "code",
   "execution_count": 14,
   "metadata": {},
   "outputs": [],
   "source": [
    "billy = Dog(\"Billy\", 5)"
   ]
  },
  {
   "cell_type": "code",
   "execution_count": 15,
   "metadata": {},
   "outputs": [
    {
     "data": {
      "text/plain": [
       "'姓名:Billy, age:5(mydogmodule.py)'"
      ]
     },
     "execution_count": 15,
     "metadata": {},
     "output_type": "execute_result"
    }
   ],
   "source": [
    "billy.showMe()"
   ]
  },
  {
   "cell_type": "code",
   "execution_count": null,
   "metadata": {},
   "outputs": [],
   "source": []
  },
  {
   "cell_type": "code",
   "execution_count": null,
   "metadata": {},
   "outputs": [],
   "source": [
    "from mydogmodule import hello"
   ]
  },
  {
   "cell_type": "code",
   "execution_count": 17,
   "metadata": {},
   "outputs": [
    {
     "name": "stdout",
     "output_type": "stream",
     "text": [
      "hello()方法來自mymodule.py--你懂得模組概念了!\n"
     ]
    }
   ],
   "source": [
    "hello()"
   ]
  },
  {
   "cell_type": "code",
   "execution_count": null,
   "metadata": {},
   "outputs": [],
   "source": []
  },
  {
   "cell_type": "markdown",
   "metadata": {},
   "source": [
    "# 我的套件(目錄)、模組(程式檔.py)、類別、方法"
   ]
  },
  {
   "cell_type": "raw",
   "metadata": {},
   "source": [
    "目錄結構:\n",
    "mypackage/\n",
    "  __init__.py\n",
    "  mymodule.py\n",
    "\n",
    "\n",
    "__init__.py檔案之內容:\n",
    "\n",
    "print('當你import這個目錄時，__init__.py被呼叫了')\n",
    "\n",
    "# from mymodule import Dog # 若缺少一\"點\"不能運作，相對路徑引入方式relative import\n",
    "from .mymodule import Dog\n",
    "\n",
    "dog = Dog('doggy',5)\n",
    "dogshow = dog.showMe\n",
    "\n",
    "\n",
    "mymodule.py檔案之內容:\n",
    "class Dog:\n",
    "    def __init__(self, name, age): #建構子\n",
    "        self.name = name  #instance variabels實體變數 是public\n",
    "        self.age = age\n",
    "    def showMe(self):\n",
    "        return \"我的名字:\"+self.name\n",
    "    def __str__(self): #被print()列印時會執行此程式，等同於java的toString()\n",
    "        return \"姓名:%s, age:%d\" %(self.name, self.age)\n",
    "\n",
    "def hello():\n",
    "    print('hello()方法來自mymodule.py--你懂得模組概念了!')\n",
    "\n",
    "\n",
    "# 相對路徑引入方式relative import\n",
    "from .mymodule import Dog\n",
    "\n",
    "dot表示甚麼意思?\n",
    "\n",
    "The . is a shortcut that tells it search in current package before rest of the PYTHONPATH. So, if a same-named module exists somewhere else in your PYTHONPATH, it won't be loaded.\n",
    "\n",
    "\n",
    "A single leading dot indicates a relative import, starting with the current package. Two or more leading dots give a relative import to the parent(s) of the current package, one level per dot after the first.\n",
    "\n",
    "from .moduleY import spam\n",
    "from .moduleY import spam as ham\n",
    "from . import moduleY\n",
    "from ..subpackage1 import moduleY\n",
    "from ..subpackage2.moduleZ import eggs\n",
    "from ..moduleA import foo\n",
    "from ...package import bar\n",
    "from ...sys import path\n",
    "\n",
    "Reference:\n",
    "https://www.python.org/dev/peps/pep-0328/#guido-s-decision"
   ]
  },
  {
   "cell_type": "code",
   "execution_count": null,
   "metadata": {},
   "outputs": [],
   "source": []
  },
  {
   "cell_type": "code",
   "execution_count": 4,
   "metadata": {},
   "outputs": [
    {
     "name": "stdout",
     "output_type": "stream",
     "text": [
      "當你import這個目錄時，__init__.py被呼叫了\n"
     ]
    }
   ],
   "source": [
    "from mypackage.mymodule import Dog"
   ]
  },
  {
   "cell_type": "code",
   "execution_count": 5,
   "metadata": {},
   "outputs": [
    {
     "data": {
      "text/plain": [
       "'我的名字:Billy'"
      ]
     },
     "execution_count": 5,
     "metadata": {},
     "output_type": "execute_result"
    }
   ],
   "source": [
    "billy = Dog(\"Billy\",5)\n",
    "billy.showMe()"
   ]
  },
  {
   "cell_type": "code",
   "execution_count": 6,
   "metadata": {},
   "outputs": [
    {
     "data": {
      "text/plain": [
       "mypackage.mymodule.Dog"
      ]
     },
     "execution_count": 6,
     "metadata": {},
     "output_type": "execute_result"
    }
   ],
   "source": [
    "Dog"
   ]
  },
  {
   "cell_type": "code",
   "execution_count": 7,
   "metadata": {},
   "outputs": [],
   "source": [
    "from mypackage.mymodule import hello"
   ]
  },
  {
   "cell_type": "code",
   "execution_count": 8,
   "metadata": {},
   "outputs": [
    {
     "name": "stdout",
     "output_type": "stream",
     "text": [
      "hello()方法來自mymodule.py--你懂得模組概念了!\n"
     ]
    }
   ],
   "source": [
    "hello()"
   ]
  },
  {
   "cell_type": "code",
   "execution_count": 9,
   "metadata": {},
   "outputs": [
    {
     "data": {
      "text/plain": [
       "<function mypackage.mymodule.hello()>"
      ]
     },
     "execution_count": 9,
     "metadata": {},
     "output_type": "execute_result"
    }
   ],
   "source": [
    "hello"
   ]
  },
  {
   "cell_type": "code",
   "execution_count": null,
   "metadata": {},
   "outputs": [],
   "source": []
  },
  {
   "cell_type": "code",
   "execution_count": null,
   "metadata": {},
   "outputs": [],
   "source": []
  },
  {
   "cell_type": "markdown",
   "metadata": {},
   "source": [
    "## \"__init__.py\" 幫你做好一些方便的初始化工作"
   ]
  },
  {
   "cell_type": "raw",
   "metadata": {},
   "source": [
    "\"__init__.py\" 幫你先準備好了一些變數或物件，例如：已經宣告初始化一個dog物件給你使用\n",
    "\n",
    "就像是物件導向程式設計的建構子Constructor"
   ]
  },
  {
   "cell_type": "code",
   "execution_count": 47,
   "metadata": {},
   "outputs": [],
   "source": [
    "from mypackage import dog"
   ]
  },
  {
   "cell_type": "code",
   "execution_count": 40,
   "metadata": {},
   "outputs": [],
   "source": [
    "# import mypackage.dog  #這樣寫不行!"
   ]
  },
  {
   "cell_type": "code",
   "execution_count": 41,
   "metadata": {},
   "outputs": [
    {
     "data": {
      "text/plain": [
       "<mypackage.mymodule.Dog at 0x10f736320>"
      ]
     },
     "execution_count": 41,
     "metadata": {},
     "output_type": "execute_result"
    }
   ],
   "source": [
    "dog"
   ]
  },
  {
   "cell_type": "code",
   "execution_count": 48,
   "metadata": {},
   "outputs": [
    {
     "data": {
      "text/plain": [
       "'我的名字:doggy'"
      ]
     },
     "execution_count": 48,
     "metadata": {},
     "output_type": "execute_result"
    }
   ],
   "source": [
    "dog.showMe()"
   ]
  },
  {
   "cell_type": "code",
   "execution_count": null,
   "metadata": {},
   "outputs": [],
   "source": []
  },
  {
   "cell_type": "markdown",
   "metadata": {},
   "source": [
    "## 通常我們直接匯入類別 方法，有時候你會只是把模組名稱匯入，方式如下"
   ]
  },
  {
   "cell_type": "code",
   "execution_count": 10,
   "metadata": {},
   "outputs": [],
   "source": [
    "import mypackage"
   ]
  },
  {
   "cell_type": "code",
   "execution_count": 11,
   "metadata": {},
   "outputs": [
    {
     "data": {
      "text/plain": [
       "<module 'mypackage' from 'G:\\\\我的雲端硬碟\\\\10-05-課程\\\\20-30-Python與R入門與scikitlearn分類與預測程式碼\\\\10-30-Python簡易入門\\\\mypackage\\\\__init__.py'>"
      ]
     },
     "execution_count": 11,
     "metadata": {},
     "output_type": "execute_result"
    }
   ],
   "source": [
    "mypackage"
   ]
  },
  {
   "cell_type": "code",
   "execution_count": null,
   "metadata": {},
   "outputs": [],
   "source": []
  },
  {
   "cell_type": "code",
   "execution_count": 12,
   "metadata": {},
   "outputs": [
    {
     "data": {
      "text/plain": [
       "<mypackage.mymodule.Dog at 0x21a2ecb9160>"
      ]
     },
     "execution_count": 12,
     "metadata": {},
     "output_type": "execute_result"
    }
   ],
   "source": [
    "mypackage.dog"
   ]
  },
  {
   "cell_type": "code",
   "execution_count": 13,
   "metadata": {},
   "outputs": [
    {
     "data": {
      "text/plain": [
       "'我的名字:doggy'"
      ]
     },
     "execution_count": 13,
     "metadata": {},
     "output_type": "execute_result"
    }
   ],
   "source": [
    "mypackage.dog.showMe()"
   ]
  },
  {
   "cell_type": "code",
   "execution_count": null,
   "metadata": {},
   "outputs": [],
   "source": []
  },
  {
   "cell_type": "code",
   "execution_count": 14,
   "metadata": {},
   "outputs": [
    {
     "data": {
      "text/plain": [
       "<bound method Dog.showMe of <mypackage.mymodule.Dog object at 0x0000021A2ECB9160>>"
      ]
     },
     "execution_count": 14,
     "metadata": {},
     "output_type": "execute_result"
    }
   ],
   "source": [
    "mypackage.dogshow"
   ]
  },
  {
   "cell_type": "code",
   "execution_count": 15,
   "metadata": {},
   "outputs": [
    {
     "data": {
      "text/plain": [
       "'我的名字:doggy'"
      ]
     },
     "execution_count": 15,
     "metadata": {},
     "output_type": "execute_result"
    }
   ],
   "source": [
    "mypackage.dogshow()"
   ]
  },
  {
   "cell_type": "code",
   "execution_count": 26,
   "metadata": {},
   "outputs": [],
   "source": [
    "show = mypackage.dogshow"
   ]
  },
  {
   "cell_type": "code",
   "execution_count": 27,
   "metadata": {},
   "outputs": [
    {
     "data": {
      "text/plain": [
       "<bound method Dog.showMe of <mypackage.mymodule.Dog object at 0x10f736320>>"
      ]
     },
     "execution_count": 27,
     "metadata": {},
     "output_type": "execute_result"
    }
   ],
   "source": [
    "show"
   ]
  },
  {
   "cell_type": "code",
   "execution_count": 28,
   "metadata": {},
   "outputs": [
    {
     "data": {
      "text/plain": [
       "'我的名字:doggy'"
      ]
     },
     "execution_count": 28,
     "metadata": {},
     "output_type": "execute_result"
    }
   ],
   "source": [
    "show()"
   ]
  },
  {
   "cell_type": "code",
   "execution_count": null,
   "metadata": {},
   "outputs": [],
   "source": []
  },
  {
   "cell_type": "code",
   "execution_count": null,
   "metadata": {},
   "outputs": [],
   "source": []
  },
  {
   "cell_type": "code",
   "execution_count": 29,
   "metadata": {},
   "outputs": [],
   "source": [
    "d = mypackage.dog"
   ]
  },
  {
   "cell_type": "code",
   "execution_count": 30,
   "metadata": {},
   "outputs": [
    {
     "data": {
      "text/plain": [
       "'我的名字:doggy'"
      ]
     },
     "execution_count": 30,
     "metadata": {},
     "output_type": "execute_result"
    }
   ],
   "source": [
    "d.showMe()"
   ]
  },
  {
   "cell_type": "code",
   "execution_count": null,
   "metadata": {},
   "outputs": [],
   "source": []
  },
  {
   "cell_type": "raw",
   "metadata": {},
   "source": [
    "參考資料:\n",
    "http://www.codedata.com.tw/python/python-tutorial-the-2nd-class-3-function-module-class-package"
   ]
  },
  {
   "cell_type": "code",
   "execution_count": null,
   "metadata": {},
   "outputs": [],
   "source": []
  }
 ],
 "metadata": {
  "kernelspec": {
   "display_name": "Python 3",
   "language": "python",
   "name": "python3"
  },
  "language_info": {
   "codemirror_mode": {
    "name": "ipython",
    "version": 3
   },
   "file_extension": ".py",
   "mimetype": "text/x-python",
   "name": "python",
   "nbconvert_exporter": "python",
   "pygments_lexer": "ipython3",
   "version": "3.7.6"
  },
  "toc": {
   "base_numbering": 1,
   "nav_menu": {},
   "number_sections": true,
   "sideBar": true,
   "skip_h1_title": false,
   "title_cell": "Table of Contents",
   "title_sidebar": "Contents",
   "toc_cell": false,
   "toc_position": {},
   "toc_section_display": true,
   "toc_window_display": false
  }
 },
 "nbformat": 4,
 "nbformat_minor": 2
}
