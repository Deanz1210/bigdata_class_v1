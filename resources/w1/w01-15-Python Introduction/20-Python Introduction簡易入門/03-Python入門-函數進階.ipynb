{
 "cells": [
  {
   "cell_type": "markdown",
   "metadata": {
    "collapsed": true
   },
   "source": [
    "# 進階程式"
   ]
  },
  {
   "cell_type": "markdown",
   "metadata": {},
   "source": [
    "## recursion"
   ]
  },
  {
   "cell_type": "code",
   "execution_count": null,
   "metadata": {},
   "outputs": [],
   "source": [
    "def fact(x):\n",
    "    if x == 1: return 1\n",
    "    else: return x * fact(x-1)\n",
    "\n",
    "print ('The factorial of 5 is', fact(5))"
   ]
  },
  {
   "cell_type": "code",
   "execution_count": null,
   "metadata": {},
   "outputs": [],
   "source": [
    "#another good example\n",
    "def gcd(m, n):\n",
    "    if n == 0:\n",
    "        return m\n",
    "    else:\n",
    "        return gcd(n, m % n)\n",
    "\n",
    "print(gcd(20, 30)) # 顯示 10"
   ]
  },
  {
   "cell_type": "code",
   "execution_count": null,
   "metadata": {},
   "outputs": [],
   "source": []
  },
  {
   "cell_type": "markdown",
   "metadata": {},
   "source": [
    "# 函數的參數宣告方式與呼叫時引數寫法有多種"
   ]
  },
  {
   "cell_type": "markdown",
   "metadata": {},
   "source": [
    "以下幾種形式：\n",
    "\n",
    "* 不帶默認值的參數：def func(a): pass\n",
    "* 帶有默認值的參數：def func(a, b = 1): pass\n",
    "\n",
    "* 有任意 個數參數*c：def func(a, b = 1, *c): pass\n",
    "* 有任意 鍵值參數**d：def func(a, b = 1, *c, **d): pass\n",
    "\n",
    "\n",
    "呼叫(調用)方式:\n",
    "\n",
    "* 沒有關鍵詞的引數：func(\"Tom\", 20)\n",
    "\n",
    "* 帶有關鍵詞的引數：(皆帶有關鍵詞可以不考慮順序，這不會搞錯!)\n",
    "\n",
    "  * func(a = \"Tom\" , b = 20)\n",
    "     或\n",
    "  * func(b = 20, a = \"Tom\")\n",
    "\n",
    "\n",
    "  * 可以混用：func(\"Tom\", b = 20)   先認定位置引述，後面帶關鍵詞的引數可以是任意位置\n",
    "\n",
    "  * 但是-- 位置引數不能在關鍵詞引數之後出現-->這合理，因為這樣寫位置會錯亂了!\n",
    "\n",
    "   fun(a=\"Tom\", 20) ==> SyntaxError: positional argument follows keyword argument"
   ]
  },
  {
   "cell_type": "code",
   "execution_count": null,
   "metadata": {},
   "outputs": [],
   "source": []
  },
  {
   "cell_type": "markdown",
   "metadata": {},
   "source": [
    "# 函數參數: 個數不一的參數"
   ]
  },
  {
   "cell_type": "raw",
   "metadata": {},
   "source": [
    "兩種:\n",
    "\n",
    "(1) *args   參數個數有任意個\n",
    "\n",
    "(2) ** kwargs  參數可以給予像是字典格式的索引"
   ]
  },
  {
   "cell_type": "markdown",
   "metadata": {},
   "source": [
    "The single asterisk form (*args) is used to pass a non-keyworded, variablelength argument list, and the double asterisk form is used to pass a keyworded, variable-length argument list."
   ]
  },
  {
   "cell_type": "code",
   "execution_count": null,
   "metadata": {},
   "outputs": [],
   "source": []
  },
  {
   "cell_type": "code",
   "execution_count": null,
   "metadata": {},
   "outputs": [],
   "source": [
    "def var_args(farg, *args):\n",
    "    print( \"formal arg:\", farg )\n",
    "    for arg in args:\n",
    "        print(\"another arg:\", arg)\n",
    "var_args(1, \"two\", 3)"
   ]
  },
  {
   "cell_type": "code",
   "execution_count": null,
   "metadata": {},
   "outputs": [],
   "source": []
  },
  {
   "cell_type": "code",
   "execution_count": null,
   "metadata": {},
   "outputs": [],
   "source": [
    "args = (\"two\", 3)\n",
    "var_args(1, args)"
   ]
  },
  {
   "cell_type": "code",
   "execution_count": null,
   "metadata": {},
   "outputs": [],
   "source": []
  },
  {
   "cell_type": "code",
   "execution_count": null,
   "metadata": {},
   "outputs": [],
   "source": [
    "args = (\"two\", 3) #tuple 若要把引數\n",
    "var_args(1, *args)"
   ]
  },
  {
   "cell_type": "code",
   "execution_count": null,
   "metadata": {},
   "outputs": [],
   "source": [
    "args = {\"two\", 3} #字典dict\n",
    "var_args(1, *args)"
   ]
  },
  {
   "cell_type": "code",
   "execution_count": null,
   "metadata": {},
   "outputs": [],
   "source": [
    "args = [\"two\", 3] #list\n",
    "var_args(1, *args)"
   ]
  },
  {
   "cell_type": "code",
   "execution_count": null,
   "metadata": {},
   "outputs": [],
   "source": []
  },
  {
   "cell_type": "code",
   "execution_count": null,
   "metadata": {},
   "outputs": [],
   "source": []
  },
  {
   "cell_type": "code",
   "execution_count": null,
   "metadata": {},
   "outputs": [],
   "source": [
    "def var_kwargs(farg, **kwargs):\n",
    "    print( \"formal arg:\", farg )\n",
    "    for key in kwargs:\n",
    "        print (\"another keyword arg: %s: %s\" % (key, kwargs[key]))"
   ]
  },
  {
   "cell_type": "code",
   "execution_count": null,
   "metadata": {},
   "outputs": [],
   "source": [
    "# 可以給予key的方式呼叫\n",
    "var_kwargs(farg=1, myarg2=\"two\", myarg3=3)"
   ]
  },
  {
   "cell_type": "code",
   "execution_count": null,
   "metadata": {},
   "outputs": [],
   "source": []
  },
  {
   "cell_type": "code",
   "execution_count": null,
   "metadata": {},
   "outputs": [],
   "source": [
    "# 用dict格式\n",
    "kwargs = {\"arg3\": 3, \"arg2\": \"two\"}\n",
    "var_kwargs(1, **kwargs)"
   ]
  },
  {
   "cell_type": "code",
   "execution_count": null,
   "metadata": {},
   "outputs": [],
   "source": []
  },
  {
   "cell_type": "code",
   "execution_count": null,
   "metadata": {},
   "outputs": [],
   "source": []
  },
  {
   "cell_type": "code",
   "execution_count": null,
   "metadata": {},
   "outputs": [],
   "source": []
  },
  {
   "cell_type": "code",
   "execution_count": null,
   "metadata": {},
   "outputs": [],
   "source": [
    "def test_var_args_call(arg1, arg2, arg3):\n",
    "    print (\"arg1:\", arg1)\n",
    "    print (\"arg2:\", arg2)\n",
    "    print (\"arg3:\", arg3)"
   ]
  },
  {
   "cell_type": "code",
   "execution_count": null,
   "metadata": {},
   "outputs": [],
   "source": [
    "kwargs2 = {\"arg3\": 3, \"arg2\": \"two\"}\n",
    "test_var_args_call(1, **kwargs2)"
   ]
  },
  {
   "cell_type": "code",
   "execution_count": null,
   "metadata": {},
   "outputs": [],
   "source": []
  },
  {
   "cell_type": "code",
   "execution_count": null,
   "metadata": {},
   "outputs": [],
   "source": []
  },
  {
   "cell_type": "markdown",
   "metadata": {},
   "source": [
    "# yield 的用法"
   ]
  },
  {
   "cell_type": "raw",
   "metadata": {},
   "source": [
    "yield 和 return 很像\n",
    "\n",
    "return 時，程式主導權回到呼叫該函數的手上，離開就忘記，下次再回來重新開始。 (stack 就會被清除)\n",
    "\n",
    "yield 會把程式主導權交給呼叫該函數的手上，但下次呼叫時，可以從上次未執行的部分開始執行。離開後沒忘記，下次回來還記得繼續執行下一行。\n",
    "\n",
    "\n",
    "\n",
    "利用產生器物件(generator)來節省記憶體空間，當資料是依序計算或一批一批讀取資料進入記憶題的話，就是使用產生器的時機。例如:深度學習在訓練模型時，使用generator物件可以節省記憶體。"
   ]
  },
  {
   "cell_type": "code",
   "execution_count": null,
   "metadata": {},
   "outputs": [],
   "source": [
    "# 以下為使用 return and yield實例，可以看出明顯的不同。"
   ]
  },
  {
   "cell_type": "code",
   "execution_count": null,
   "metadata": {},
   "outputs": [],
   "source": [
    "def fib(n):\n",
    "    L = []\n",
    "    i, a, b = 0, 0, 1\n",
    "    while i < n:\n",
    "        L.append(b)\n",
    "        a, b = b, a + b\n",
    "        i += 1\n",
    "    \n",
    "    return L\n",
    "\n",
    "print(fib(10))"
   ]
  },
  {
   "cell_type": "code",
   "execution_count": null,
   "metadata": {
    "scrolled": true
   },
   "outputs": [],
   "source": [
    "def fib2(n):\n",
    "    i, a, b = 0, 0, 1\n",
    "    while True:\n",
    "        if n <= 0 or i == n:\n",
    "            break\n",
    "        a, b = b, a + b\n",
    "        yield a\n",
    "        i += 1\n",
    "\n",
    "d = fib2(10)\n",
    "for i in d:\n",
    "    print(i)"
   ]
  },
  {
   "cell_type": "code",
   "execution_count": null,
   "metadata": {},
   "outputs": [],
   "source": [
    "d = fib2(10)\n",
    "next(d)"
   ]
  },
  {
   "cell_type": "code",
   "execution_count": null,
   "metadata": {},
   "outputs": [],
   "source": [
    "next(d)"
   ]
  },
  {
   "cell_type": "code",
   "execution_count": null,
   "metadata": {},
   "outputs": [],
   "source": []
  }
 ],
 "metadata": {
  "kernelspec": {
   "display_name": "Python 3",
   "language": "python",
   "name": "python3"
  },
  "language_info": {
   "codemirror_mode": {
    "name": "ipython",
    "version": 3
   },
   "file_extension": ".py",
   "mimetype": "text/x-python",
   "name": "python",
   "nbconvert_exporter": "python",
   "pygments_lexer": "ipython3",
   "version": "3.7.9"
  },
  "toc": {
   "base_numbering": 1,
   "nav_menu": {},
   "number_sections": true,
   "sideBar": true,
   "skip_h1_title": false,
   "title_cell": "Table of Contents",
   "title_sidebar": "Contents",
   "toc_cell": false,
   "toc_position": {},
   "toc_section_display": true,
   "toc_window_display": false
  }
 },
 "nbformat": 4,
 "nbformat_minor": 1
}
