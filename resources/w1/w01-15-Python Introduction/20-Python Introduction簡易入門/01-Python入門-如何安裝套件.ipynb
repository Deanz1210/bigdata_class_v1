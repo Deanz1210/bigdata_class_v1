{
 "cells": [
  {
   "cell_type": "markdown",
   "metadata": {},
   "source": [
    "\n",
    "# Python如何安裝套件？\n",
    "\n",
    "\n"
   ]
  },
  {
   "cell_type": "markdown",
   "metadata": {},
   "source": [
    "# 用 pip \n",
    "\n",
    "### 安裝套件\n",
    "\n",
    "於命令列模式下輸入下列指令：\n",
    ">pip install [套件名稱]\n",
    "\n",
    ">pip install [套件名稱]==版本\n",
    "\n",
    ">pip install -U [套件名稱]\n",
    "\n",
    "### 移除套件\n",
    ">pip uninstall [套件名稱]\n",
    "\n",
    "### 列出所有已安裝的套件\n",
    "> pip list\n",
    "\n",
    "### 產生所有已安裝的套件的文件格式(有版本資訊)\n",
    "\n",
    "> pip freeze\n",
    "\n",
    "> pip freeze > requirement.txt"
   ]
  },
  {
   "cell_type": "markdown",
   "metadata": {},
   "source": [
    "# 用 conda\n",
    "\n",
    "### 安裝套件\n",
    "\n",
    "於命令列模式下輸入下列指令：\n",
    "\n",
    ">conda install [套件名稱]\n",
    "\n",
    ">conda update scipy\n",
    "\n",
    "\n",
    "\n",
    "### 列出所有已安裝的套件\n",
    ">conda list\n",
    "\n",
    "### 移除套件\n",
    ">conda uninstall [套件名稱]\n",
    "\n",
    "\n",
    "### 更新套件\n",
    "\n",
    "更新某個套件\n",
    ">conda update scipy\n",
    "\n",
    "\n",
    "更新conda 為最新版\n",
    "\n",
    ">conda update conda\n",
    "\n",
    "\n",
    "更新整個Anaconda\n",
    "\n",
    ">conda update anaconda\n"
   ]
  },
  {
   "cell_type": "markdown",
   "metadata": {},
   "source": [
    "# 用 easy_install \n",
    "\n",
    "### 安裝套件\n",
    "\n",
    "於命令列模式下輸入下列指令：\n",
    "\n",
    ">easy_install [套件名稱]\n",
    "\n",
    "也可以指定一個網路連結來安裝：\n",
    ">easy_install http://example.com/virtualenv.egg\n",
    "\n",
    "### 移除套件\n",
    ">easy_install -m virtualenv\n",
    "\n"
   ]
  },
  {
   "cell_type": "markdown",
   "metadata": {},
   "source": [
    "# PyPI - the Python Package Index\n",
    "The Python Package Index is a repository of software for the Python programming language. There are currently 70191 packages here. \n",
    "\n",
    "https://pypi.python.org/pypi"
   ]
  },
  {
   "cell_type": "code",
   "execution_count": null,
   "metadata": {
    "collapsed": true
   },
   "outputs": [],
   "source": []
  }
 ],
 "metadata": {
  "kernelspec": {
   "display_name": "Python 3",
   "language": "python",
   "name": "python3"
  },
  "language_info": {
   "codemirror_mode": {
    "name": "ipython",
    "version": 3
   },
   "file_extension": ".py",
   "mimetype": "text/x-python",
   "name": "python",
   "nbconvert_exporter": "python",
   "pygments_lexer": "ipython3",
   "version": "3.7.8"
  },
  "toc": {
   "base_numbering": 1,
   "nav_menu": {},
   "number_sections": true,
   "sideBar": true,
   "skip_h1_title": false,
   "title_cell": "Table of Contents",
   "title_sidebar": "Contents",
   "toc_cell": false,
   "toc_position": {},
   "toc_section_display": true,
   "toc_window_display": false
  }
 },
 "nbformat": 4,
 "nbformat_minor": 1
}
