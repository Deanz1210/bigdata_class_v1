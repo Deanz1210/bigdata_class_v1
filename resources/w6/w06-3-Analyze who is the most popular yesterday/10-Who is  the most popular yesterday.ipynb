{
 "cells": [
  {
   "cell_type": "markdown",
   "metadata": {
    "collapsed": true
   },
   "source": [
    "# Count top 5 persons via NER\n",
    "\n",
    "We want to display yesterday's top persons.\n"
   ]
  },
  {
   "cell_type": "markdown",
   "metadata": {},
   "source": [
    "# Read data"
   ]
  },
  {
   "cell_type": "code",
   "execution_count": 194,
   "metadata": {},
   "outputs": [],
   "source": [
    "import pandas as pd"
   ]
  },
  {
   "cell_type": "code",
   "execution_count": 195,
   "metadata": {},
   "outputs": [],
   "source": [
    "df = pd.read_csv('cna_news_preprocessed.csv',sep='|')"
   ]
  },
  {
   "cell_type": "code",
   "execution_count": 196,
   "metadata": {},
   "outputs": [
    {
     "data": {
      "text/html": [
       "<div>\n",
       "<style scoped>\n",
       "    .dataframe tbody tr th:only-of-type {\n",
       "        vertical-align: middle;\n",
       "    }\n",
       "\n",
       "    .dataframe tbody tr th {\n",
       "        vertical-align: top;\n",
       "    }\n",
       "\n",
       "    .dataframe thead th {\n",
       "        text-align: right;\n",
       "    }\n",
       "</style>\n",
       "<table border=\"1\" class=\"dataframe\">\n",
       "  <thead>\n",
       "    <tr style=\"text-align: right;\">\n",
       "      <th></th>\n",
       "      <th>item_id</th>\n",
       "      <th>date</th>\n",
       "      <th>category</th>\n",
       "      <th>title</th>\n",
       "      <th>content</th>\n",
       "      <th>sentiment</th>\n",
       "      <th>summary</th>\n",
       "      <th>top_key_freq</th>\n",
       "      <th>tokens</th>\n",
       "      <th>tokens_v2</th>\n",
       "      <th>entities</th>\n",
       "      <th>token_pos</th>\n",
       "      <th>link</th>\n",
       "      <th>photo_link</th>\n",
       "    </tr>\n",
       "  </thead>\n",
       "  <tbody>\n",
       "    <tr>\n",
       "      <th>0</th>\n",
       "      <td>index.php?k=1_2025-03-27_1</td>\n",
       "      <td>2025-03-27</td>\n",
       "      <td>PC</td>\n",
       "      <td>多平台\\n《餓狼傳說 City of the Wolves》足球界傳奇巨星「克里斯蒂亞諾‧羅...</td>\n",
       "      <td>株式會社 SNK 今日（3/27）宣布，足球界傳奇巨星「克里斯蒂亞諾‧羅納度」確定將以可遊玩...</td>\n",
       "      <td>暫無</td>\n",
       "      <td>暫無</td>\n",
       "      <td>[('遊戲', 8), ('足球', 8), ('傳說', 7), ('角色', 6), (...</td>\n",
       "      <td>['株式會社', ' SNK ', '今日', '（', '3/27', '）', '宣布'...</td>\n",
       "      <td>['株式會社', '宣布', '足球界', '傳奇', '巨星', '克里斯蒂亞諾‧羅納度'...</td>\n",
       "      <td>[NerToken(word='株式會社', ner='ORG', idx=(0, 4)),...</td>\n",
       "      <td>[('株式會社', 'Nc'), (' SNK ', 'FW'), ('今日', 'Nd')...</td>\n",
       "      <td>https://gnn.gamer.com.tw/detail.php?sn=282906</td>\n",
       "      <td>https://p2.bahamut.com.tw/B/2KU/58/2fc0d3915aa...</td>\n",
       "    </tr>\n",
       "  </tbody>\n",
       "</table>\n",
       "</div>"
      ],
      "text/plain": [
       "                      item_id        date category  \\\n",
       "0  index.php?k=1_2025-03-27_1  2025-03-27       PC   \n",
       "\n",
       "                                               title  \\\n",
       "0  多平台\\n《餓狼傳說 City of the Wolves》足球界傳奇巨星「克里斯蒂亞諾‧羅...   \n",
       "\n",
       "                                             content sentiment summary  \\\n",
       "0  株式會社 SNK 今日（3/27）宣布，足球界傳奇巨星「克里斯蒂亞諾‧羅納度」確定將以可遊玩...        暫無      暫無   \n",
       "\n",
       "                                        top_key_freq  \\\n",
       "0  [('遊戲', 8), ('足球', 8), ('傳說', 7), ('角色', 6), (...   \n",
       "\n",
       "                                              tokens  \\\n",
       "0  ['株式會社', ' SNK ', '今日', '（', '3/27', '）', '宣布'...   \n",
       "\n",
       "                                           tokens_v2  \\\n",
       "0  ['株式會社', '宣布', '足球界', '傳奇', '巨星', '克里斯蒂亞諾‧羅納度'...   \n",
       "\n",
       "                                            entities  \\\n",
       "0  [NerToken(word='株式會社', ner='ORG', idx=(0, 4)),...   \n",
       "\n",
       "                                           token_pos  \\\n",
       "0  [('株式會社', 'Nc'), (' SNK ', 'FW'), ('今日', 'Nd')...   \n",
       "\n",
       "                                            link  \\\n",
       "0  https://gnn.gamer.com.tw/detail.php?sn=282906   \n",
       "\n",
       "                                          photo_link  \n",
       "0  https://p2.bahamut.com.tw/B/2KU/58/2fc0d3915aa...  "
      ]
     },
     "execution_count": 196,
     "metadata": {},
     "output_type": "execute_result"
    }
   ],
   "source": [
    "df.head(1)"
   ]
  },
  {
   "cell_type": "code",
   "execution_count": null,
   "metadata": {},
   "outputs": [],
   "source": []
  },
  {
   "cell_type": "raw",
   "metadata": {},
   "source": [
    "\n",
    "Name\tDescription\n",
    "CARDINAL\t數字\n",
    "DATE\t日期\n",
    "EVENT\t事件\n",
    "FAC\t設施\n",
    "GPE\t行政區\n",
    "LANGUAGE\t語言\n",
    "LAW\t法律\n",
    "LOC\t地理區\n",
    "MONEY\t金錢\n",
    "NORP\t民族、宗教、政治團體\n",
    "ORDINAL\t序數\n",
    "ORG\t組織\n",
    "PERCENT\t百分比率\n",
    "PERSON\t人物\n",
    "PRODUCT\t產品\n",
    "QUANTITY\t數量\n",
    "TIME\t時間\n",
    "WORK_OF_ART\t作品"
   ]
  },
  {
   "cell_type": "code",
   "execution_count": 197,
   "metadata": {},
   "outputs": [
    {
     "data": {
      "text/plain": [
       "\"[NerToken(word='株式會社', ner='ORG', idx=(0, 4)), NerToken(word=' SNK ', ner='ORG', idx=(4, 9)), NerToken(word='今日', ner='DATE', idx=(9, 11)), NerToken(word='3/27）', ner='DATE', idx=(12, 17)), NerToken(word='克里斯蒂亞諾‧羅納度', ner='WORK_OF_ART', idx=(28, 38)), NerToken(word='英格蘭', ner='ORG', idx=(218, 221)), NerToken(word='西班牙', ner='GPE', idx=(222, 225)), NerToken(word='義大利', ner='GPE', idx=(226, 229)), NerToken(word='歐洲足球錦標賽', ner='ORG', idx=(266, 273)), NerToken(word='歐洲國家聯賽', ner='ORG', idx=(276, 282)), NerToken(word='第一', ner='ORDINAL', idx=(309, 311)), NerToken(word='五', ner='CARDINAL', idx=(314, 315)), NerToken(word=' 5 次金球獎', ner='ORG', idx=(341, 348)), NerToken(word='歐洲金靴獎', ner='ORG', idx=(352, 357)), NerToken(word=' 2 次國際足聯最佳球員獎', ner='ORG', idx=(358, 371)), NerToken(word='餓狼傳說', ner='WORK_OF_ART', idx=(629, 633)), NerToken(word=' PS4 版', ner='ORG', idx=(908, 914)), NerToken(word='PS5', ner='ORG', idx=(919, 922)), NerToken(word='2025', ner='DATE', idx=(1058, 1062)), NerToken(word='2025 年夏季', ner='DATE', idx=(1081, 1089)), NerToken(word='2025', ner='DATE', idx=(1105, 1109)), NerToken(word='2025 年', ner='DATE', idx=(1129, 1135)), NerToken(word='日文', ner='LANGUAGE', idx=(1192, 1194)), NerToken(word='英文', ner='LANGUAGE', idx=(1197, 1199)), NerToken(word='株式會社', ner='ORG', idx=(1269, 1273))]\""
      ]
     },
     "execution_count": 197,
     "metadata": {},
     "output_type": "execute_result"
    }
   ],
   "source": [
    "# Take a look at the named entities of the first news \n",
    "df.entities[0]"
   ]
  },
  {
   "cell_type": "code",
   "execution_count": 198,
   "metadata": {},
   "outputs": [],
   "source": [
    "# NerToken(word='烏克蘭', ner='GPE', idx=(4, 7))  # call function NerToken with three parameters: word, ner, and idx\n",
    "def NerToken(word, ner, idx):\n",
    "    # print(ner,word)\n",
    "    return ner,word\n"
   ]
  },
  {
   "cell_type": "code",
   "execution_count": 199,
   "metadata": {},
   "outputs": [
    {
     "data": {
      "text/plain": [
       "('GPE', '烏克蘭')"
      ]
     },
     "execution_count": 199,
     "metadata": {},
     "output_type": "execute_result"
    }
   ],
   "source": [
    "# call function NerToken with three parameters: word, ner, and idx\n",
    "NerToken(word='烏克蘭', ner='GPE', idx=(4, 7))"
   ]
  },
  {
   "cell_type": "code",
   "execution_count": 200,
   "metadata": {},
   "outputs": [
    {
     "data": {
      "text/plain": [
       "[('ORG', '株式會社'),\n",
       " ('ORG', ' SNK '),\n",
       " ('DATE', '今日'),\n",
       " ('DATE', '3/27）'),\n",
       " ('WORK_OF_ART', '克里斯蒂亞諾‧羅納度'),\n",
       " ('ORG', '英格蘭'),\n",
       " ('GPE', '西班牙'),\n",
       " ('GPE', '義大利'),\n",
       " ('ORG', '歐洲足球錦標賽'),\n",
       " ('ORG', '歐洲國家聯賽'),\n",
       " ('ORDINAL', '第一'),\n",
       " ('CARDINAL', '五'),\n",
       " ('ORG', ' 5 次金球獎'),\n",
       " ('ORG', '歐洲金靴獎'),\n",
       " ('ORG', ' 2 次國際足聯最佳球員獎'),\n",
       " ('WORK_OF_ART', '餓狼傳說'),\n",
       " ('ORG', ' PS4 版'),\n",
       " ('ORG', 'PS5'),\n",
       " ('DATE', '2025'),\n",
       " ('DATE', '2025 年夏季'),\n",
       " ('DATE', '2025'),\n",
       " ('DATE', '2025 年'),\n",
       " ('LANGUAGE', '日文'),\n",
       " ('LANGUAGE', '英文'),\n",
       " ('ORG', '株式會社')]"
      ]
     },
     "execution_count": 200,
     "metadata": {},
     "output_type": "execute_result"
    }
   ],
   "source": [
    "eval(df.entities[0])"
   ]
  },
  {
   "cell_type": "code",
   "execution_count": null,
   "metadata": {},
   "outputs": [],
   "source": []
  },
  {
   "cell_type": "code",
   "execution_count": 201,
   "metadata": {},
   "outputs": [
    {
     "name": "stdout",
     "output_type": "stream",
     "text": [
      "ORG 株式會社\n",
      "ORG  SNK \n",
      "DATE 今日\n",
      "DATE 3/27）\n",
      "WORK_OF_ART 克里斯蒂亞諾‧羅納度\n",
      "ORG 英格蘭\n",
      "GPE 西班牙\n",
      "GPE 義大利\n",
      "ORG 歐洲足球錦標賽\n",
      "ORG 歐洲國家聯賽\n",
      "ORDINAL 第一\n",
      "CARDINAL 五\n",
      "ORG  5 次金球獎\n",
      "ORG 歐洲金靴獎\n",
      "ORG  2 次國際足聯最佳球員獎\n",
      "WORK_OF_ART 餓狼傳說\n",
      "ORG  PS4 版\n",
      "ORG PS5\n",
      "DATE 2025\n",
      "DATE 2025 年夏季\n",
      "DATE 2025\n",
      "DATE 2025 年\n",
      "LANGUAGE 日文\n",
      "LANGUAGE 英文\n",
      "ORG 株式會社\n"
     ]
    }
   ],
   "source": [
    "# We need the name and keyword\n",
    "for ner,key in eval(df.entities[0]):\n",
    "    print(ner,key)"
   ]
  },
  {
   "cell_type": "code",
   "execution_count": null,
   "metadata": {},
   "outputs": [],
   "source": []
  },
  {
   "cell_type": "code",
   "execution_count": 202,
   "metadata": {},
   "outputs": [],
   "source": [
    "from collections import Counter"
   ]
  },
  {
   "cell_type": "code",
   "execution_count": 203,
   "metadata": {},
   "outputs": [],
   "source": [
    "import pandas as pd\n",
    "from datetime import datetime, timedelta"
   ]
  },
  {
   "cell_type": "code",
   "execution_count": null,
   "metadata": {},
   "outputs": [],
   "source": []
  },
  {
   "cell_type": "markdown",
   "metadata": {},
   "source": [
    "# Find top persons for a cerain day or for a period of time\n",
    "\n",
    "    Why do we do this? \n",
    "    \n",
    "    For example, find yesterday's top keywords.昨日熱門 某日熱門 某周熱門 某月熱門\n",
    "\n",
    "    The format of \"date\" column here is string.\n",
    "\n",
    "    If it is datetime format, you should use datetime format such as datetime.date(2019,9,23)\n",
    "\n",
    "    df.query(\"date == '2020-03-14'\")\n",
    "\n",
    "    For a time period, we should calcalate the time period that is greater than the start date and less than the end date.\n",
    "\n",
    "    start_date = (datetime.strptime(end_date, '%Y-%m-%d').date() - timedelta(days=1)).strftime('%Y-%m-%d') # 昨日誰最大\n",
    "    start_date = (datetime.strptime(end_date, '%Y-%m-%d').date() - timedelta(days=7)).strftime('%Y-%m-%d') # 上週誰最大\n"
   ]
  },
  {
   "cell_type": "code",
   "execution_count": 204,
   "metadata": {},
   "outputs": [
    {
     "data": {
      "text/plain": [
       "'2025-03-27'"
      ]
     },
     "execution_count": 204,
     "metadata": {},
     "output_type": "execute_result"
    }
   ],
   "source": [
    "# maximum date time\n",
    "df.date.max()"
   ]
  },
  {
   "cell_type": "code",
   "execution_count": 205,
   "metadata": {},
   "outputs": [
    {
     "data": {
      "text/plain": [
       "'2025-01-07'"
      ]
     },
     "execution_count": 205,
     "metadata": {},
     "output_type": "execute_result"
    }
   ],
   "source": [
    "# minimum date time\n",
    "df.date.min()"
   ]
  },
  {
   "cell_type": "code",
   "execution_count": null,
   "metadata": {},
   "outputs": [],
   "source": []
  },
  {
   "cell_type": "markdown",
   "metadata": {},
   "source": [
    "## Filter news"
   ]
  },
  {
   "cell_type": "code",
   "execution_count": 206,
   "metadata": {},
   "outputs": [],
   "source": [
    "# Appraoch 1: Filter by time duration\n",
    "# end date: the date of the latest record of news\n",
    "end_date = df.date.max()\n",
    "# start date\n",
    "start_date = (datetime.strptime(end_date, '%Y-%m-%d').date() - timedelta(days=1)).strftime('%Y-%m-%d') # 昨日誰最大\n",
    "#start_date = (datetime.strptime(end_date, '%Y-%m-%d').date() - timedelta(days=7)).strftime('%Y-%m-%d') # 上週誰最大\n",
    "# Filter news\n",
    "query_df = df[(df.date >= start_date) & (df.date <= end_date)] "
   ]
  },
  {
   "cell_type": "code",
   "execution_count": 207,
   "metadata": {},
   "outputs": [],
   "source": [
    "# Approch 2:\n",
    "# query_df = df[df['date'] == end_date]\n",
    "# query_df = df[df['date'] == '2020-03-14']"
   ]
  },
  {
   "cell_type": "code",
   "execution_count": 208,
   "metadata": {},
   "outputs": [
    {
     "data": {
      "text/plain": [
       "(113, 14)"
      ]
     },
     "execution_count": 208,
     "metadata": {},
     "output_type": "execute_result"
    }
   ],
   "source": [
    "query_df.shape"
   ]
  },
  {
   "cell_type": "code",
   "execution_count": 209,
   "metadata": {},
   "outputs": [],
   "source": [
    "# Filter condition: two words and specified NE\n",
    "# 過濾條件:兩個字以上 特定的詞性\n",
    "allowedNE=['PERSON']"
   ]
  },
  {
   "cell_type": "code",
   "execution_count": 210,
   "metadata": {},
   "outputs": [],
   "source": [
    "filtered_words =[]\n",
    "for ner,word in eval(query_df.entities[0]):\n",
    "    if (len(word) >= 2) & (ner in allowedNE):\n",
    "        filtered_words.append(word)"
   ]
  },
  {
   "cell_type": "code",
   "execution_count": 211,
   "metadata": {},
   "outputs": [
    {
     "data": {
      "text/plain": [
       "[]"
      ]
     },
     "execution_count": 211,
     "metadata": {},
     "output_type": "execute_result"
    }
   ],
   "source": [
    "filtered_words"
   ]
  },
  {
   "cell_type": "code",
   "execution_count": 212,
   "metadata": {},
   "outputs": [
    {
     "data": {
      "text/plain": [
       "[]"
      ]
     },
     "execution_count": 212,
     "metadata": {},
     "output_type": "execute_result"
    }
   ],
   "source": [
    "counter = Counter( filtered_words )\n",
    "counter.most_common( 5 )"
   ]
  },
  {
   "cell_type": "code",
   "execution_count": null,
   "metadata": {},
   "outputs": [],
   "source": []
  },
  {
   "cell_type": "markdown",
   "metadata": {},
   "source": [
    "# Define a function to count top 5 persons for a piece of news"
   ]
  },
  {
   "cell_type": "code",
   "execution_count": 213,
   "metadata": {},
   "outputs": [],
   "source": [
    "def ne_word_frequency( a_news_ne ):\n",
    "    filtered_words =[]\n",
    "    for ner,word in a_news_ne:\n",
    "        if (len(word) >= 2) & (ner in allowedNE):\n",
    "            filtered_words.append(word)\n",
    "    counter = Counter( filtered_words )\n",
    "    return counter.most_common( 5 )"
   ]
  },
  {
   "cell_type": "code",
   "execution_count": 214,
   "metadata": {
    "scrolled": true
   },
   "outputs": [
    {
     "data": {
      "text/plain": [
       "[]"
      ]
     },
     "execution_count": 214,
     "metadata": {},
     "output_type": "execute_result"
    }
   ],
   "source": [
    "ne_word_frequency(eval(df.entities[0]))"
   ]
  },
  {
   "cell_type": "code",
   "execution_count": 215,
   "metadata": {
    "scrolled": true
   },
   "outputs": [
    {
     "data": {
      "text/plain": [
       "[]"
      ]
     },
     "execution_count": 215,
     "metadata": {},
     "output_type": "execute_result"
    }
   ],
   "source": [
    "ne_word_frequency(eval(df.entities[1]))"
   ]
  },
  {
   "cell_type": "code",
   "execution_count": null,
   "metadata": {},
   "outputs": [],
   "source": []
  },
  {
   "cell_type": "markdown",
   "metadata": {},
   "source": [
    "## How to calculate frequency a couple of news?\n",
    "### Concatenate (add or combine) two lists"
   ]
  },
  {
   "cell_type": "code",
   "execution_count": 216,
   "metadata": {},
   "outputs": [],
   "source": [
    "# Let's define a empty list to store NEs of a news category\n",
    "ne_group=[]"
   ]
  },
  {
   "cell_type": "code",
   "execution_count": 217,
   "metadata": {},
   "outputs": [],
   "source": [
    "# concatenate the first NE list\n",
    "ne_group+=eval(query_df.entities[0]) "
   ]
  },
  {
   "cell_type": "code",
   "execution_count": 218,
   "metadata": {},
   "outputs": [
    {
     "data": {
      "text/plain": [
       "[('ORG', '株式會社'),\n",
       " ('ORG', ' SNK '),\n",
       " ('DATE', '今日'),\n",
       " ('DATE', '3/27）'),\n",
       " ('WORK_OF_ART', '克里斯蒂亞諾‧羅納度'),\n",
       " ('ORG', '英格蘭'),\n",
       " ('GPE', '西班牙'),\n",
       " ('GPE', '義大利'),\n",
       " ('ORG', '歐洲足球錦標賽'),\n",
       " ('ORG', '歐洲國家聯賽'),\n",
       " ('ORDINAL', '第一'),\n",
       " ('CARDINAL', '五'),\n",
       " ('ORG', ' 5 次金球獎'),\n",
       " ('ORG', '歐洲金靴獎'),\n",
       " ('ORG', ' 2 次國際足聯最佳球員獎'),\n",
       " ('WORK_OF_ART', '餓狼傳說'),\n",
       " ('ORG', ' PS4 版'),\n",
       " ('ORG', 'PS5'),\n",
       " ('DATE', '2025'),\n",
       " ('DATE', '2025 年夏季'),\n",
       " ('DATE', '2025'),\n",
       " ('DATE', '2025 年'),\n",
       " ('LANGUAGE', '日文'),\n",
       " ('LANGUAGE', '英文'),\n",
       " ('ORG', '株式會社')]"
      ]
     },
     "execution_count": 218,
     "metadata": {},
     "output_type": "execute_result"
    }
   ],
   "source": [
    "ne_group"
   ]
  },
  {
   "cell_type": "code",
   "execution_count": 219,
   "metadata": {},
   "outputs": [],
   "source": [
    "# concatenate the second NE list\n",
    "ne_group += eval(query_df.entities[1]) "
   ]
  },
  {
   "cell_type": "code",
   "execution_count": 220,
   "metadata": {},
   "outputs": [
    {
     "data": {
      "text/plain": [
       "[('ORG', '株式會社'),\n",
       " ('ORG', ' SNK '),\n",
       " ('DATE', '今日'),\n",
       " ('DATE', '3/27）'),\n",
       " ('WORK_OF_ART', '克里斯蒂亞諾‧羅納度'),\n",
       " ('ORG', '英格蘭'),\n",
       " ('GPE', '西班牙'),\n",
       " ('GPE', '義大利'),\n",
       " ('ORG', '歐洲足球錦標賽'),\n",
       " ('ORG', '歐洲國家聯賽'),\n",
       " ('ORDINAL', '第一'),\n",
       " ('CARDINAL', '五'),\n",
       " ('ORG', ' 5 次金球獎'),\n",
       " ('ORG', '歐洲金靴獎'),\n",
       " ('ORG', ' 2 次國際足聯最佳球員獎'),\n",
       " ('WORK_OF_ART', '餓狼傳說'),\n",
       " ('ORG', ' PS4 版'),\n",
       " ('ORG', 'PS5'),\n",
       " ('DATE', '2025'),\n",
       " ('DATE', '2025 年夏季'),\n",
       " ('DATE', '2025'),\n",
       " ('DATE', '2025 年'),\n",
       " ('LANGUAGE', '日文'),\n",
       " ('LANGUAGE', '英文'),\n",
       " ('ORG', '株式會社'),\n",
       " ('ORG', 'NEXON '),\n",
       " ('ORG', ' devCAT '),\n",
       " ('GPE', '韓國'),\n",
       " ('DATE', ' 27 日'),\n",
       " ('GPE', '台灣'),\n",
       " ('WORK_OF_ART', '瑪奇 Mobile'),\n",
       " ('WORK_OF_ART', '瑪奇'),\n",
       " ('WORK_OF_ART', '奇 Mobile'),\n",
       " ('WORK_OF_ART', '奇'),\n",
       " ('ORG', 'nge'),\n",
       " ('ORDINAL', '4'),\n",
       " ('GPE', '台灣'),\n",
       " ('ORG', '瑪奇 Mo')]"
      ]
     },
     "execution_count": 220,
     "metadata": {},
     "output_type": "execute_result"
    }
   ],
   "source": [
    "ne_group"
   ]
  },
  {
   "cell_type": "code",
   "execution_count": null,
   "metadata": {},
   "outputs": [],
   "source": []
  },
  {
   "cell_type": "code",
   "execution_count": null,
   "metadata": {},
   "outputs": [],
   "source": []
  },
  {
   "cell_type": "markdown",
   "metadata": {},
   "source": [
    "# Count top 5 persons for each category"
   ]
  },
  {
   "cell_type": "code",
   "execution_count": 221,
   "metadata": {},
   "outputs": [],
   "source": [
    "news_categories=['PC','動漫畫','電競','活動展覽']"
   ]
  },
  {
   "cell_type": "code",
   "execution_count": 222,
   "metadata": {},
   "outputs": [],
   "source": [
    "\n",
    "# The categorial word freqencies are keep in this dict. \n",
    "top_cate_ne_words={}\n",
    "\n",
    "# Define a empty list to store all NEs in all categories \"全部\"\n",
    "ne_all=[]\n",
    "\n",
    "for category in news_categories:\n",
    "    \n",
    "    df_group = query_df[query_df.category == category]\n",
    "    \n",
    "    # Define a empty list to store NEs of a news category\n",
    "    ne_group = []\n",
    "\n",
    "    # concatenate all NEs in a category\n",
    "    for ne in df_group.entities:\n",
    "        ne_group += eval(ne)\n",
    "\n",
    "    # concatenate all NEs for category \"全部\" (合併全部的詞不分類別)\n",
    "    ne_all += ne_group\n",
    "\n",
    "    # Calculate top words by calling ne_word_frequency() function\n",
    "    topwords = ne_word_frequency( ne_group )\n",
    "    \n",
    "    # Keep topwords into dict\n",
    "    top_cate_ne_words[category]=topwords\n",
    "\n",
    "# Calculate top words for category '全部'\n",
    "top_ne_all = ne_word_frequency(ne_all)\n",
    "# Add topwors of category '全部' into dict\n",
    "top_cate_ne_words['全部']=top_ne_all"
   ]
  },
  {
   "cell_type": "code",
   "execution_count": 223,
   "metadata": {},
   "outputs": [
    {
     "data": {
      "text/plain": [
       "{'PC': [('曼寧格', 10), ('瓦雷莎', 9), ('伊安珊', 6), ('海咲', 4), ('菲歐娜', 3)],\n",
       " '動漫畫': [('山田杏奈', 3), ('瑪莉·安東妮德', 3), ('奧斯卡', 3), ('鈴鹿', 2), ('奧斯卡·法蘭索瓦', 2)],\n",
       " '電競': [('Lenovo ', 1), ('邰瀅潔', 1)],\n",
       " '活動展覽': [('莎樂美', 1), ('星川莎拉', 1), ('黃彥智', 1), ('任天堂', 1), ('早川英樹', 1)],\n",
       " '全部': [('曼寧格', 10), ('瓦雷莎', 9), ('伊安珊', 6), ('海咲', 4), ('菲歐娜', 3)]}"
      ]
     },
     "execution_count": 223,
     "metadata": {},
     "output_type": "execute_result"
    }
   ],
   "source": [
    "top_cate_ne_words"
   ]
  },
  {
   "cell_type": "code",
   "execution_count": 224,
   "metadata": {},
   "outputs": [
    {
     "data": {
      "text/plain": [
       "dict_items([('PC', [('曼寧格', 10), ('瓦雷莎', 9), ('伊安珊', 6), ('海咲', 4), ('菲歐娜', 3)]), ('動漫畫', [('山田杏奈', 3), ('瑪莉·安東妮德', 3), ('奧斯卡', 3), ('鈴鹿', 2), ('奧斯卡·法蘭索瓦', 2)]), ('電競', [('Lenovo ', 1), ('邰瀅潔', 1)]), ('活動展覽', [('莎樂美', 1), ('星川莎拉', 1), ('黃彥智', 1), ('任天堂', 1), ('早川英樹', 1)]), ('全部', [('曼寧格', 10), ('瓦雷莎', 9), ('伊安珊', 6), ('海咲', 4), ('菲歐娜', 3)])])"
      ]
     },
     "execution_count": 224,
     "metadata": {},
     "output_type": "execute_result"
    }
   ],
   "source": [
    "top_cate_ne_words.items()"
   ]
  },
  {
   "cell_type": "markdown",
   "metadata": {},
   "source": [
    "### To conveniently save data using pandas, we should convert dict to list."
   ]
  },
  {
   "cell_type": "code",
   "execution_count": 225,
   "metadata": {},
   "outputs": [
    {
     "data": {
      "text/plain": [
       "[('PC', [('曼寧格', 10), ('瓦雷莎', 9), ('伊安珊', 6), ('海咲', 4), ('菲歐娜', 3)]),\n",
       " ('動漫畫',\n",
       "  [('山田杏奈', 3), ('瑪莉·安東妮德', 3), ('奧斯卡', 3), ('鈴鹿', 2), ('奧斯卡·法蘭索瓦', 2)]),\n",
       " ('電競', [('Lenovo ', 1), ('邰瀅潔', 1)]),\n",
       " ('活動展覽', [('莎樂美', 1), ('星川莎拉', 1), ('黃彥智', 1), ('任天堂', 1), ('早川英樹', 1)]),\n",
       " ('全部', [('曼寧格', 10), ('瓦雷莎', 9), ('伊安珊', 6), ('海咲', 4), ('菲歐娜', 3)])]"
      ]
     },
     "execution_count": 225,
     "metadata": {},
     "output_type": "execute_result"
    }
   ],
   "source": [
    "list(top_cate_ne_words.items())"
   ]
  },
  {
   "cell_type": "code",
   "execution_count": null,
   "metadata": {},
   "outputs": [],
   "source": []
  },
  {
   "cell_type": "markdown",
   "metadata": {},
   "source": [
    "# All-in-one function  for calculationg the most popular persons"
   ]
  },
  {
   "cell_type": "code",
   "execution_count": 280,
   "metadata": {},
   "outputs": [],
   "source": [
    "import pandas as pd\n",
    "from collections import Counter\n",
    "import pandas as pd\n",
    "from datetime import datetime, timedelta"
   ]
  },
  {
   "cell_type": "code",
   "execution_count": 281,
   "metadata": {},
   "outputs": [],
   "source": [
    "df = pd.read_csv('cna_news_preprocessed.csv',sep='|')"
   ]
  },
  {
   "cell_type": "code",
   "execution_count": null,
   "metadata": {},
   "outputs": [],
   "source": [
    "## Filter news\n",
    "# Appraoch 1: Filter by time duration\n",
    "# end date: the date of the latest record of news\n",
    "end_date = df.date.max()\n",
    "# start date\n",
    "start_date = (datetime.strptime(end_date, '%Y-%m-%d').date() - timedelta(days=1)).strftime('%Y-%m-%d') # 昨日誰最大\n",
    "#start_date = (datetime.strptime(end_date, '%Y-%m-%d').date() - timedelta(days=7)).strftime('%Y-%m-%d') # 上週誰最大\n",
    "# Filter news\n",
    "query_df = df[(df.date >= start_date) & (df.date <= end_date)] "
   ]
  },
  {
   "cell_type": "code",
   "execution_count": 283,
   "metadata": {},
   "outputs": [],
   "source": [
    "allowedNE=['PERSON']"
   ]
  },
  {
   "cell_type": "code",
   "execution_count": 284,
   "metadata": {},
   "outputs": [],
   "source": [
    "news_categories=['PC','動漫畫','電競','活動展覽']"
   ]
  },
  {
   "cell_type": "code",
   "execution_count": 285,
   "metadata": {},
   "outputs": [],
   "source": [
    "# NerToken(word='烏克蘭', ner='GPE', idx=(4, 7))  # call function NerToken with three parameters: word, ner, and idx\n",
    "def NerToken(word, ner, idx):\n",
    "    # print(ner,word)\n",
    "    return ner,word"
   ]
  },
  {
   "cell_type": "code",
   "execution_count": 286,
   "metadata": {},
   "outputs": [],
   "source": [
    "def ne_word_frequency( a_news_ne ):\n",
    "    filtered_words =[]\n",
    "    for ner,word in a_news_ne:\n",
    "        if (len(word) >= 2) & (ner in allowedNE):\n",
    "            filtered_words.append(word)\n",
    "    counter = Counter( filtered_words )\n",
    "    return counter.most_common( 5 )"
   ]
  },
  {
   "cell_type": "code",
   "execution_count": 287,
   "metadata": {},
   "outputs": [],
   "source": [
    "# All-in-one function\n",
    "def get_top_ner_words(query_df):\n",
    "    top_cate_ner_words={}\n",
    "    words_all=[]\n",
    "    for category in news_categories:\n",
    "        df_group = query_df[query_df.category == category]\n",
    "        words_group = []\n",
    "\n",
    "        # concatenate terms in a category\n",
    "        for row in df_group.entities:\n",
    "            words_group += eval(row)\n",
    "\n",
    "        # concatenate all terms\n",
    "        words_all += words_group\n",
    "\n",
    "        # Get top words by calling ne_word_frequency() function\n",
    "        topwords = ne_word_frequency( words_group )\n",
    "        top_cate_ner_words[category] = topwords\n",
    "\n",
    "    topwords_all = ne_word_frequency(words_all)\n",
    "    top_cate_ner_words['全部'] = topwords_all\n",
    "    \n",
    "    return list(top_cate_ner_words.items())\n",
    "    # return top_cate_ne_words"
   ]
  },
  {
   "cell_type": "code",
   "execution_count": 288,
   "metadata": {},
   "outputs": [
    {
     "name": "stdout",
     "output_type": "stream",
     "text": [
      "CPU times: total: 15.6 ms\n",
      "Wall time: 21.7 ms\n"
     ]
    }
   ],
   "source": [
    "%%time\n",
    "popularPersons = get_top_ner_words(query_df)"
   ]
  },
  {
   "cell_type": "code",
   "execution_count": 289,
   "metadata": {},
   "outputs": [
    {
     "data": {
      "text/plain": [
       "[('PC', [('曼寧格', 10), ('瓦雷莎', 9), ('伊安珊', 6), ('海咲', 4), ('菲歐娜', 3)]),\n",
       " ('動漫畫',\n",
       "  [('山田杏奈', 3), ('瑪莉·安東妮德', 3), ('奧斯卡', 3), ('鈴鹿', 2), ('奧斯卡·法蘭索瓦', 2)]),\n",
       " ('電競', [('Riot ', 2), ('伏虎士', 2), ('Lenovo ', 1), ('邰瀅潔', 1), ('林英宇', 1)]),\n",
       " ('活動展覽', [('煌雷龍', 3), ('芙莉蓮', 2), ('莎樂美', 1), ('星川莎拉', 1), ('黃彥智', 1)]),\n",
       " ('全部', [('曼寧格', 10), ('瓦雷莎', 9), ('伊安珊', 6), ('海咲', 4), ('芙莉蓮', 4)])]"
      ]
     },
     "execution_count": 289,
     "metadata": {},
     "output_type": "execute_result"
    }
   ],
   "source": [
    "popularPersons"
   ]
  },
  {
   "cell_type": "markdown",
   "metadata": {},
   "source": [
    "## Save popular persons for future usage"
   ]
  },
  {
   "cell_type": "code",
   "execution_count": 267,
   "metadata": {},
   "outputs": [],
   "source": [
    "df_popularPersons = pd.DataFrame(popularPersons, columns = ['category','top_keys'])"
   ]
  },
  {
   "cell_type": "code",
   "execution_count": 268,
   "metadata": {
    "scrolled": false
   },
   "outputs": [
    {
     "data": {
      "text/html": [
       "<div>\n",
       "<style scoped>\n",
       "    .dataframe tbody tr th:only-of-type {\n",
       "        vertical-align: middle;\n",
       "    }\n",
       "\n",
       "    .dataframe tbody tr th {\n",
       "        vertical-align: top;\n",
       "    }\n",
       "\n",
       "    .dataframe thead th {\n",
       "        text-align: right;\n",
       "    }\n",
       "</style>\n",
       "<table border=\"1\" class=\"dataframe\">\n",
       "  <thead>\n",
       "    <tr style=\"text-align: right;\">\n",
       "      <th></th>\n",
       "      <th>category</th>\n",
       "      <th>top_keys</th>\n",
       "    </tr>\n",
       "  </thead>\n",
       "  <tbody>\n",
       "    <tr>\n",
       "      <th>0</th>\n",
       "      <td>PC</td>\n",
       "      <td>[(曼寧格, 10), (瓦雷莎, 9), (伊安珊, 6), (海咲, 4), (菲歐娜,...</td>\n",
       "    </tr>\n",
       "    <tr>\n",
       "      <th>1</th>\n",
       "      <td>動漫畫</td>\n",
       "      <td>[(山田杏奈, 3), (瑪莉·安東妮德, 3), (奧斯卡, 3), (鈴鹿, 2), (...</td>\n",
       "    </tr>\n",
       "    <tr>\n",
       "      <th>2</th>\n",
       "      <td>電競</td>\n",
       "      <td>[(Riot , 2), (伏虎士, 2), (Lenovo , 1), (邰瀅潔, 1),...</td>\n",
       "    </tr>\n",
       "    <tr>\n",
       "      <th>3</th>\n",
       "      <td>活動展覽</td>\n",
       "      <td>[(煌雷龍, 3), (芙莉蓮, 2), (莎樂美, 1), (星川莎拉, 1), (黃彥智...</td>\n",
       "    </tr>\n",
       "    <tr>\n",
       "      <th>4</th>\n",
       "      <td>全部</td>\n",
       "      <td>[(曼寧格, 10), (瓦雷莎, 9), (伊安珊, 6), (海咲, 4), (芙莉蓮,...</td>\n",
       "    </tr>\n",
       "  </tbody>\n",
       "</table>\n",
       "</div>"
      ],
      "text/plain": [
       "  category                                           top_keys\n",
       "0       PC  [(曼寧格, 10), (瓦雷莎, 9), (伊安珊, 6), (海咲, 4), (菲歐娜,...\n",
       "1      動漫畫  [(山田杏奈, 3), (瑪莉·安東妮德, 3), (奧斯卡, 3), (鈴鹿, 2), (...\n",
       "2       電競  [(Riot , 2), (伏虎士, 2), (Lenovo , 1), (邰瀅潔, 1),...\n",
       "3     活動展覽  [(煌雷龍, 3), (芙莉蓮, 2), (莎樂美, 1), (星川莎拉, 1), (黃彥智...\n",
       "4       全部  [(曼寧格, 10), (瓦雷莎, 9), (伊安珊, 6), (海咲, 4), (芙莉蓮,..."
      ]
     },
     "execution_count": 268,
     "metadata": {},
     "output_type": "execute_result"
    }
   ],
   "source": [
    "df_popularPersons"
   ]
  },
  {
   "cell_type": "markdown",
   "metadata": {},
   "source": []
  },
  {
   "cell_type": "code",
   "execution_count": 269,
   "metadata": {},
   "outputs": [],
   "source": [
    "## Save the word frequecy \n",
    "df_popularPersons.to_csv('popular-persons-of-yesterday.csv', sep=',', index=False)"
   ]
  },
  {
   "cell_type": "code",
   "execution_count": null,
   "metadata": {},
   "outputs": [],
   "source": []
  },
  {
   "attachments": {},
   "cell_type": "markdown",
   "metadata": {},
   "source": [
    "# Piece them together"
   ]
  },
  {
   "cell_type": "code",
   "execution_count": 239,
   "metadata": {},
   "outputs": [],
   "source": [
    "# All-in-one function  for calculationg the most popular persons\n",
    "import pandas as pd\n",
    "from collections import Counter\n",
    "import pandas as pd\n",
    "from datetime import datetime, timedelta\n",
    "\n",
    "\n",
    "def process_yesterday_top_person():\n",
    "\n",
    "    df = pd.read_csv('cna_news_preprocessed.csv',sep='|')\n",
    "    # df = pd.read_csv('./dataset/news_dataset_preprocessed.csv', sep='|')\n",
    "    ## Filter news\n",
    "    # Appraoch 1: Filter by time duration\n",
    "    # end date: the date of the latest record of news\n",
    "    end_date = df.date.max()\n",
    "    # start date\n",
    "    start_date = (datetime.strptime(end_date, '%Y-%m-%d').date() - timedelta(days=1)).strftime('%Y-%m-%d') # 昨日誰最大\n",
    "    #start_date = (datetime.strptime(end_date, '%Y-%m-%d').date() - timedelta(days=7)).strftime('%Y-%m-%d') # 上週誰最大\n",
    "    # Filter news\n",
    "    query_df = df[(df.date >= start_date) & (df.date <= end_date)] \n",
    "    allowedNE=['PERSON']\n",
    "\n",
    "    news_categories=['PC','動漫畫','電競','活動展覽']\n",
    "\n",
    "\n",
    "\n",
    "    # NerToken(word='烏克蘭', ner='GPE', idx=(4, 7))  # call function NerToken with three parameters: word, ner, and idx\n",
    "    def NerToken(word, ner, idx):\n",
    "        # print(ner,word)\n",
    "        return ner,word\n",
    "    def ne_word_frequency( a_news_ne ):\n",
    "        filtered_words =[]\n",
    "        for ner,word in a_news_ne:\n",
    "            if (len(word) >= 2) & (ner in allowedNE):\n",
    "                filtered_words.append(word)\n",
    "        counter = Counter( filtered_words )\n",
    "        return counter.most_common( 5 )\n",
    "    # All-in-one function\n",
    "    def get_top_ner_words(query_df):\n",
    "        top_cate_ner_words={}\n",
    "        words_all=[]\n",
    "        for category in news_categories:\n",
    "            df_group = query_df[query_df.category == category]\n",
    "            words_group = []\n",
    "\n",
    "            # concatenate terms in a category\n",
    "            for row in df_group.entities:\n",
    "                words_group += eval(row)\n",
    "\n",
    "            # concatenate all terms\n",
    "            words_all += words_group\n",
    "\n",
    "            # Get top words by calling ne_word_frequency() function\n",
    "            topwords = ne_word_frequency( words_group )\n",
    "            top_cate_ner_words[category] = topwords\n",
    "\n",
    "        topwords_all = ne_word_frequency(words_all)\n",
    "        top_cate_ner_words['全部'] = topwords_all\n",
    "        \n",
    "        return list(top_cate_ner_words.items())\n",
    "        # return top_cate_ne_words\n",
    "    popularPersons = get_top_ner_words(query_df)\n",
    "\n",
    "    ## Save hot persons for future usage\n",
    "    df_hotPersons = pd.DataFrame(hotPersons, columns = ['category','top_keys'])\n",
    "\n",
    "    ## Save the word frequecy \n",
    "    df_hotPersons.to_csv('./hot-persons-of-yesterday.csv', sep=',', index=False)\n",
    "    #df_hotPersons.to_csv('./dataset/hot-persons-of-yesterday.csv', sep=',', index=False)\n"
   ]
  },
  {
   "cell_type": "code",
   "execution_count": 240,
   "metadata": {},
   "outputs": [
    {
     "ename": "NameError",
     "evalue": "name 'hotPersons' is not defined",
     "output_type": "error",
     "traceback": [
      "\u001b[1;31m---------------------------------------------------------------------------\u001b[0m",
      "\u001b[1;31mNameError\u001b[0m                                 Traceback (most recent call last)",
      "Cell \u001b[1;32mIn[240], line 1\u001b[0m\n\u001b[1;32m----> 1\u001b[0m \u001b[43mprocess_yesterday_top_person\u001b[49m\u001b[43m(\u001b[49m\u001b[43m)\u001b[49m\n",
      "Cell \u001b[1;32mIn[239], line 65\u001b[0m, in \u001b[0;36mprocess_yesterday_top_person\u001b[1;34m()\u001b[0m\n\u001b[0;32m     62\u001b[0m popularPersons \u001b[38;5;241m=\u001b[39m get_top_ner_words(query_df)\n\u001b[0;32m     64\u001b[0m \u001b[38;5;66;03m## Save hot persons for future usage\u001b[39;00m\n\u001b[1;32m---> 65\u001b[0m df_hotPersons \u001b[38;5;241m=\u001b[39m pd\u001b[38;5;241m.\u001b[39mDataFrame(\u001b[43mhotPersons\u001b[49m, columns \u001b[38;5;241m=\u001b[39m [\u001b[38;5;124m'\u001b[39m\u001b[38;5;124mcategory\u001b[39m\u001b[38;5;124m'\u001b[39m,\u001b[38;5;124m'\u001b[39m\u001b[38;5;124mtop_keys\u001b[39m\u001b[38;5;124m'\u001b[39m])\n\u001b[0;32m     67\u001b[0m \u001b[38;5;66;03m## Save the word frequecy \u001b[39;00m\n\u001b[0;32m     68\u001b[0m df_hotPersons\u001b[38;5;241m.\u001b[39mto_csv(\u001b[38;5;124m'\u001b[39m\u001b[38;5;124m./hot-persons-of-yesterday.csv\u001b[39m\u001b[38;5;124m'\u001b[39m, sep\u001b[38;5;241m=\u001b[39m\u001b[38;5;124m'\u001b[39m\u001b[38;5;124m,\u001b[39m\u001b[38;5;124m'\u001b[39m, index\u001b[38;5;241m=\u001b[39m\u001b[38;5;28;01mFalse\u001b[39;00m)\n",
      "\u001b[1;31mNameError\u001b[0m: name 'hotPersons' is not defined"
     ]
    }
   ],
   "source": [
    "process_yesterday_top_person()"
   ]
  },
  {
   "cell_type": "markdown",
   "metadata": {},
   "source": [
    "# For reference"
   ]
  },
  {
   "cell_type": "code",
   "execution_count": null,
   "metadata": {},
   "outputs": [],
   "source": [
    "# All-in-one function\n",
    "def get_top_ner_words_v2(query_df):\n",
    "    \n",
    "    top_cate_ner_words={} # final result\n",
    "    counter_all = Counter() # counter for category '全部'\n",
    "    for category in news_categories:\n",
    "\n",
    "        df_group = query_df[query_df.category == category]\n",
    "\n",
    "        # concatenate all filtered words in the same category\n",
    "        words_group = []\n",
    "        for row in df_group.entities:\n",
    "\n",
    "            # filter words for each news\n",
    "            filtered_words =[]\n",
    "            for (ner, word) in eval(row):\n",
    "                if (len(word) >= 2) & (ner in allowedNE):\n",
    "                    filtered_words.append(word)\n",
    "\n",
    "            # concatenate filtered words  \n",
    "            words_group += filtered_words\n",
    "\n",
    "        # now we can count word frequency\n",
    "        counter = Counter( words_group )\n",
    "\n",
    "        # combine counter_all with conter\n",
    "        counter_all += counter\n",
    "        \n",
    "        # get a few most common items\n",
    "        topwords = counter.most_common(5)\n",
    "\n",
    "        # store topwords\n",
    "        top_cate_ner_words[category]= topwords\n",
    "\n",
    "    # Process category '全部'\n",
    "    top_cate_ner_words['全部'] = counter_all.most_common(5)\n",
    "    return list(top_cate_ner_words.items())"
   ]
  },
  {
   "cell_type": "code",
   "execution_count": null,
   "metadata": {},
   "outputs": [],
   "source": []
  }
 ],
 "metadata": {
  "kernelspec": {
   "display_name": "venv_bigdata",
   "language": "python",
   "name": "python3"
  },
  "language_info": {
   "codemirror_mode": {
    "name": "ipython",
    "version": 3
   },
   "file_extension": ".py",
   "mimetype": "text/x-python",
   "name": "python",
   "nbconvert_exporter": "python",
   "pygments_lexer": "ipython3",
   "version": "3.11.3"
  },
  "toc": {
   "base_numbering": 1,
   "nav_menu": {},
   "number_sections": true,
   "sideBar": true,
   "skip_h1_title": false,
   "title_cell": "Table of Contents",
   "title_sidebar": "Contents",
   "toc_cell": false,
   "toc_position": {},
   "toc_section_display": true,
   "toc_window_display": false
  }
 },
 "nbformat": 4,
 "nbformat_minor": 2
}
