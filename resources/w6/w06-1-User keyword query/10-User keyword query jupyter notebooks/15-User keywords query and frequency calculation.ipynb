{
 "cells": [
  {
   "attachments": {},
   "cell_type": "markdown",
   "metadata": {},
   "source": [
    "# User keyword query\n",
    "\n",
    "    Input 1: user query keywords\n",
    "    Input 2: condition--and, or\n",
    "\n",
    "    Output: frequency of the keywords\n",
    "    (1): How many times are the keywords mentioned? 這個關鍵字被提到多少次?\n",
    "    (2): How many pieces of news contain (mention) the keywords?  有幾篇新聞提到這個關鍵字?\n",
    "\n",
    "    First article: ['肺炎','疫情', '肺炎']\n",
    "    Second article:['陳時中','指揮中心','肺炎','陳時中']\n",
    "\n",
    "    肺炎: \n",
    "    (1) '肺炎' are mentioned three times.  ==> frequency is 3\n",
    "    (2) Two pieces of news mention '肺炎'. ==> occurrence is 2\n",
    "\n",
    "    陳時中: \n",
    "    (1) '陳時中' are mentioned two times.  ==> frequency is 2\n",
    "    (2) One pieces of news mention '陳時中'. ==> occurrence is 1\n",
    "    \n"
   ]
  },
  {
   "cell_type": "markdown",
   "metadata": {},
   "source": [
    "# Step 0: Load preprocessed news dataset"
   ]
  },
  {
   "cell_type": "code",
   "execution_count": 90,
   "metadata": {},
   "outputs": [],
   "source": [
    "import pandas as pd\n",
    "from datetime import datetime, timedelta"
   ]
  },
  {
   "cell_type": "code",
   "execution_count": 91,
   "metadata": {},
   "outputs": [],
   "source": [
    "df = pd.read_csv('./cna_news_preprocessed.csv',sep='|')"
   ]
  },
  {
   "cell_type": "code",
   "execution_count": 92,
   "metadata": {},
   "outputs": [
    {
     "data": {
      "text/html": [
       "<div>\n",
       "<style scoped>\n",
       "    .dataframe tbody tr th:only-of-type {\n",
       "        vertical-align: middle;\n",
       "    }\n",
       "\n",
       "    .dataframe tbody tr th {\n",
       "        vertical-align: top;\n",
       "    }\n",
       "\n",
       "    .dataframe thead th {\n",
       "        text-align: right;\n",
       "    }\n",
       "</style>\n",
       "<table border=\"1\" class=\"dataframe\">\n",
       "  <thead>\n",
       "    <tr style=\"text-align: right;\">\n",
       "      <th></th>\n",
       "      <th>item_id</th>\n",
       "      <th>date</th>\n",
       "      <th>category</th>\n",
       "      <th>title</th>\n",
       "      <th>content</th>\n",
       "      <th>sentiment</th>\n",
       "      <th>summary</th>\n",
       "      <th>top_key_freq</th>\n",
       "      <th>tokens</th>\n",
       "      <th>tokens_v2</th>\n",
       "      <th>entities</th>\n",
       "      <th>token_pos</th>\n",
       "      <th>link</th>\n",
       "      <th>photo_link</th>\n",
       "    </tr>\n",
       "  </thead>\n",
       "  <tbody>\n",
       "    <tr>\n",
       "      <th>0</th>\n",
       "      <td>index.php?k=1_2025-03-27_1</td>\n",
       "      <td>2025-03-27</td>\n",
       "      <td>PC</td>\n",
       "      <td>多平台\\n《餓狼傳說 City of the Wolves》足球界傳奇巨星「克里斯蒂亞諾‧羅...</td>\n",
       "      <td>株式會社 SNK 今日（3/27）宣布，足球界傳奇巨星「克里斯蒂亞諾‧羅納度」確定將以可遊玩...</td>\n",
       "      <td>暫無</td>\n",
       "      <td>暫無</td>\n",
       "      <td>[('遊戲', 8), ('足球', 8), ('傳說', 7), ('角色', 6), (...</td>\n",
       "      <td>['株式會社', ' SNK ', '今日', '（', '3/27', '）', '宣布'...</td>\n",
       "      <td>['株式會社', '宣布', '足球界', '傳奇', '巨星', '克里斯蒂亞諾‧羅納度'...</td>\n",
       "      <td>[NerToken(word='株式會社', ner='ORG', idx=(0, 4)),...</td>\n",
       "      <td>[('株式會社', 'Nc'), (' SNK ', 'FW'), ('今日', 'Nd')...</td>\n",
       "      <td>https://gnn.gamer.com.tw/detail.php?sn=282906</td>\n",
       "      <td>https://p2.bahamut.com.tw/B/2KU/58/2fc0d3915aa...</td>\n",
       "    </tr>\n",
       "  </tbody>\n",
       "</table>\n",
       "</div>"
      ],
      "text/plain": [
       "                      item_id        date category  \\\n",
       "0  index.php?k=1_2025-03-27_1  2025-03-27       PC   \n",
       "\n",
       "                                               title  \\\n",
       "0  多平台\\n《餓狼傳說 City of the Wolves》足球界傳奇巨星「克里斯蒂亞諾‧羅...   \n",
       "\n",
       "                                             content sentiment summary  \\\n",
       "0  株式會社 SNK 今日（3/27）宣布，足球界傳奇巨星「克里斯蒂亞諾‧羅納度」確定將以可遊玩...        暫無      暫無   \n",
       "\n",
       "                                        top_key_freq  \\\n",
       "0  [('遊戲', 8), ('足球', 8), ('傳說', 7), ('角色', 6), (...   \n",
       "\n",
       "                                              tokens  \\\n",
       "0  ['株式會社', ' SNK ', '今日', '（', '3/27', '）', '宣布'...   \n",
       "\n",
       "                                           tokens_v2  \\\n",
       "0  ['株式會社', '宣布', '足球界', '傳奇', '巨星', '克里斯蒂亞諾‧羅納度'...   \n",
       "\n",
       "                                            entities  \\\n",
       "0  [NerToken(word='株式會社', ner='ORG', idx=(0, 4)),...   \n",
       "\n",
       "                                           token_pos  \\\n",
       "0  [('株式會社', 'Nc'), (' SNK ', 'FW'), ('今日', 'Nd')...   \n",
       "\n",
       "                                            link  \\\n",
       "0  https://gnn.gamer.com.tw/detail.php?sn=282906   \n",
       "\n",
       "                                          photo_link  \n",
       "0  https://p2.bahamut.com.tw/B/2KU/58/2fc0d3915aa...  "
      ]
     },
     "execution_count": 92,
     "metadata": {},
     "output_type": "execute_result"
    }
   ],
   "source": [
    "df.head(1)"
   ]
  },
  {
   "cell_type": "markdown",
   "metadata": {},
   "source": [
    "# Step 1: Select news with user input keywords, category, duration"
   ]
  },
  {
   "cell_type": "markdown",
   "metadata": {},
   "source": [
    "## (1)Improved Search from \"content\" column"
   ]
  },
  {
   "cell_type": "code",
   "execution_count": 93,
   "metadata": {},
   "outputs": [],
   "source": [
    "from datetime import datetime, timedelta\n",
    "# Searching keywords from \"content\" column\n",
    "# Here this function uses df.content column, while filter_dataFrame() uses df.tokens_v2\n",
    "def filter_dataFrame(user_keywords, cond, cate, weeks):\n",
    "\n",
    "    # end date: the date of the latest record of news\n",
    "    end_date = df.date.max()\n",
    "    \n",
    "    # start date\n",
    "    start_date = (datetime.strptime(end_date, '%Y-%m-%d').date() - timedelta(weeks=weeks)).strftime('%Y-%m-%d')\n",
    "\n",
    "    # (1) proceed filtering: a duration of a period of time\n",
    "    # 期間條件\n",
    "    period_condition = (df.date >= start_date) & (df.date <= end_date) \n",
    "    \n",
    "    # (2) proceed filtering: news category\n",
    "    # 新聞類別條件\n",
    "    if (cate == \"全部\"):\n",
    "        condition = period_condition  # \"全部\"類別不必過濾新聞種類\n",
    "    else:\n",
    "        # category新聞類別條件\n",
    "        condition = period_condition & (df.category == cate)\n",
    "\n",
    "    # (3) proceed filtering: keywords \n",
    "    # and or 條件\n",
    "    if (cond == 'and'):\n",
    "        # query keywords condition使用者輸入關鍵字條件and\n",
    "        condition = condition & df.content.apply(lambda text: all((qk in text) for qk in user_keywords)) #寫法:all()\n",
    "    elif (cond == 'or'):\n",
    "        # query keywords condition使用者輸入關鍵字條件\n",
    "        condition = condition & df.content.apply(lambda text: any((qk in text) for qk in user_keywords)) #寫法:any()\n",
    "    # condiction is a list of True or False boolean value\n",
    "    df_query = df[condition]\n",
    "\n",
    "    return df_query\n"
   ]
  },
  {
   "cell_type": "markdown",
   "metadata": {},
   "source": [
    "## (2)Search keywords from \"content\" column (Another way)"
   ]
  },
  {
   "cell_type": "code",
   "execution_count": 94,
   "metadata": {},
   "outputs": [],
   "source": [
    "# Searching keywords from \"content\" column\n",
    "# Here this function uses df.content column, while filter_dataFrame() uses df.tokens_v2\n",
    "def filter_dataFrame_fullText_v0(user_keywords, cond, cate, weeks):\n",
    "\n",
    "    # end date: the date of the latest record of news\n",
    "    end_date = df.date.max()\n",
    "    \n",
    "    # start date\n",
    "    start_date = (datetime.strptime(end_date, '%Y-%m-%d').date() - timedelta(weeks=weeks)).strftime('%Y-%m-%d')\n",
    "\n",
    "    # proceed filtering\n",
    "    if (cate == \"全部\") & (cond == 'and'):\n",
    "        df_query = df[(df.date >= start_date) & (df.date <= end_date) \n",
    "            & df.content.apply(lambda text: all((qk in text) for qk in user_keywords))]\n",
    "    elif (cate == \"全部\") & (cond == 'or'):\n",
    "        df_query = df[(df['date'] >= start_date) & (df['date'] <= end_date) \n",
    "            & df.content.apply(lambda text: any((qk in text) for qk in user_keywords))]\n",
    "    elif (cond == 'and'):\n",
    "        df_query = df[(df.category == cate) \n",
    "            & (df.date >= start_date) & (df.date <= end_date) \n",
    "            & df.content.apply(lambda text: all((qk in text) for qk in user_keywords))]\n",
    "    elif (cond == 'or'):\n",
    "        df_query = df[(df.category == cate) \n",
    "            & (df['date'] >= start_date) & (df['date'] <= end_date) \n",
    "            & df.content.apply(lambda text: any((qk in text) for qk in user_keywords))]\n",
    "\n",
    "    return df_query"
   ]
  },
  {
   "cell_type": "markdown",
   "metadata": {},
   "source": [
    "\n",
    "## (3) Search from token_v2 (Another way)"
   ]
  },
  {
   "cell_type": "code",
   "execution_count": 95,
   "metadata": {},
   "outputs": [],
   "source": [
    "# Searching keywords from \"token_v2\" column\n",
    "def filter_dataFrame_v0(user_keywords, cond, cate, weeks):\n",
    "\n",
    "    # end date: the date of the latest record of news\n",
    "    end_date = df.date.max()\n",
    "    \n",
    "    # start date\n",
    "    start_date = (datetime.strptime(end_date, '%Y-%m-%d').date() - timedelta(weeks=weeks)).strftime('%Y-%m-%d')\n",
    "\n",
    "    # proceed filtering\n",
    "    if (cate == \"全部\") & (cond == 'and'):\n",
    "        query_df = df[(df.date >= start_date) & (df.date <= end_date) \n",
    "            & df.tokens_v2.apply(lambda text: all((qk in text) for qk in user_keywords))]\n",
    "    elif (cate == \"全部\") & (cond == 'or'):\n",
    "        query_df = df[(df['date'] >= start_date) & (df['date'] <= end_date) \n",
    "            & df.tokens_v2.apply(lambda text: any((qk in text) for qk in user_keywords))]\n",
    "    elif (cond == 'and'):\n",
    "        query_df = df[(df.category == cate) \n",
    "            & (df.date >= start_date) & (df.date <= end_date) \n",
    "            & df.tokens_v2.apply(lambda text: all((qk in text) for qk in user_keywords))]\n",
    "    elif (cond == 'or'):\n",
    "        query_df = df[(df.category == cate) \n",
    "            & (df['date'] >= start_date) & (df['date'] <= end_date) \n",
    "            & df.tokens_v2.apply(lambda text: any((qk in text) for qk in user_keywords))]\n",
    "    return query_df"
   ]
  },
  {
   "cell_type": "code",
   "execution_count": 96,
   "metadata": {},
   "outputs": [
    {
     "data": {
      "text/plain": [
       "0"
      ]
     },
     "execution_count": 96,
     "metadata": {},
     "output_type": "execute_result"
    }
   ],
   "source": [
    "user_keywords=['烏克蘭','俄羅斯']\n",
    "cond='and'\n",
    "cate='全部'\n",
    "weeks=4\n",
    "df_query = filter_dataFrame(user_keywords, cond, cate, weeks)\n",
    "len(df_query)"
   ]
  },
  {
   "cell_type": "code",
   "execution_count": 97,
   "metadata": {},
   "outputs": [
    {
     "data": {
      "text/plain": [
       "0"
      ]
     },
     "execution_count": 97,
     "metadata": {},
     "output_type": "execute_result"
    }
   ],
   "source": [
    "user_keywords=['烏克蘭','俄羅斯']\n",
    "cond='and'\n",
    "cate='國際'\n",
    "weeks=4\n",
    "df_query = filter_dataFrame(user_keywords, cond, cate, weeks)\n",
    "len(df_query)"
   ]
  },
  {
   "cell_type": "code",
   "execution_count": 98,
   "metadata": {},
   "outputs": [
    {
     "data": {
      "text/plain": [
       "0"
      ]
     },
     "execution_count": 98,
     "metadata": {},
     "output_type": "execute_result"
    }
   ],
   "source": [
    "user_keywords=['烏克蘭','俄羅斯']\n",
    "cond='or'\n",
    "cate='政治'\n",
    "weeks=4\n",
    "df_query = filter_dataFrame(user_keywords, cond, cate, weeks)\n",
    "len(df_query)"
   ]
  },
  {
   "cell_type": "code",
   "execution_count": 99,
   "metadata": {},
   "outputs": [
    {
     "data": {
      "text/html": [
       "<div>\n",
       "<style scoped>\n",
       "    .dataframe tbody tr th:only-of-type {\n",
       "        vertical-align: middle;\n",
       "    }\n",
       "\n",
       "    .dataframe tbody tr th {\n",
       "        vertical-align: top;\n",
       "    }\n",
       "\n",
       "    .dataframe thead th {\n",
       "        text-align: right;\n",
       "    }\n",
       "</style>\n",
       "<table border=\"1\" class=\"dataframe\">\n",
       "  <thead>\n",
       "    <tr style=\"text-align: right;\">\n",
       "      <th></th>\n",
       "      <th>item_id</th>\n",
       "      <th>date</th>\n",
       "      <th>category</th>\n",
       "      <th>title</th>\n",
       "      <th>content</th>\n",
       "      <th>sentiment</th>\n",
       "      <th>summary</th>\n",
       "      <th>top_key_freq</th>\n",
       "      <th>tokens</th>\n",
       "      <th>tokens_v2</th>\n",
       "      <th>entities</th>\n",
       "      <th>token_pos</th>\n",
       "      <th>link</th>\n",
       "      <th>photo_link</th>\n",
       "    </tr>\n",
       "  </thead>\n",
       "  <tbody>\n",
       "  </tbody>\n",
       "</table>\n",
       "</div>"
      ],
      "text/plain": [
       "Empty DataFrame\n",
       "Columns: [item_id, date, category, title, content, sentiment, summary, top_key_freq, tokens, tokens_v2, entities, token_pos, link, photo_link]\n",
       "Index: []"
      ]
     },
     "execution_count": 99,
     "metadata": {},
     "output_type": "execute_result"
    }
   ],
   "source": [
    "df_query.head()"
   ]
  },
  {
   "cell_type": "code",
   "execution_count": null,
   "metadata": {},
   "outputs": [],
   "source": []
  },
  {
   "cell_type": "markdown",
   "metadata": {},
   "source": [
    "# Step 2: calculate frequency and occurence"
   ]
  },
  {
   "cell_type": "code",
   "execution_count": 100,
   "metadata": {},
   "outputs": [],
   "source": [
    "# For the query_df, count the occurence and frequency for each category.\n",
    "\n",
    "# (1) cate_occurence={}  被多少篇新聞報導 How many pieces of news contain the keywords.\n",
    "# (2) cate_freq={}       被提到多少次? How many times are the keywords mentioned\n",
    "\n",
    "\n",
    "news_categories = ['政治', '科技', '運動', '證卷', '產經', '娛樂', '生活', '國際', '社會', '文化', '兩岸', '全部']\n",
    "\n",
    "def count_keyword(query_df, user_keywords):\n",
    "    cate_occurence={}\n",
    "    cate_freq={}\n",
    "\n",
    "    for cate in news_categories:\n",
    "        cate_occurence[cate]=0\n",
    "        cate_freq[cate]=0\n",
    "\n",
    "    for idx, row in query_df.iterrows():\n",
    "        # count number of news\n",
    "        cate_occurence[row.category] += 1\n",
    "        cate_occurence['全部'] += 1\n",
    "        \n",
    "        # count user keyword frequency by checking every word in tokens_v2\n",
    "        tokens = eval(row.tokens_v2)\n",
    "        freq =  len([word for word in tokens if (word in user_keywords)])\n",
    "        cate_freq[row.category] += freq\n",
    "        cate_freq['全部'] += freq\n",
    "        \n",
    "    return cate_freq, cate_occurence"
   ]
  },
  {
   "cell_type": "code",
   "execution_count": 101,
   "metadata": {},
   "outputs": [
    {
     "data": {
      "text/plain": [
       "({'政治': 0,\n",
       "  '科技': 0,\n",
       "  '運動': 0,\n",
       "  '證卷': 0,\n",
       "  '產經': 0,\n",
       "  '娛樂': 0,\n",
       "  '生活': 0,\n",
       "  '國際': 0,\n",
       "  '社會': 0,\n",
       "  '文化': 0,\n",
       "  '兩岸': 0,\n",
       "  '全部': 0},\n",
       " {'政治': 0,\n",
       "  '科技': 0,\n",
       "  '運動': 0,\n",
       "  '證卷': 0,\n",
       "  '產經': 0,\n",
       "  '娛樂': 0,\n",
       "  '生活': 0,\n",
       "  '國際': 0,\n",
       "  '社會': 0,\n",
       "  '文化': 0,\n",
       "  '兩岸': 0,\n",
       "  '全部': 0})"
      ]
     },
     "execution_count": 101,
     "metadata": {},
     "output_type": "execute_result"
    }
   ],
   "source": [
    "user_keywords=['烏克蘭','俄羅斯']\n",
    "cond='or'\n",
    "cate='全部'\n",
    "weeks=4\n",
    "# Step 1 fitering data\n",
    "df_query = filter_dataFrame(user_keywords, cond, cate, weeks)\n",
    "len(df_query)\n",
    "\n",
    "# Step 2: calculating frequency and occurence\n",
    "count_keyword(df_query, user_keywords)"
   ]
  },
  {
   "cell_type": "code",
   "execution_count": 102,
   "metadata": {},
   "outputs": [
    {
     "data": {
      "text/plain": [
       "0"
      ]
     },
     "execution_count": 102,
     "metadata": {},
     "output_type": "execute_result"
    }
   ],
   "source": [
    "len(df_query)"
   ]
  },
  {
   "cell_type": "markdown",
   "metadata": {
    "_cell_guid": "f338bfd0-8985-6edf-95c0-ac529ce73d69"
   },
   "source": [
    "# Demonstrate step by step\n",
    "\n",
    "How many news are related to \"烏克蘭\" ?\n",
    "\n",
    "    How many pieces of news mentioned \"烏克蘭\"\n",
    "    How many pieces of news are related to \"烏克蘭\"?\n",
    "\n",
    "    You can calculate and get the answer from the following fields: tokens, tokens_v2, or content. (Get very similar results)\n",
    "\n",
    "    We use \"tokens_v2\" because it contains only some important keywords which were selected in the pre-process step.\n",
    "\n",
    "    \n",
    "A flexible appraoch for And OR condiction\n",
    "\n",
    "        User all()  any()\n",
    "        df = pd.DataFrame({'col': [\"apple is delicious\",\n",
    "                                \"banana is delicious\",\n",
    "                                \"apple and banana both are delicious\"]})\n",
    "\n",
    "        targets = ['apple', 'banana']\n",
    "\n",
    "        # Any word from `targets` are present in sentence.\n",
    "        >>> df.col.apply(lambda sentence: any(word in sentence for word in targets))\n",
    "        0    True\n",
    "        1    True\n",
    "        2    True\n",
    "        Name: col, dtype: bool\n",
    "\n",
    "        # All words from `targets` are present in sentence.\n",
    "        >>> df.col.apply(lambda sentence: all(word in sentence for word in targets))\n",
    "        0    False\n",
    "        1    False\n",
    "        2     True\n",
    "        Name: col, dtype: bool"
   ]
  },
  {
   "cell_type": "code",
   "execution_count": null,
   "metadata": {},
   "outputs": [],
   "source": []
  },
  {
   "cell_type": "markdown",
   "metadata": {},
   "source": [
    "## and &, or | "
   ]
  },
  {
   "cell_type": "code",
   "execution_count": 103,
   "metadata": {},
   "outputs": [
    {
     "data": {
      "text/plain": [
       "True"
      ]
     },
     "execution_count": 103,
     "metadata": {},
     "output_type": "execute_result"
    }
   ],
   "source": [
    "True & True"
   ]
  },
  {
   "cell_type": "code",
   "execution_count": 104,
   "metadata": {},
   "outputs": [
    {
     "data": {
      "text/plain": [
       "False"
      ]
     },
     "execution_count": 104,
     "metadata": {},
     "output_type": "execute_result"
    }
   ],
   "source": [
    "True & False"
   ]
  },
  {
   "cell_type": "code",
   "execution_count": 105,
   "metadata": {},
   "outputs": [
    {
     "data": {
      "text/plain": [
       "True"
      ]
     },
     "execution_count": 105,
     "metadata": {},
     "output_type": "execute_result"
    }
   ],
   "source": [
    "True | True"
   ]
  },
  {
   "cell_type": "code",
   "execution_count": 106,
   "metadata": {},
   "outputs": [
    {
     "data": {
      "text/plain": [
       "True"
      ]
     },
     "execution_count": 106,
     "metadata": {},
     "output_type": "execute_result"
    }
   ],
   "source": [
    "True | False"
   ]
  },
  {
   "cell_type": "markdown",
   "metadata": {},
   "source": [
    "## \"in\" is very powerful in Python!"
   ]
  },
  {
   "cell_type": "markdown",
   "metadata": {},
   "source": [
    "#### in a string"
   ]
  },
  {
   "cell_type": "code",
   "execution_count": 107,
   "metadata": {},
   "outputs": [],
   "source": [
    "text = '武漢烏克蘭疫情全球延燒，國防部2月針對29個疫情高風險國家地區勸阻官兵前往（包括過境）。'"
   ]
  },
  {
   "cell_type": "code",
   "execution_count": 108,
   "metadata": {},
   "outputs": [
    {
     "data": {
      "text/plain": [
       "True"
      ]
     },
     "execution_count": 108,
     "metadata": {},
     "output_type": "execute_result"
    }
   ],
   "source": [
    "'勸阻官兵' in text"
   ]
  },
  {
   "cell_type": "code",
   "execution_count": 109,
   "metadata": {},
   "outputs": [
    {
     "data": {
      "text/plain": [
       "True"
      ]
     },
     "execution_count": 109,
     "metadata": {},
     "output_type": "execute_result"
    }
   ],
   "source": [
    "'延燒，國防部' in text"
   ]
  },
  {
   "cell_type": "code",
   "execution_count": 110,
   "metadata": {},
   "outputs": [
    {
     "data": {
      "text/plain": [
       "False"
      ]
     },
     "execution_count": 110,
     "metadata": {},
     "output_type": "execute_result"
    }
   ],
   "source": [
    "'台灣' in text"
   ]
  },
  {
   "cell_type": "code",
   "execution_count": 111,
   "metadata": {},
   "outputs": [
    {
     "data": {
      "text/plain": [
       "True"
      ]
     },
     "execution_count": 111,
     "metadata": {},
     "output_type": "execute_result"
    }
   ],
   "source": [
    "'烏克蘭' in text"
   ]
  },
  {
   "cell_type": "code",
   "execution_count": 112,
   "metadata": {
    "scrolled": true
   },
   "outputs": [
    {
     "data": {
      "text/plain": [
       "False"
      ]
     },
     "execution_count": 112,
     "metadata": {},
     "output_type": "execute_result"
    }
   ],
   "source": [
    "# & and\n",
    "('台灣' in text)  & ('烏克蘭' in text)"
   ]
  },
  {
   "cell_type": "code",
   "execution_count": 113,
   "metadata": {
    "scrolled": true
   },
   "outputs": [
    {
     "data": {
      "text/plain": [
       "False"
      ]
     },
     "execution_count": 113,
     "metadata": {},
     "output_type": "execute_result"
    }
   ],
   "source": [
    "# & and\n",
    "('台灣' in text) and ('烏克蘭' in text)"
   ]
  },
  {
   "cell_type": "code",
   "execution_count": 114,
   "metadata": {},
   "outputs": [
    {
     "data": {
      "text/plain": [
       "True"
      ]
     },
     "execution_count": 114,
     "metadata": {},
     "output_type": "execute_result"
    }
   ],
   "source": [
    "('台灣' in text)  | ('烏克蘭' in text)"
   ]
  },
  {
   "cell_type": "code",
   "execution_count": 115,
   "metadata": {},
   "outputs": [
    {
     "data": {
      "text/plain": [
       "True"
      ]
     },
     "execution_count": 115,
     "metadata": {},
     "output_type": "execute_result"
    }
   ],
   "source": [
    "('台灣' in text)  or ('烏克蘭' in text)"
   ]
  },
  {
   "cell_type": "code",
   "execution_count": 116,
   "metadata": {},
   "outputs": [],
   "source": [
    "# This is also a string.\n",
    "text = \"['武漢', '烏克蘭', '疫情', '全球', '延燒', '國防部', '疫情', '高風險', '國家', '地區', '官兵', '過境', '國防部', '政策', '全球', '國家', '地區', '轄下', '單位']\""
   ]
  },
  {
   "cell_type": "code",
   "execution_count": 117,
   "metadata": {},
   "outputs": [
    {
     "data": {
      "text/plain": [
       "True"
      ]
     },
     "execution_count": 117,
     "metadata": {},
     "output_type": "execute_result"
    }
   ],
   "source": [
    "'烏克蘭' in text"
   ]
  },
  {
   "cell_type": "code",
   "execution_count": 118,
   "metadata": {},
   "outputs": [
    {
     "data": {
      "text/plain": [
       "False"
      ]
     },
     "execution_count": 118,
     "metadata": {},
     "output_type": "execute_result"
    }
   ],
   "source": [
    "'台灣' in text"
   ]
  },
  {
   "cell_type": "code",
   "execution_count": 119,
   "metadata": {
    "scrolled": true
   },
   "outputs": [
    {
     "data": {
      "text/plain": [
       "False"
      ]
     },
     "execution_count": 119,
     "metadata": {},
     "output_type": "execute_result"
    }
   ],
   "source": [
    "('台灣' in text)  & ('烏克蘭' in text)"
   ]
  },
  {
   "cell_type": "code",
   "execution_count": 120,
   "metadata": {},
   "outputs": [
    {
     "data": {
      "text/plain": [
       "True"
      ]
     },
     "execution_count": 120,
     "metadata": {},
     "output_type": "execute_result"
    }
   ],
   "source": [
    "('台灣' in text)  | ('烏克蘭' in text)"
   ]
  },
  {
   "cell_type": "markdown",
   "metadata": {},
   "source": [
    "#### in a list"
   ]
  },
  {
   "cell_type": "code",
   "execution_count": 121,
   "metadata": {},
   "outputs": [
    {
     "data": {
      "text/plain": [
       "True"
      ]
     },
     "execution_count": 121,
     "metadata": {},
     "output_type": "execute_result"
    }
   ],
   "source": [
    "user_keyword=['烏克蘭','台灣']\n",
    "'烏克蘭' in user_keyword"
   ]
  },
  {
   "cell_type": "code",
   "execution_count": null,
   "metadata": {},
   "outputs": [],
   "source": []
  },
  {
   "cell_type": "code",
   "execution_count": 122,
   "metadata": {},
   "outputs": [
    {
     "data": {
      "text/plain": [
       "'株式會社 SNK 今日（3/27）宣布，足球界傳奇巨星「克里斯蒂亞諾‧羅納度」確定將以可遊玩角色的身分在對戰格鬥遊戲新作《餓狼傳說 City of the Wolves》（PS5 / PS4 / Xbox Series X|S / PC）中登場！餓狼傳説 CotW × 克里斯蒂亞諾‧羅納度｜參戰發布影片1/3克里斯蒂亞諾‧羅納度 | Cristiano Ronaldo克里斯蒂亞諾‧羅納度在其職業生涯中贏得了 34 座獎杯，其中包括在英格蘭、西班牙和義大利贏得的 7 次聯賽冠軍、5 次歐洲冠軍聯賽冠軍、4 次國際足聯世俱杯冠軍、歐洲足球錦標賽冠軍和歐洲國家聯賽冠軍。他是有史以來最偉大的足球運動員之一。他還是歷史上第一位連續五次在世界盃上進球的球員。他還獲得過無數個人獎項，包括 5 次金球獎、4 次歐洲金靴獎和 2 次國際足聯最佳球員獎。他還是保持著男子足球史上正式比賽進球最多紀錄的球員，為俱樂部和國家隊打進了超過 900 個進球。克里斯蒂亞諾‧羅納度 | Cristiano Ronaldo立於世界最高峰的頂尖足球選手。在賽季休假期間，為磨練自身新的足球技巧而造訪南鎮。以足球創作出的各種各樣的招式，即便是格鬥家也無法抵擋。格鬥流派：足球 + 武術生日：2 月 5 日血型：不明珍視：足球、家人《餓狼傳說 City of the Wolves》概要《餓狼傳說 City of the Wolves》是 1991 年問世的 SNK 人氣對戰格鬥遊戲《餓狼傳說》系列時隔 26 年的最新作。搭載了刺激感性的獨特美術風格、加速戰鬥興奮度的「REV 系統」、以及更加進化的「戰鬥系統」。此外，以從初學者到熟練者都能充分享受的 2 種操作方式為首，還準備了各種新功能和新元素。以充滿慾望的南鎮為舞台，新的「傳說」即將開始。《餓狼傳說 City of the Wolves》商品資訊遊戲名稱：餓狼傳說 City of the Wolves遊戲原名：FATAL FURY: City of the Wolves遊戲類型：對戰格鬥對應平台：PlayStation 5 / PlayStation 4（數位版 / 實體版）※ PS4 版可升級為 PS5 版Xbox Series X|S / Steam / Epic Games Store（數位版）發售日期：2025 年 4 月 24 日建議售價：特別版 新台幣 1840 元 / 港幣 500 元收錄内容：遊戲本篇SEASON PASS 1DLC 角色「安迪·博加德」（2025 年夏季上線預定）DLC 角色「肯」（2025 年夏季上線預定）DLC 角色「東丈」（2025 年秋季上線預定）DLC 角色「春麗」（2025 年冬季上線預定）DLC 角色「Mr.BIG」（2026 年年初上線預定）支援語言：字幕：繁體中文 / 簡體中文 / 日文 / 英文等 14 國語言語音：日語 / 英語遊玩人數：1～2 人（線上 2～12 人）遊戲分級：IARC 12+開發廠商：株式會社 SNK發行廠商：株式會社 SNK官方網站：https://www.snk-corp.co.jp/us/games/fatalfury-cotw/© SNK CORPORATION ALL RIGHTS RESERVED. ※ 遊戲畫面仍在開發中'"
      ]
     },
     "execution_count": 122,
     "metadata": {},
     "output_type": "execute_result"
    }
   ],
   "source": [
    "# Check out the first news\n",
    "df.content[0]"
   ]
  },
  {
   "cell_type": "code",
   "execution_count": 123,
   "metadata": {},
   "outputs": [
    {
     "data": {
      "text/plain": [
       "False"
      ]
     },
     "execution_count": 123,
     "metadata": {},
     "output_type": "execute_result"
    }
   ],
   "source": [
    "qk = '烏克蘭'\n",
    "text = df.content[0]\n",
    "qk in text"
   ]
  },
  {
   "cell_type": "code",
   "execution_count": 124,
   "metadata": {},
   "outputs": [
    {
     "data": {
      "text/plain": [
       "False"
      ]
     },
     "execution_count": 124,
     "metadata": {},
     "output_type": "execute_result"
    }
   ],
   "source": [
    "qk = '外交部'\n",
    "text = df.content[0]\n",
    "qk in text"
   ]
  },
  {
   "cell_type": "code",
   "execution_count": 125,
   "metadata": {},
   "outputs": [
    {
     "data": {
      "text/plain": [
       "False"
      ]
     },
     "execution_count": 125,
     "metadata": {},
     "output_type": "execute_result"
    }
   ],
   "source": [
    "qk = '台灣'\n",
    "text = df.content[0]\n",
    "qk in text"
   ]
  },
  {
   "cell_type": "code",
   "execution_count": 126,
   "metadata": {},
   "outputs": [
    {
     "data": {
      "text/plain": [
       "False"
      ]
     },
     "execution_count": 126,
     "metadata": {},
     "output_type": "execute_result"
    }
   ],
   "source": [
    "text = df.content[0]\n",
    "('烏克蘭' in text) & ('外交部' in text )"
   ]
  },
  {
   "cell_type": "markdown",
   "metadata": {},
   "source": [
    "### Another \"in\" in Python. It is used for \"for\" loop."
   ]
  },
  {
   "cell_type": "code",
   "execution_count": 127,
   "metadata": {},
   "outputs": [
    {
     "data": {
      "text/plain": [
       "[False, False]"
      ]
     },
     "execution_count": 127,
     "metadata": {},
     "output_type": "execute_result"
    }
   ],
   "source": [
    "user_keywords = ['烏克蘭','外交部']\n",
    "text = df.content[0]\n",
    "[(qk in text) for qk in user_keywords]"
   ]
  },
  {
   "cell_type": "code",
   "execution_count": 128,
   "metadata": {},
   "outputs": [
    {
     "data": {
      "text/plain": [
       "[False, False]"
      ]
     },
     "execution_count": 128,
     "metadata": {},
     "output_type": "execute_result"
    }
   ],
   "source": [
    "user_keywords = ['烏克蘭','台灣']\n",
    "text = df.content[0]\n",
    "[(qk in text) for qk in user_keywords]"
   ]
  },
  {
   "cell_type": "code",
   "execution_count": null,
   "metadata": {},
   "outputs": [],
   "source": []
  },
  {
   "cell_type": "markdown",
   "metadata": {},
   "source": [
    "### all() any() \n",
    "\n",
    "    How to perform logical opertion with several conditions? 如何針對很多項去做邏輯運算?\n",
    "\n",
    "    all(): perform \"and\" logical opertion \n",
    "    any(): perform \"or\" logical opertion"
   ]
  },
  {
   "cell_type": "code",
   "execution_count": 129,
   "metadata": {},
   "outputs": [
    {
     "data": {
      "text/plain": [
       "True"
      ]
     },
     "execution_count": 129,
     "metadata": {},
     "output_type": "execute_result"
    }
   ],
   "source": [
    "all( [True, True, True] ) #　True & True"
   ]
  },
  {
   "cell_type": "code",
   "execution_count": 130,
   "metadata": {},
   "outputs": [
    {
     "data": {
      "text/plain": [
       "True"
      ]
     },
     "execution_count": 130,
     "metadata": {},
     "output_type": "execute_result"
    }
   ],
   "source": [
    "any( [True, True] )"
   ]
  },
  {
   "cell_type": "code",
   "execution_count": 131,
   "metadata": {},
   "outputs": [
    {
     "data": {
      "text/plain": [
       "False"
      ]
     },
     "execution_count": 131,
     "metadata": {},
     "output_type": "execute_result"
    }
   ],
   "source": [
    "all( [True, False] )"
   ]
  },
  {
   "cell_type": "code",
   "execution_count": 132,
   "metadata": {},
   "outputs": [
    {
     "data": {
      "text/plain": [
       "True"
      ]
     },
     "execution_count": 132,
     "metadata": {},
     "output_type": "execute_result"
    }
   ],
   "source": [
    "any( [True, False] )"
   ]
  },
  {
   "cell_type": "code",
   "execution_count": null,
   "metadata": {},
   "outputs": [],
   "source": []
  },
  {
   "cell_type": "code",
   "execution_count": 133,
   "metadata": {},
   "outputs": [
    {
     "data": {
      "text/plain": [
       "['烏克蘭', '國防部']"
      ]
     },
     "execution_count": 133,
     "metadata": {},
     "output_type": "execute_result"
    }
   ],
   "source": [
    "user_keywords = ['烏克蘭','國防部']\n",
    "[word for word in user_keywords]"
   ]
  },
  {
   "cell_type": "code",
   "execution_count": 134,
   "metadata": {},
   "outputs": [
    {
     "data": {
      "text/plain": [
       "[True, True]"
      ]
     },
     "execution_count": 134,
     "metadata": {},
     "output_type": "execute_result"
    }
   ],
   "source": [
    "user_keywords=['烏克蘭','國防部']\n",
    "text = '武漢烏克蘭疫情全球延燒，國防部2月針對29個疫情高風險國家地區勸阻官兵前往（包括過境）。'\n",
    "[(word in text) for word in user_keywords]"
   ]
  },
  {
   "cell_type": "code",
   "execution_count": 135,
   "metadata": {},
   "outputs": [
    {
     "data": {
      "text/plain": [
       "[True, True]"
      ]
     },
     "execution_count": 135,
     "metadata": {},
     "output_type": "execute_result"
    }
   ],
   "source": [
    "user_keywords=['烏克蘭','國防部']\n",
    "text = '武漢烏克蘭疫情全球延燒，國防部2月針對29個疫情高風險國家地區勸阻官兵前往（包括過境）。'\n",
    "[word in text for word in user_keywords] # () can be removed"
   ]
  },
  {
   "cell_type": "code",
   "execution_count": 136,
   "metadata": {},
   "outputs": [
    {
     "data": {
      "text/plain": [
       "True"
      ]
     },
     "execution_count": 136,
     "metadata": {},
     "output_type": "execute_result"
    }
   ],
   "source": [
    "user_keywords=['烏克蘭','國防部']\n",
    "text = '武漢烏克蘭疫情全球延燒，國防部2月針對29個疫情高風險國家地區勸阻官兵前往（包括過境）。'\n",
    "all([word in text for word in user_keywords])"
   ]
  },
  {
   "cell_type": "code",
   "execution_count": 137,
   "metadata": {},
   "outputs": [
    {
     "data": {
      "text/plain": [
       "True"
      ]
     },
     "execution_count": 137,
     "metadata": {},
     "output_type": "execute_result"
    }
   ],
   "source": [
    "user_keywords=['烏克蘭','國防部']\n",
    "text = '武漢烏克蘭疫情全球延燒，國防部2月針對29個疫情高風險國家地區勸阻官兵前往（包括過境）。'\n",
    "all(word in text for word in user_keywords) # square brackets [] can be removed"
   ]
  },
  {
   "cell_type": "code",
   "execution_count": null,
   "metadata": {},
   "outputs": [],
   "source": []
  },
  {
   "cell_type": "code",
   "execution_count": 138,
   "metadata": {},
   "outputs": [
    {
     "name": "stdout",
     "output_type": "stream",
     "text": [
      "[False, False]\n"
     ]
    },
    {
     "data": {
      "text/plain": [
       "False"
      ]
     },
     "execution_count": 138,
     "metadata": {},
     "output_type": "execute_result"
    }
   ],
   "source": [
    "# Check out the first news\n",
    "user_keywords = ['烏克蘭','外交部']\n",
    "text = df.content[0]\n",
    "print([(qk in text) for qk in user_keywords])\n",
    "all((qk in text) for qk in user_keywords)"
   ]
  },
  {
   "cell_type": "code",
   "execution_count": 139,
   "metadata": {},
   "outputs": [
    {
     "data": {
      "text/plain": [
       "False"
      ]
     },
     "execution_count": 139,
     "metadata": {},
     "output_type": "execute_result"
    }
   ],
   "source": [
    "user_keywords = ['烏克蘭','外交部']\n",
    "text = df.content[0]\n",
    "any((qk in text) for qk in user_keywords)"
   ]
  },
  {
   "cell_type": "code",
   "execution_count": 140,
   "metadata": {},
   "outputs": [
    {
     "data": {
      "text/plain": [
       "[False, False]"
      ]
     },
     "execution_count": 140,
     "metadata": {},
     "output_type": "execute_result"
    }
   ],
   "source": [
    "user_keywords = ['烏克蘭','台灣']\n",
    "text = df.content[0]\n",
    "[(qk in text) for qk in user_keywords]"
   ]
  },
  {
   "cell_type": "code",
   "execution_count": 141,
   "metadata": {},
   "outputs": [
    {
     "data": {
      "text/plain": [
       "False"
      ]
     },
     "execution_count": 141,
     "metadata": {},
     "output_type": "execute_result"
    }
   ],
   "source": [
    "user_keywords = ['烏克蘭','台灣']\n",
    "text = df.content[0]\n",
    "all((qk in text) for qk in user_keywords)"
   ]
  },
  {
   "cell_type": "code",
   "execution_count": 142,
   "metadata": {},
   "outputs": [
    {
     "data": {
      "text/plain": [
       "False"
      ]
     },
     "execution_count": 142,
     "metadata": {},
     "output_type": "execute_result"
    }
   ],
   "source": [
    "user_keywords = ['烏克蘭','台灣']\n",
    "text = df.content[0]\n",
    "any((qk in text) for qk in user_keywords)"
   ]
  },
  {
   "cell_type": "markdown",
   "metadata": {},
   "source": [
    "## Using apply() and lambda function\n",
    "\n",
    "How to check out keyword occurency for every news?"
   ]
  },
  {
   "cell_type": "code",
   "execution_count": 143,
   "metadata": {},
   "outputs": [
    {
     "data": {
      "text/plain": [
       "0     False\n",
       "1     False\n",
       "2     False\n",
       "3     False\n",
       "4     False\n",
       "5     False\n",
       "6     False\n",
       "7     False\n",
       "8     False\n",
       "9     False\n",
       "10    False\n",
       "11    False\n",
       "12    False\n",
       "13    False\n",
       "14    False\n",
       "15    False\n",
       "Name: content, dtype: bool"
      ]
     },
     "execution_count": 143,
     "metadata": {},
     "output_type": "execute_result"
    }
   ],
   "source": [
    "# Use apply() and lambda function\n",
    "user_keywords = ['烏克蘭','外交部']\n",
    "df.content.apply(lambda text: all([(qk in text) for qk in user_keywords]))"
   ]
  },
  {
   "cell_type": "code",
   "execution_count": 144,
   "metadata": {},
   "outputs": [],
   "source": [
    "user_keywords = ['烏克蘭','外交部']"
   ]
  },
  {
   "cell_type": "code",
   "execution_count": 145,
   "metadata": {},
   "outputs": [
    {
     "data": {
      "text/plain": [
       "['烏克蘭', '外交部']"
      ]
     },
     "execution_count": 145,
     "metadata": {},
     "output_type": "execute_result"
    }
   ],
   "source": [
    "[qk for qk in user_keywords]"
   ]
  },
  {
   "cell_type": "code",
   "execution_count": 146,
   "metadata": {},
   "outputs": [
    {
     "data": {
      "text/plain": [
       "'株式會社 SNK 今日（3/27）宣布，足球界傳奇巨星「克里斯蒂亞諾‧羅納度」確定將以可遊玩角色的身分在對戰格鬥遊戲新作《餓狼傳說 City of the Wolves》（PS5 / PS4 / Xbox Series X|S / PC）中登場！餓狼傳説 CotW × 克里斯蒂亞諾‧羅納度｜參戰發布影片1/3克里斯蒂亞諾‧羅納度 | Cristiano Ronaldo克里斯蒂亞諾‧羅納度在其職業生涯中贏得了 34 座獎杯，其中包括在英格蘭、西班牙和義大利贏得的 7 次聯賽冠軍、5 次歐洲冠軍聯賽冠軍、4 次國際足聯世俱杯冠軍、歐洲足球錦標賽冠軍和歐洲國家聯賽冠軍。他是有史以來最偉大的足球運動員之一。他還是歷史上第一位連續五次在世界盃上進球的球員。他還獲得過無數個人獎項，包括 5 次金球獎、4 次歐洲金靴獎和 2 次國際足聯最佳球員獎。他還是保持著男子足球史上正式比賽進球最多紀錄的球員，為俱樂部和國家隊打進了超過 900 個進球。克里斯蒂亞諾‧羅納度 | Cristiano Ronaldo立於世界最高峰的頂尖足球選手。在賽季休假期間，為磨練自身新的足球技巧而造訪南鎮。以足球創作出的各種各樣的招式，即便是格鬥家也無法抵擋。格鬥流派：足球 + 武術生日：2 月 5 日血型：不明珍視：足球、家人《餓狼傳說 City of the Wolves》概要《餓狼傳說 City of the Wolves》是 1991 年問世的 SNK 人氣對戰格鬥遊戲《餓狼傳說》系列時隔 26 年的最新作。搭載了刺激感性的獨特美術風格、加速戰鬥興奮度的「REV 系統」、以及更加進化的「戰鬥系統」。此外，以從初學者到熟練者都能充分享受的 2 種操作方式為首，還準備了各種新功能和新元素。以充滿慾望的南鎮為舞台，新的「傳說」即將開始。《餓狼傳說 City of the Wolves》商品資訊遊戲名稱：餓狼傳說 City of the Wolves遊戲原名：FATAL FURY: City of the Wolves遊戲類型：對戰格鬥對應平台：PlayStation 5 / PlayStation 4（數位版 / 實體版）※ PS4 版可升級為 PS5 版Xbox Series X|S / Steam / Epic Games Store（數位版）發售日期：2025 年 4 月 24 日建議售價：特別版 新台幣 1840 元 / 港幣 500 元收錄内容：遊戲本篇SEASON PASS 1DLC 角色「安迪·博加德」（2025 年夏季上線預定）DLC 角色「肯」（2025 年夏季上線預定）DLC 角色「東丈」（2025 年秋季上線預定）DLC 角色「春麗」（2025 年冬季上線預定）DLC 角色「Mr.BIG」（2026 年年初上線預定）支援語言：字幕：繁體中文 / 簡體中文 / 日文 / 英文等 14 國語言語音：日語 / 英語遊玩人數：1～2 人（線上 2～12 人）遊戲分級：IARC 12+開發廠商：株式會社 SNK發行廠商：株式會社 SNK官方網站：https://www.snk-corp.co.jp/us/games/fatalfury-cotw/© SNK CORPORATION ALL RIGHTS RESERVED. ※ 遊戲畫面仍在開發中'"
      ]
     },
     "execution_count": 146,
     "metadata": {},
     "output_type": "execute_result"
    }
   ],
   "source": [
    "text = df.content[0]\n",
    "text"
   ]
  },
  {
   "cell_type": "code",
   "execution_count": 147,
   "metadata": {},
   "outputs": [
    {
     "data": {
      "text/plain": [
       "[False, False]"
      ]
     },
     "execution_count": 147,
     "metadata": {},
     "output_type": "execute_result"
    }
   ],
   "source": [
    "[(qk in text) for qk in user_keywords]"
   ]
  },
  {
   "cell_type": "code",
   "execution_count": 148,
   "metadata": {},
   "outputs": [
    {
     "data": {
      "text/plain": [
       "False"
      ]
     },
     "execution_count": 148,
     "metadata": {},
     "output_type": "execute_result"
    }
   ],
   "source": [
    "# \n",
    "all([(qk in text) for qk in user_keywords])"
   ]
  },
  {
   "cell_type": "code",
   "execution_count": 149,
   "metadata": {},
   "outputs": [
    {
     "data": {
      "text/plain": [
       "False"
      ]
     },
     "execution_count": 149,
     "metadata": {},
     "output_type": "execute_result"
    }
   ],
   "source": [
    "# Square brackets can be removed\n",
    "all((qk in text) for qk in user_keywords)"
   ]
  },
  {
   "cell_type": "code",
   "execution_count": 150,
   "metadata": {},
   "outputs": [
    {
     "data": {
      "text/html": [
       "<div>\n",
       "<style scoped>\n",
       "    .dataframe tbody tr th:only-of-type {\n",
       "        vertical-align: middle;\n",
       "    }\n",
       "\n",
       "    .dataframe tbody tr th {\n",
       "        vertical-align: top;\n",
       "    }\n",
       "\n",
       "    .dataframe thead th {\n",
       "        text-align: right;\n",
       "    }\n",
       "</style>\n",
       "<table border=\"1\" class=\"dataframe\">\n",
       "  <thead>\n",
       "    <tr style=\"text-align: right;\">\n",
       "      <th></th>\n",
       "      <th>item_id</th>\n",
       "      <th>date</th>\n",
       "      <th>category</th>\n",
       "      <th>title</th>\n",
       "      <th>content</th>\n",
       "      <th>sentiment</th>\n",
       "      <th>summary</th>\n",
       "      <th>top_key_freq</th>\n",
       "      <th>tokens</th>\n",
       "      <th>tokens_v2</th>\n",
       "      <th>entities</th>\n",
       "      <th>token_pos</th>\n",
       "      <th>link</th>\n",
       "      <th>photo_link</th>\n",
       "    </tr>\n",
       "  </thead>\n",
       "  <tbody>\n",
       "  </tbody>\n",
       "</table>\n",
       "</div>"
      ],
      "text/plain": [
       "Empty DataFrame\n",
       "Columns: [item_id, date, category, title, content, sentiment, summary, top_key_freq, tokens, tokens_v2, entities, token_pos, link, photo_link]\n",
       "Index: []"
      ]
     },
     "execution_count": 150,
     "metadata": {},
     "output_type": "execute_result"
    }
   ],
   "source": [
    "df[df.tokens_v2.apply(lambda text: all([word in text for word in user_keyword]))]"
   ]
  },
  {
   "cell_type": "code",
   "execution_count": 151,
   "metadata": {},
   "outputs": [
    {
     "data": {
      "text/plain": [
       "0"
      ]
     },
     "execution_count": 151,
     "metadata": {},
     "output_type": "execute_result"
    }
   ],
   "source": [
    "len(df[df.tokens_v2.apply(lambda text: all([word in text for word in user_keyword]))])"
   ]
  },
  {
   "cell_type": "markdown",
   "metadata": {},
   "source": [
    "### lambda: how does it work?\n",
    "lambda is a function with only one line"
   ]
  },
  {
   "cell_type": "code",
   "execution_count": 152,
   "metadata": {},
   "outputs": [],
   "source": [
    "func = lambda x: x+5  # parameters函數的參數   func(55, 175)  func(x) -> x+5"
   ]
  },
  {
   "cell_type": "code",
   "execution_count": 153,
   "metadata": {},
   "outputs": [
    {
     "data": {
      "text/plain": [
       "7"
      ]
     },
     "execution_count": 153,
     "metadata": {},
     "output_type": "execute_result"
    }
   ],
   "source": [
    "func(2)"
   ]
  },
  {
   "cell_type": "code",
   "execution_count": 154,
   "metadata": {},
   "outputs": [],
   "source": [
    "numbers=[1,2,3]"
   ]
  },
  {
   "cell_type": "code",
   "execution_count": 155,
   "metadata": {},
   "outputs": [
    {
     "data": {
      "text/plain": [
       "[6, 7, 8]"
      ]
     },
     "execution_count": 155,
     "metadata": {},
     "output_type": "execute_result"
    }
   ],
   "source": [
    "[func(x) for x in numbers]"
   ]
  },
  {
   "cell_type": "code",
   "execution_count": null,
   "metadata": {},
   "outputs": [],
   "source": []
  },
  {
   "cell_type": "code",
   "execution_count": 156,
   "metadata": {},
   "outputs": [
    {
     "data": {
      "text/plain": [
       "[6, 7, 8]"
      ]
     },
     "execution_count": 156,
     "metadata": {},
     "output_type": "execute_result"
    }
   ],
   "source": [
    "numbers=[1,2,3]\n",
    "list(map(func, numbers))"
   ]
  },
  {
   "cell_type": "code",
   "execution_count": 157,
   "metadata": {},
   "outputs": [
    {
     "data": {
      "text/plain": [
       "[6, 7, 8]"
      ]
     },
     "execution_count": 157,
     "metadata": {},
     "output_type": "execute_result"
    }
   ],
   "source": [
    "numbers=[1,2,3]\n",
    "list(map(lambda x: x+5, numbers))"
   ]
  },
  {
   "cell_type": "code",
   "execution_count": 158,
   "metadata": {},
   "outputs": [
    {
     "data": {
      "text/plain": [
       "[11, 12, 13]"
      ]
     },
     "execution_count": 158,
     "metadata": {},
     "output_type": "execute_result"
    }
   ],
   "source": [
    "def func2(x):\n",
    "    return x+10\n",
    "\n",
    "numbers=[1,2,3]\n",
    "list(map(func2, numbers))"
   ]
  },
  {
   "cell_type": "markdown",
   "metadata": {},
   "source": [
    "### How to use pandas apply()?"
   ]
  },
  {
   "cell_type": "code",
   "execution_count": 159,
   "metadata": {},
   "outputs": [],
   "source": [
    "df_test = pd.DataFrame([1,2,3], columns=['number'])"
   ]
  },
  {
   "cell_type": "code",
   "execution_count": 160,
   "metadata": {},
   "outputs": [
    {
     "data": {
      "text/html": [
       "<div>\n",
       "<style scoped>\n",
       "    .dataframe tbody tr th:only-of-type {\n",
       "        vertical-align: middle;\n",
       "    }\n",
       "\n",
       "    .dataframe tbody tr th {\n",
       "        vertical-align: top;\n",
       "    }\n",
       "\n",
       "    .dataframe thead th {\n",
       "        text-align: right;\n",
       "    }\n",
       "</style>\n",
       "<table border=\"1\" class=\"dataframe\">\n",
       "  <thead>\n",
       "    <tr style=\"text-align: right;\">\n",
       "      <th></th>\n",
       "      <th>number</th>\n",
       "    </tr>\n",
       "  </thead>\n",
       "  <tbody>\n",
       "    <tr>\n",
       "      <th>0</th>\n",
       "      <td>1</td>\n",
       "    </tr>\n",
       "    <tr>\n",
       "      <th>1</th>\n",
       "      <td>2</td>\n",
       "    </tr>\n",
       "    <tr>\n",
       "      <th>2</th>\n",
       "      <td>3</td>\n",
       "    </tr>\n",
       "  </tbody>\n",
       "</table>\n",
       "</div>"
      ],
      "text/plain": [
       "   number\n",
       "0       1\n",
       "1       2\n",
       "2       3"
      ]
     },
     "execution_count": 160,
     "metadata": {},
     "output_type": "execute_result"
    }
   ],
   "source": [
    "df_test"
   ]
  },
  {
   "cell_type": "code",
   "execution_count": 161,
   "metadata": {},
   "outputs": [
    {
     "data": {
      "text/plain": [
       "0    6\n",
       "1    7\n",
       "2    8\n",
       "Name: number, dtype: int64"
      ]
     },
     "execution_count": 161,
     "metadata": {},
     "output_type": "execute_result"
    }
   ],
   "source": [
    "df_test.number.apply(lambda x: x+5) # add 5 for each element in df_test.number"
   ]
  },
  {
   "cell_type": "code",
   "execution_count": 162,
   "metadata": {},
   "outputs": [
    {
     "data": {
      "text/plain": [
       "0     False\n",
       "1     False\n",
       "2     False\n",
       "3     False\n",
       "4     False\n",
       "5     False\n",
       "6     False\n",
       "7     False\n",
       "8     False\n",
       "9     False\n",
       "10    False\n",
       "11    False\n",
       "12    False\n",
       "13    False\n",
       "14    False\n",
       "15    False\n",
       "Name: tokens_v2, dtype: bool"
      ]
     },
     "execution_count": 162,
     "metadata": {},
     "output_type": "execute_result"
    }
   ],
   "source": [
    "df.tokens_v2.apply(lambda text: all([word in text for word in user_keyword]))"
   ]
  },
  {
   "cell_type": "code",
   "execution_count": 163,
   "metadata": {},
   "outputs": [
    {
     "data": {
      "text/plain": [
       "0     False\n",
       "1     False\n",
       "2     False\n",
       "3     False\n",
       "4     False\n",
       "5     False\n",
       "6     False\n",
       "7     False\n",
       "8     False\n",
       "9     False\n",
       "10    False\n",
       "11    False\n",
       "12    False\n",
       "13    False\n",
       "14    False\n",
       "15    False\n",
       "Name: content, dtype: bool"
      ]
     },
     "execution_count": 163,
     "metadata": {},
     "output_type": "execute_result"
    }
   ],
   "source": [
    "df.content.apply(lambda text: all([word in text for word in user_keyword]))"
   ]
  },
  {
   "cell_type": "code",
   "execution_count": 164,
   "metadata": {},
   "outputs": [
    {
     "data": {
      "text/plain": [
       "0     False\n",
       "1     False\n",
       "2     False\n",
       "3     False\n",
       "4     False\n",
       "5     False\n",
       "6     False\n",
       "7     False\n",
       "8     False\n",
       "9     False\n",
       "10    False\n",
       "11    False\n",
       "12    False\n",
       "13    False\n",
       "14    False\n",
       "15    False\n",
       "Name: content, dtype: bool"
      ]
     },
     "execution_count": 164,
     "metadata": {},
     "output_type": "execute_result"
    }
   ],
   "source": [
    "user_keywords = ['烏克蘭','外交部']\n",
    "def func3(text): \n",
    "    return all([word in text for word in user_keyword])\n",
    "\n",
    "df.content.apply(func3)"
   ]
  },
  {
   "attachments": {},
   "cell_type": "markdown",
   "metadata": {},
   "source": [
    "# Function of fitering news\n",
    "\n",
    "Put them all together!"
   ]
  },
  {
   "cell_type": "code",
   "execution_count": 165,
   "metadata": {},
   "outputs": [],
   "source": [
    "# Searching keywords from \"token_v2\" column\n",
    "def filter_dataFrame(user_keywords, cond, cate, weeks):\n",
    "\n",
    "    # end date: the date of the latest record of news\n",
    "    end_date = df.date.max()\n",
    "    \n",
    "    # start date\n",
    "    start_date = (datetime.strptime(end_date, '%Y-%m-%d').date() - timedelta(weeks=weeks)).strftime('%Y-%m-%d')\n",
    "\n",
    "    # proceed filtering\n",
    "    if (cate == \"全部\") & (cond == 'and'):\n",
    "        query_df = df[(df.date >= start_date) & (df.date <= end_date) \n",
    "            & df.tokens_v2.apply(lambda text: all((qk in text) for qk in user_keywords))]\n",
    "    elif (cate == \"全部\") & (cond == 'or'):\n",
    "        query_df = df[(df['date'] >= start_date) & (df['date'] <= end_date) \n",
    "            & df.tokens_v2.apply(lambda text: any((qk in text) for qk in user_keywords))]\n",
    "    elif (cond == 'and'):\n",
    "        query_df = df[(df.category == cate) \n",
    "            & (df.date >= start_date) & (df.date <= end_date) \n",
    "            & df.tokens_v2.apply(lambda text: all((qk in text) for qk in user_keywords))]\n",
    "    elif (cond == 'or'):\n",
    "        query_df = df[(df.category == cate) \n",
    "            & (df['date'] >= start_date) & (df['date'] <= end_date) \n",
    "            & df.tokens_v2.apply(lambda text: any((qk in text) for qk in user_keywords))]\n",
    "    return query_df"
   ]
  },
  {
   "cell_type": "markdown",
   "metadata": {},
   "source": [
    "### For \"politics\" category 政治類"
   ]
  },
  {
   "cell_type": "code",
   "execution_count": 166,
   "metadata": {},
   "outputs": [],
   "source": [
    "user_keywords=['烏克蘭','台灣']\n",
    "cond='and'\n",
    "cate='政治'\n",
    "weeks=2\n",
    "df_query = filter_dataFrame(user_keywords, cond, cate, weeks)"
   ]
  },
  {
   "cell_type": "code",
   "execution_count": 167,
   "metadata": {},
   "outputs": [],
   "source": [
    "# end date: the date of the latest record of news\n",
    "end_date = df.date.max()\n",
    "\n",
    "# start date\n",
    "start_date = (datetime.strptime(end_date, '%Y-%m-%d').date() - timedelta(weeks=weeks)).strftime('%Y-%m-%d')"
   ]
  },
  {
   "cell_type": "code",
   "execution_count": 168,
   "metadata": {},
   "outputs": [],
   "source": [
    "user_keywords=['烏克蘭','台灣']\n",
    "cond='and'\n",
    "cate='政治'\n",
    "weeks=2"
   ]
  },
  {
   "cell_type": "code",
   "execution_count": 169,
   "metadata": {},
   "outputs": [
    {
     "data": {
      "text/plain": [
       "0     False\n",
       "1     False\n",
       "2     False\n",
       "3     False\n",
       "4     False\n",
       "5     False\n",
       "6     False\n",
       "7     False\n",
       "8     False\n",
       "9     False\n",
       "10    False\n",
       "11    False\n",
       "12    False\n",
       "13    False\n",
       "14    False\n",
       "15    False\n",
       "dtype: bool"
      ]
     },
     "execution_count": 169,
     "metadata": {},
     "output_type": "execute_result"
    }
   ],
   "source": [
    "(df.category == cate) & ( (df['date'] >= start_date) & (df['date'] <= end_date)  ) & df.tokens_v2.apply(lambda text: any((qk in text) for qk in user_keywords))"
   ]
  },
  {
   "cell_type": "code",
   "execution_count": 170,
   "metadata": {},
   "outputs": [
    {
     "data": {
      "text/plain": [
       "0"
      ]
     },
     "execution_count": 170,
     "metadata": {},
     "output_type": "execute_result"
    }
   ],
   "source": [
    "query_df = df[(\n",
    "    df.category == cate)   # category\n",
    "    & (df.date >= start_date) & (df.date <= end_date) # duration\n",
    "    & df.tokens_v2.apply(lambda row: all((qk in row) for qk in user_keywords)) # user keywords\n",
    "    ]\n",
    "len(query_df)"
   ]
  },
  {
   "cell_type": "code",
   "execution_count": 171,
   "metadata": {},
   "outputs": [
    {
     "data": {
      "text/html": [
       "<div>\n",
       "<style scoped>\n",
       "    .dataframe tbody tr th:only-of-type {\n",
       "        vertical-align: middle;\n",
       "    }\n",
       "\n",
       "    .dataframe tbody tr th {\n",
       "        vertical-align: top;\n",
       "    }\n",
       "\n",
       "    .dataframe thead th {\n",
       "        text-align: right;\n",
       "    }\n",
       "</style>\n",
       "<table border=\"1\" class=\"dataframe\">\n",
       "  <thead>\n",
       "    <tr style=\"text-align: right;\">\n",
       "      <th></th>\n",
       "      <th>item_id</th>\n",
       "      <th>date</th>\n",
       "      <th>category</th>\n",
       "      <th>title</th>\n",
       "      <th>content</th>\n",
       "      <th>sentiment</th>\n",
       "      <th>summary</th>\n",
       "      <th>top_key_freq</th>\n",
       "      <th>tokens</th>\n",
       "      <th>tokens_v2</th>\n",
       "      <th>entities</th>\n",
       "      <th>token_pos</th>\n",
       "      <th>link</th>\n",
       "      <th>photo_link</th>\n",
       "    </tr>\n",
       "  </thead>\n",
       "  <tbody>\n",
       "  </tbody>\n",
       "</table>\n",
       "</div>"
      ],
      "text/plain": [
       "Empty DataFrame\n",
       "Columns: [item_id, date, category, title, content, sentiment, summary, top_key_freq, tokens, tokens_v2, entities, token_pos, link, photo_link]\n",
       "Index: []"
      ]
     },
     "execution_count": 171,
     "metadata": {},
     "output_type": "execute_result"
    }
   ],
   "source": [
    "query_df"
   ]
  },
  {
   "attachments": {},
   "cell_type": "markdown",
   "metadata": {},
   "source": [
    "### For \"全部\"\"All\" category (不必篩選類別!)"
   ]
  },
  {
   "cell_type": "code",
   "execution_count": 172,
   "metadata": {},
   "outputs": [],
   "source": [
    "user_keywords=['烏克蘭','台灣']\n",
    "cond='and'\n",
    "cate='全部'\n",
    "weeks=2"
   ]
  },
  {
   "cell_type": "code",
   "execution_count": 173,
   "metadata": {},
   "outputs": [],
   "source": [
    "if (cate == \"全部\") & (cond == 'and'):\n",
    "    query_df = df[\n",
    "        (df.date >= start_date) & (df.date <= end_date) \n",
    "        & df.tokens_v2.apply(lambda row: all((qk in row) for qk in user_keywords))\n",
    "        ]\n",
    "elif (cate == \"全部\") & (cond == 'or'):\n",
    "    query_df = df[\n",
    "        (df['date'] >= start_date) & (df['date'] <= end_date) \n",
    "        & df.tokens_v2.apply(lambda row: any((qk in row) for qk in user_keywords))]"
   ]
  },
  {
   "cell_type": "code",
   "execution_count": 174,
   "metadata": {},
   "outputs": [
    {
     "data": {
      "text/plain": [
       "0"
      ]
     },
     "execution_count": 174,
     "metadata": {},
     "output_type": "execute_result"
    }
   ],
   "source": [
    "len(query_df)"
   ]
  },
  {
   "cell_type": "markdown",
   "metadata": {},
   "source": [
    "# Function of count_keyword() to calculate frequency and occurence"
   ]
  },
  {
   "cell_type": "code",
   "execution_count": 175,
   "metadata": {},
   "outputs": [],
   "source": [
    "# For the query_df, count the occurence and frequency for each category.\n",
    "\n",
    "# (1) cate_occurence={}  被多少篇新聞報導\n",
    "# (2) cate_freq={}       被提到多少次?How many times were the keywords mentioned\n",
    "\n",
    "\n",
    "news_categories = ['政治', '科技', '運動', '證卷', '產經', '娛樂', '生活', '國際', '社會', '文化', '兩岸', '全部']\n",
    "\n",
    "def count_keyword(query_df, user_keywords):\n",
    "    cate_occurence={}\n",
    "    cate_freq={}\n",
    "\n",
    "    for cate in news_categories:\n",
    "        cate_occurence[cate]=0\n",
    "        cate_freq[cate]=0\n",
    "\n",
    "    for idx, row in query_df.iterrows():\n",
    "        # count number of news\n",
    "        cate_occurence[row.category] += 1 # add 1 to its category's occurence\n",
    "        cate_occurence['全部'] += 1\n",
    "        \n",
    "        # count user keyword frequency by checking every word in tokens_v2\n",
    "        tokens = eval(row.tokens_v2) # count frequency\n",
    "        freq =  len([word for word in tokens if (word in user_keywords)]) # how manay times?\n",
    "        cate_freq[row.category] += freq\n",
    "        cate_freq['全部'] += freq\n",
    "        \n",
    "    return cate_freq, cate_occurence"
   ]
  },
  {
   "cell_type": "code",
   "execution_count": 176,
   "metadata": {},
   "outputs": [
    {
     "data": {
      "text/plain": [
       "({'政治': 0,\n",
       "  '科技': 0,\n",
       "  '運動': 0,\n",
       "  '證卷': 0,\n",
       "  '產經': 0,\n",
       "  '娛樂': 0,\n",
       "  '生活': 0,\n",
       "  '國際': 0,\n",
       "  '社會': 0,\n",
       "  '文化': 0,\n",
       "  '兩岸': 0,\n",
       "  '全部': 0},\n",
       " {'政治': 0,\n",
       "  '科技': 0,\n",
       "  '運動': 0,\n",
       "  '證卷': 0,\n",
       "  '產經': 0,\n",
       "  '娛樂': 0,\n",
       "  '生活': 0,\n",
       "  '國際': 0,\n",
       "  '社會': 0,\n",
       "  '文化': 0,\n",
       "  '兩岸': 0,\n",
       "  '全部': 0})"
      ]
     },
     "execution_count": 176,
     "metadata": {},
     "output_type": "execute_result"
    }
   ],
   "source": [
    "user_keywords=['烏克蘭','台灣']\n",
    "count_keyword(df_query, user_keywords)"
   ]
  },
  {
   "attachments": {},
   "cell_type": "markdown",
   "metadata": {},
   "source": [
    "## Show it step by step by yourself"
   ]
  },
  {
   "cell_type": "code",
   "execution_count": 178,
   "metadata": {},
   "outputs": [
    {
     "ename": "KeyError",
     "evalue": "0",
     "output_type": "error",
     "traceback": [
      "\u001b[1;31m---------------------------------------------------------------------------\u001b[0m",
      "\u001b[1;31mKeyError\u001b[0m                                  Traceback (most recent call last)",
      "File \u001b[1;32md:\\project_code\\bigdata_class_v1\\venv_bigdata\\Lib\\site-packages\\pandas\\core\\indexes\\base.py:3805\u001b[0m, in \u001b[0;36mIndex.get_loc\u001b[1;34m(self, key)\u001b[0m\n\u001b[0;32m   3804\u001b[0m \u001b[38;5;28;01mtry\u001b[39;00m:\n\u001b[1;32m-> 3805\u001b[0m     \u001b[38;5;28;01mreturn\u001b[39;00m \u001b[38;5;28;43mself\u001b[39;49m\u001b[38;5;241;43m.\u001b[39;49m\u001b[43m_engine\u001b[49m\u001b[38;5;241;43m.\u001b[39;49m\u001b[43mget_loc\u001b[49m\u001b[43m(\u001b[49m\u001b[43mcasted_key\u001b[49m\u001b[43m)\u001b[49m\n\u001b[0;32m   3806\u001b[0m \u001b[38;5;28;01mexcept\u001b[39;00m \u001b[38;5;167;01mKeyError\u001b[39;00m \u001b[38;5;28;01mas\u001b[39;00m err:\n",
      "File \u001b[1;32mindex.pyx:167\u001b[0m, in \u001b[0;36mpandas._libs.index.IndexEngine.get_loc\u001b[1;34m()\u001b[0m\n",
      "File \u001b[1;32mindex.pyx:196\u001b[0m, in \u001b[0;36mpandas._libs.index.IndexEngine.get_loc\u001b[1;34m()\u001b[0m\n",
      "File \u001b[1;32mpandas\\\\_libs\\\\hashtable_class_helper.pxi:2606\u001b[0m, in \u001b[0;36mpandas._libs.hashtable.Int64HashTable.get_item\u001b[1;34m()\u001b[0m\n",
      "File \u001b[1;32mpandas\\\\_libs\\\\hashtable_class_helper.pxi:2630\u001b[0m, in \u001b[0;36mpandas._libs.hashtable.Int64HashTable.get_item\u001b[1;34m()\u001b[0m\n",
      "\u001b[1;31mKeyError\u001b[0m: 0",
      "\nThe above exception was the direct cause of the following exception:\n",
      "\u001b[1;31mKeyError\u001b[0m                                  Traceback (most recent call last)",
      "Cell \u001b[1;32mIn[178], line 8\u001b[0m\n\u001b[0;32m      5\u001b[0m df_query \u001b[38;5;241m=\u001b[39m filter_dataFrame(user_keywords, cond, cate, weeks)\n\u001b[0;32m      7\u001b[0m \u001b[38;5;66;03m# count user keyword frequency by checking every word in tokens_v2\u001b[39;00m\n\u001b[1;32m----> 8\u001b[0m tokens \u001b[38;5;241m=\u001b[39m \u001b[38;5;28meval\u001b[39m(\u001b[43mdf_query\u001b[49m\u001b[38;5;241;43m.\u001b[39;49m\u001b[43mtokens_v2\u001b[49m\u001b[43m[\u001b[49m\u001b[38;5;241;43m0\u001b[39;49m\u001b[43m]\u001b[49m) \u001b[38;5;66;03m# count frequency\u001b[39;00m\n\u001b[0;32m      9\u001b[0m freq \u001b[38;5;241m=\u001b[39m  \u001b[38;5;28mlen\u001b[39m([word \u001b[38;5;28;01mfor\u001b[39;00m word \u001b[38;5;129;01min\u001b[39;00m tokens \u001b[38;5;28;01mif\u001b[39;00m (word \u001b[38;5;129;01min\u001b[39;00m user_keywords)]) \u001b[38;5;66;03m# how manay times?\u001b[39;00m\n",
      "File \u001b[1;32md:\\project_code\\bigdata_class_v1\\venv_bigdata\\Lib\\site-packages\\pandas\\core\\series.py:1121\u001b[0m, in \u001b[0;36mSeries.__getitem__\u001b[1;34m(self, key)\u001b[0m\n\u001b[0;32m   1118\u001b[0m     \u001b[38;5;28;01mreturn\u001b[39;00m \u001b[38;5;28mself\u001b[39m\u001b[38;5;241m.\u001b[39m_values[key]\n\u001b[0;32m   1120\u001b[0m \u001b[38;5;28;01melif\u001b[39;00m key_is_scalar:\n\u001b[1;32m-> 1121\u001b[0m     \u001b[38;5;28;01mreturn\u001b[39;00m \u001b[38;5;28;43mself\u001b[39;49m\u001b[38;5;241;43m.\u001b[39;49m\u001b[43m_get_value\u001b[49m\u001b[43m(\u001b[49m\u001b[43mkey\u001b[49m\u001b[43m)\u001b[49m\n\u001b[0;32m   1123\u001b[0m \u001b[38;5;66;03m# Convert generator to list before going through hashable part\u001b[39;00m\n\u001b[0;32m   1124\u001b[0m \u001b[38;5;66;03m# (We will iterate through the generator there to check for slices)\u001b[39;00m\n\u001b[0;32m   1125\u001b[0m \u001b[38;5;28;01mif\u001b[39;00m is_iterator(key):\n",
      "File \u001b[1;32md:\\project_code\\bigdata_class_v1\\venv_bigdata\\Lib\\site-packages\\pandas\\core\\series.py:1237\u001b[0m, in \u001b[0;36mSeries._get_value\u001b[1;34m(self, label, takeable)\u001b[0m\n\u001b[0;32m   1234\u001b[0m     \u001b[38;5;28;01mreturn\u001b[39;00m \u001b[38;5;28mself\u001b[39m\u001b[38;5;241m.\u001b[39m_values[label]\n\u001b[0;32m   1236\u001b[0m \u001b[38;5;66;03m# Similar to Index.get_value, but we do not fall back to positional\u001b[39;00m\n\u001b[1;32m-> 1237\u001b[0m loc \u001b[38;5;241m=\u001b[39m \u001b[38;5;28;43mself\u001b[39;49m\u001b[38;5;241;43m.\u001b[39;49m\u001b[43mindex\u001b[49m\u001b[38;5;241;43m.\u001b[39;49m\u001b[43mget_loc\u001b[49m\u001b[43m(\u001b[49m\u001b[43mlabel\u001b[49m\u001b[43m)\u001b[49m\n\u001b[0;32m   1239\u001b[0m \u001b[38;5;28;01mif\u001b[39;00m is_integer(loc):\n\u001b[0;32m   1240\u001b[0m     \u001b[38;5;28;01mreturn\u001b[39;00m \u001b[38;5;28mself\u001b[39m\u001b[38;5;241m.\u001b[39m_values[loc]\n",
      "File \u001b[1;32md:\\project_code\\bigdata_class_v1\\venv_bigdata\\Lib\\site-packages\\pandas\\core\\indexes\\base.py:3812\u001b[0m, in \u001b[0;36mIndex.get_loc\u001b[1;34m(self, key)\u001b[0m\n\u001b[0;32m   3807\u001b[0m     \u001b[38;5;28;01mif\u001b[39;00m \u001b[38;5;28misinstance\u001b[39m(casted_key, \u001b[38;5;28mslice\u001b[39m) \u001b[38;5;129;01mor\u001b[39;00m (\n\u001b[0;32m   3808\u001b[0m         \u001b[38;5;28misinstance\u001b[39m(casted_key, abc\u001b[38;5;241m.\u001b[39mIterable)\n\u001b[0;32m   3809\u001b[0m         \u001b[38;5;129;01mand\u001b[39;00m \u001b[38;5;28many\u001b[39m(\u001b[38;5;28misinstance\u001b[39m(x, \u001b[38;5;28mslice\u001b[39m) \u001b[38;5;28;01mfor\u001b[39;00m x \u001b[38;5;129;01min\u001b[39;00m casted_key)\n\u001b[0;32m   3810\u001b[0m     ):\n\u001b[0;32m   3811\u001b[0m         \u001b[38;5;28;01mraise\u001b[39;00m InvalidIndexError(key)\n\u001b[1;32m-> 3812\u001b[0m     \u001b[38;5;28;01mraise\u001b[39;00m \u001b[38;5;167;01mKeyError\u001b[39;00m(key) \u001b[38;5;28;01mfrom\u001b[39;00m\u001b[38;5;250m \u001b[39m\u001b[38;5;21;01merr\u001b[39;00m\n\u001b[0;32m   3813\u001b[0m \u001b[38;5;28;01mexcept\u001b[39;00m \u001b[38;5;167;01mTypeError\u001b[39;00m:\n\u001b[0;32m   3814\u001b[0m     \u001b[38;5;66;03m# If we have a listlike key, _check_indexing_error will raise\u001b[39;00m\n\u001b[0;32m   3815\u001b[0m     \u001b[38;5;66;03m#  InvalidIndexError. Otherwise we fall through and re-raise\u001b[39;00m\n\u001b[0;32m   3816\u001b[0m     \u001b[38;5;66;03m#  the TypeError.\u001b[39;00m\n\u001b[0;32m   3817\u001b[0m     \u001b[38;5;28mself\u001b[39m\u001b[38;5;241m.\u001b[39m_check_indexing_error(key)\n",
      "\u001b[1;31mKeyError\u001b[0m: 0"
     ]
    }
   ],
   "source": [
    "user_keywords=['遊戲','英雄聯盟']\n",
    "cond='and'\n",
    "cate='全部'\n",
    "weeks=2\n",
    "df_query = filter_dataFrame(user_keywords, cond, cate, weeks)\n",
    "\n",
    "# count user keyword frequency by checking every word in tokens_v2\n",
    "tokens = eval(df_query.tokens_v2[0]) # count frequency\n",
    "freq =  len([word for word in tokens if (word in user_keywords)]) # how manay times?"
   ]
  },
  {
   "cell_type": "code",
   "execution_count": null,
   "metadata": {},
   "outputs": [
    {
     "data": {
      "text/html": [
       "<div>\n",
       "<style scoped>\n",
       "    .dataframe tbody tr th:only-of-type {\n",
       "        vertical-align: middle;\n",
       "    }\n",
       "\n",
       "    .dataframe tbody tr th {\n",
       "        vertical-align: top;\n",
       "    }\n",
       "\n",
       "    .dataframe thead th {\n",
       "        text-align: right;\n",
       "    }\n",
       "</style>\n",
       "<table border=\"1\" class=\"dataframe\">\n",
       "  <thead>\n",
       "    <tr style=\"text-align: right;\">\n",
       "      <th></th>\n",
       "      <th>item_id</th>\n",
       "      <th>date</th>\n",
       "      <th>category</th>\n",
       "      <th>title</th>\n",
       "      <th>content</th>\n",
       "      <th>sentiment</th>\n",
       "      <th>summary</th>\n",
       "      <th>top_key_freq</th>\n",
       "      <th>tokens</th>\n",
       "      <th>tokens_v2</th>\n",
       "      <th>entities</th>\n",
       "      <th>token_pos</th>\n",
       "      <th>link</th>\n",
       "      <th>photo_link</th>\n",
       "    </tr>\n",
       "  </thead>\n",
       "  <tbody>\n",
       "    <tr>\n",
       "      <th>0</th>\n",
       "      <td>aipl_20220314_1</td>\n",
       "      <td>2022-03-14</td>\n",
       "      <td>政治</td>\n",
       "      <td>外交部援烏物資已募4000箱 吳釗燮感謝捐贈民眾</td>\n",
       "      <td>民眾捐贈烏克蘭的愛心物資持續湧入外交部，截至今天傍晚累計已收到約4000箱，外交部長吳釗燮中...</td>\n",
       "      <td>0.01</td>\n",
       "      <td>['外交部除感謝熱心民眾踴躍捐贈援助烏克蘭人道物資外', '親赴外交部捐贈物資的民眾約173...</td>\n",
       "      <td>[('外交部', 14), ('民眾', 7), ('物資', 7), ('烏克蘭', 5)...</td>\n",
       "      <td>['民眾', '捐贈', '烏克蘭', '的', '愛心', '物資', '持續', '湧入...</td>\n",
       "      <td>['民眾', '烏克蘭', '愛心', '物資', '外交部', '收到', '外交部長',...</td>\n",
       "      <td>[NerToken(word='烏克蘭', ner='GPE', idx=(4, 7)), ...</td>\n",
       "      <td>[('民眾', 'Na'), ('捐贈', 'VD'), ('烏克蘭', 'Nc'), ('...</td>\n",
       "      <td>https://www.cna.com.tw/news/aipl/202203140364....</td>\n",
       "      <td>https://imgcdn.cna.com.tw/www/WebPhotos/200/20...</td>\n",
       "    </tr>\n",
       "    <tr>\n",
       "      <th>11</th>\n",
       "      <td>aipl_20220314_12</td>\n",
       "      <td>2022-03-14</td>\n",
       "      <td>政治</td>\n",
       "      <td>賑濟烏克蘭善款 累計突破6億元</td>\n",
       "      <td>財團法人賑災基金會今天表示，賑濟烏克蘭專戶開設到今天下午4時10分，累計收到善款已突破新台幣...</td>\n",
       "      <td>0.00</td>\n",
       "      <td>['收到紐約台灣商會捐入一筆3萬5703美元、折合新台幣約101萬元的捐款', '外交部2日...</td>\n",
       "      <td>[('基金會', 6), ('烏克蘭', 6), ('收到', 4), ('新台幣', 4)...</td>\n",
       "      <td>['財團', '法人', '賑災', '基金會', '今天', '表示', '，', '賑濟...</td>\n",
       "      <td>['財團', '法人', '賑災', '基金會', '賑濟', '烏克蘭', '專戶', '...</td>\n",
       "      <td>[NerToken(word='今天', ner='DATE', idx=(9, 11)),...</td>\n",
       "      <td>[('財團', 'Na'), ('法人', 'Na'), ('賑災', 'VA'), ('基...</td>\n",
       "      <td>https://www.cna.com.tw/news/aipl/202203140241....</td>\n",
       "      <td>https://imgcdn.cna.com.tw/www/webphotos/WebCov...</td>\n",
       "    </tr>\n",
       "    <tr>\n",
       "      <th>140</th>\n",
       "      <td>aopl_20220314_1</td>\n",
       "      <td>2022-03-14</td>\n",
       "      <td>國際</td>\n",
       "      <td>澳洲擴大制裁俄羅斯 歐盟要凍結切爾西老闆資產</td>\n",
       "      <td>（中央社雪梨/布魯塞爾14日綜合外電報導）澳洲為懲罰俄羅斯侵略烏克蘭，今天再將33名俄國寡頭...</td>\n",
       "      <td>0.00</td>\n",
       "      <td>['將阿布拉莫維奇加入制裁的俄羅斯富豪名單', '而歐盟各國代表將在今天開會通過這項措施',...</td>\n",
       "      <td>[('制裁', 8), ('俄羅斯', 7), ('俄國', 7), ('歐盟', 5), ...</td>\n",
       "      <td>['（', '中央社', '雪梨', '/', '布魯塞爾', '14日', '綜合', '...</td>\n",
       "      <td>['中央社', '雪梨', '布魯塞爾', '綜合', '外電', '澳洲', '懲罰', ...</td>\n",
       "      <td>[NerToken(word='中央社', ner='ORG', idx=(1, 4)), ...</td>\n",
       "      <td>[('（', 'PARENTHESISCATEGORY'), ('中央社', 'Nc'), ...</td>\n",
       "      <td>https://www.cna.com.tw/news/aopl/202203140376....</td>\n",
       "      <td>NaN</td>\n",
       "    </tr>\n",
       "    <tr>\n",
       "      <th>141</th>\n",
       "      <td>aopl_20220314_2</td>\n",
       "      <td>2022-03-14</td>\n",
       "      <td>國際</td>\n",
       "      <td>俄羅斯提核協議新要求 伊朗外長將赴莫斯科討論</td>\n",
       "      <td>關於伊朗核子協議的談判，數天前因為俄羅斯提出新要求而觸礁，伊朗外交部長阿布杜拉希安15日將赴...</td>\n",
       "      <td>0.00</td>\n",
       "      <td>['他已與俄羅斯外長拉夫羅夫（Sergei Lavrov）討論了正在奧地利維也納進行的伊朗核...</td>\n",
       "      <td>[('伊朗', 11), ('協議', 9), ('談判', 6), ('外長', 6), ...</td>\n",
       "      <td>['關於', '伊朗', '核子', '協議', '的', '談判', '，', '數', ...</td>\n",
       "      <td>['伊朗', '核子', '協議', '談判', '俄羅斯', '提出', '要求', '伊...</td>\n",
       "      <td>[NerToken(word='伊朗', ner='GPE', idx=(2, 4)), N...</td>\n",
       "      <td>[('關於', 'P'), ('伊朗', 'Nc'), ('核子', 'Na'), ('協議...</td>\n",
       "      <td>https://www.cna.com.tw/news/aopl/202203140361....</td>\n",
       "      <td>NaN</td>\n",
       "    </tr>\n",
       "  </tbody>\n",
       "</table>\n",
       "</div>"
      ],
      "text/plain": [
       "              item_id        date category                     title  \\\n",
       "0     aipl_20220314_1  2022-03-14       政治  外交部援烏物資已募4000箱 吳釗燮感謝捐贈民眾   \n",
       "11   aipl_20220314_12  2022-03-14       政治           賑濟烏克蘭善款 累計突破6億元   \n",
       "140   aopl_20220314_1  2022-03-14       國際    澳洲擴大制裁俄羅斯 歐盟要凍結切爾西老闆資產   \n",
       "141   aopl_20220314_2  2022-03-14       國際    俄羅斯提核協議新要求 伊朗外長將赴莫斯科討論   \n",
       "\n",
       "                                               content  sentiment  \\\n",
       "0    民眾捐贈烏克蘭的愛心物資持續湧入外交部，截至今天傍晚累計已收到約4000箱，外交部長吳釗燮中...       0.01   \n",
       "11   財團法人賑災基金會今天表示，賑濟烏克蘭專戶開設到今天下午4時10分，累計收到善款已突破新台幣...       0.00   \n",
       "140  （中央社雪梨/布魯塞爾14日綜合外電報導）澳洲為懲罰俄羅斯侵略烏克蘭，今天再將33名俄國寡頭...       0.00   \n",
       "141  關於伊朗核子協議的談判，數天前因為俄羅斯提出新要求而觸礁，伊朗外交部長阿布杜拉希安15日將赴...       0.00   \n",
       "\n",
       "                                               summary  \\\n",
       "0    ['外交部除感謝熱心民眾踴躍捐贈援助烏克蘭人道物資外', '親赴外交部捐贈物資的民眾約173...   \n",
       "11   ['收到紐約台灣商會捐入一筆3萬5703美元、折合新台幣約101萬元的捐款', '外交部2日...   \n",
       "140  ['將阿布拉莫維奇加入制裁的俄羅斯富豪名單', '而歐盟各國代表將在今天開會通過這項措施',...   \n",
       "141  ['他已與俄羅斯外長拉夫羅夫（Sergei Lavrov）討論了正在奧地利維也納進行的伊朗核...   \n",
       "\n",
       "                                          top_key_freq  \\\n",
       "0    [('外交部', 14), ('民眾', 7), ('物資', 7), ('烏克蘭', 5)...   \n",
       "11   [('基金會', 6), ('烏克蘭', 6), ('收到', 4), ('新台幣', 4)...   \n",
       "140  [('制裁', 8), ('俄羅斯', 7), ('俄國', 7), ('歐盟', 5), ...   \n",
       "141  [('伊朗', 11), ('協議', 9), ('談判', 6), ('外長', 6), ...   \n",
       "\n",
       "                                                tokens  \\\n",
       "0    ['民眾', '捐贈', '烏克蘭', '的', '愛心', '物資', '持續', '湧入...   \n",
       "11   ['財團', '法人', '賑災', '基金會', '今天', '表示', '，', '賑濟...   \n",
       "140  ['（', '中央社', '雪梨', '/', '布魯塞爾', '14日', '綜合', '...   \n",
       "141  ['關於', '伊朗', '核子', '協議', '的', '談判', '，', '數', ...   \n",
       "\n",
       "                                             tokens_v2  \\\n",
       "0    ['民眾', '烏克蘭', '愛心', '物資', '外交部', '收到', '外交部長',...   \n",
       "11   ['財團', '法人', '賑災', '基金會', '賑濟', '烏克蘭', '專戶', '...   \n",
       "140  ['中央社', '雪梨', '布魯塞爾', '綜合', '外電', '澳洲', '懲罰', ...   \n",
       "141  ['伊朗', '核子', '協議', '談判', '俄羅斯', '提出', '要求', '伊...   \n",
       "\n",
       "                                              entities  \\\n",
       "0    [NerToken(word='烏克蘭', ner='GPE', idx=(4, 7)), ...   \n",
       "11   [NerToken(word='今天', ner='DATE', idx=(9, 11)),...   \n",
       "140  [NerToken(word='中央社', ner='ORG', idx=(1, 4)), ...   \n",
       "141  [NerToken(word='伊朗', ner='GPE', idx=(2, 4)), N...   \n",
       "\n",
       "                                             token_pos  \\\n",
       "0    [('民眾', 'Na'), ('捐贈', 'VD'), ('烏克蘭', 'Nc'), ('...   \n",
       "11   [('財團', 'Na'), ('法人', 'Na'), ('賑災', 'VA'), ('基...   \n",
       "140  [('（', 'PARENTHESISCATEGORY'), ('中央社', 'Nc'), ...   \n",
       "141  [('關於', 'P'), ('伊朗', 'Nc'), ('核子', 'Na'), ('協議...   \n",
       "\n",
       "                                                  link  \\\n",
       "0    https://www.cna.com.tw/news/aipl/202203140364....   \n",
       "11   https://www.cna.com.tw/news/aipl/202203140241....   \n",
       "140  https://www.cna.com.tw/news/aopl/202203140376....   \n",
       "141  https://www.cna.com.tw/news/aopl/202203140361....   \n",
       "\n",
       "                                            photo_link  \n",
       "0    https://imgcdn.cna.com.tw/www/WebPhotos/200/20...  \n",
       "11   https://imgcdn.cna.com.tw/www/webphotos/WebCov...  \n",
       "140                                                NaN  \n",
       "141                                                NaN  "
      ]
     },
     "execution_count": 89,
     "metadata": {},
     "output_type": "execute_result"
    }
   ],
   "source": [
    "df_query"
   ]
  },
  {
   "cell_type": "code",
   "execution_count": null,
   "metadata": {},
   "outputs": [
    {
     "data": {
      "text/plain": [
       "item_id                                           aipl_20220314_1\n",
       "date                                                   2022-03-14\n",
       "category                                                       政治\n",
       "title                                    外交部援烏物資已募4000箱 吳釗燮感謝捐贈民眾\n",
       "content         民眾捐贈烏克蘭的愛心物資持續湧入外交部，截至今天傍晚累計已收到約4000箱，外交部長吳釗燮中...\n",
       "sentiment                                                    0.01\n",
       "summary         ['外交部除感謝熱心民眾踴躍捐贈援助烏克蘭人道物資外', '親赴外交部捐贈物資的民眾約173...\n",
       "top_key_freq    [('外交部', 14), ('民眾', 7), ('物資', 7), ('烏克蘭', 5)...\n",
       "tokens          ['民眾', '捐贈', '烏克蘭', '的', '愛心', '物資', '持續', '湧入...\n",
       "tokens_v2       ['民眾', '烏克蘭', '愛心', '物資', '外交部', '收到', '外交部長',...\n",
       "entities        [NerToken(word='烏克蘭', ner='GPE', idx=(4, 7)), ...\n",
       "token_pos       [('民眾', 'Na'), ('捐贈', 'VD'), ('烏克蘭', 'Nc'), ('...\n",
       "link            https://www.cna.com.tw/news/aipl/202203140364....\n",
       "photo_link      https://imgcdn.cna.com.tw/www/WebPhotos/200/20...\n",
       "Name: 0, dtype: object"
      ]
     },
     "execution_count": 90,
     "metadata": {},
     "output_type": "execute_result"
    }
   ],
   "source": [
    "df_query.iloc[0]"
   ]
  },
  {
   "cell_type": "code",
   "execution_count": null,
   "metadata": {},
   "outputs": [],
   "source": [
    "row = df_query.iloc[0]"
   ]
  },
  {
   "cell_type": "code",
   "execution_count": null,
   "metadata": {},
   "outputs": [
    {
     "data": {
      "text/plain": [
       "\"['民眾', '烏克蘭', '愛心', '物資', '外交部', '收到', '外交部長', '吳釗燮', '現場', '協助', '整理', '物資', '志工', '加油', '民眾', '表達', '外交部', '發布', '新聞稿', '外交部', '民間', '募集', '烏克蘭', '難民', '物資', '響應', '外交部', '物資', '民眾', '包裹', '收到', '物資', '品項', '醫療', '口罩', '毛毯', '女性', '衛生', '用品', '尿片', '餅乾', '募集', '活動', '外交部', '民眾', '現場', '分類', '整理', '志工', '外交部', '人員', '吳釗燮', '外交部', '地下', '停車場', '吳釗燮', '在場', '慈濟', '民間', '組織', '志工', '自發', '到場', '幫忙', '善心', '人士', '互動', '烏克蘭', '人士', '義工', '現場', '協助', '吳釗燮', '致意', '慰問', '外交部', '照片', '到場', '幫忙', '烏克蘭', '志工', '家鄉', '情勢', '網紅佳娜', '外交部', '物資', '民眾', '物品', '外交部', '網站', '清單', '物品', '衣物', '外交部', '物品', '物品', '拆封', '包裝', '有效期', '整理', '轉運', '困擾', '時間', '民眾', '清單', '藥品', '外交部', '外交部', '民眾', '援助', '烏克蘭', '人道', '物資', '志工', '幫忙', '貢獻', '外交部', '各界', '人士', '時間', '精神', '投入', '國際', '人道', '援助', '表達', '敬意']\""
      ]
     },
     "execution_count": 92,
     "metadata": {},
     "output_type": "execute_result"
    }
   ],
   "source": [
    "row.tokens_v2"
   ]
  },
  {
   "cell_type": "code",
   "execution_count": null,
   "metadata": {},
   "outputs": [],
   "source": []
  },
  {
   "cell_type": "code",
   "execution_count": null,
   "metadata": {},
   "outputs": [
    {
     "data": {
      "text/plain": [
       "['民眾',\n",
       " '烏克蘭',\n",
       " '愛心',\n",
       " '物資',\n",
       " '外交部',\n",
       " '收到',\n",
       " '外交部長',\n",
       " '吳釗燮',\n",
       " '現場',\n",
       " '協助',\n",
       " '整理',\n",
       " '物資',\n",
       " '志工',\n",
       " '加油',\n",
       " '民眾',\n",
       " '表達',\n",
       " '外交部',\n",
       " '發布',\n",
       " '新聞稿',\n",
       " '外交部',\n",
       " '民間',\n",
       " '募集',\n",
       " '烏克蘭',\n",
       " '難民',\n",
       " '物資',\n",
       " '響應',\n",
       " '外交部',\n",
       " '物資',\n",
       " '民眾',\n",
       " '包裹',\n",
       " '收到',\n",
       " '物資',\n",
       " '品項',\n",
       " '醫療',\n",
       " '口罩',\n",
       " '毛毯',\n",
       " '女性',\n",
       " '衛生',\n",
       " '用品',\n",
       " '尿片',\n",
       " '餅乾',\n",
       " '募集',\n",
       " '活動',\n",
       " '外交部',\n",
       " '民眾',\n",
       " '現場',\n",
       " '分類',\n",
       " '整理',\n",
       " '志工',\n",
       " '外交部',\n",
       " '人員',\n",
       " '吳釗燮',\n",
       " '外交部',\n",
       " '地下',\n",
       " '停車場',\n",
       " '吳釗燮',\n",
       " '在場',\n",
       " '慈濟',\n",
       " '民間',\n",
       " '組織',\n",
       " '志工',\n",
       " '自發',\n",
       " '到場',\n",
       " '幫忙',\n",
       " '善心',\n",
       " '人士',\n",
       " '互動',\n",
       " '烏克蘭',\n",
       " '人士',\n",
       " '義工',\n",
       " '現場',\n",
       " '協助',\n",
       " '吳釗燮',\n",
       " '致意',\n",
       " '慰問',\n",
       " '外交部',\n",
       " '照片',\n",
       " '到場',\n",
       " '幫忙',\n",
       " '烏克蘭',\n",
       " '志工',\n",
       " '家鄉',\n",
       " '情勢',\n",
       " '網紅佳娜',\n",
       " '外交部',\n",
       " '物資',\n",
       " '民眾',\n",
       " '物品',\n",
       " '外交部',\n",
       " '網站',\n",
       " '清單',\n",
       " '物品',\n",
       " '衣物',\n",
       " '外交部',\n",
       " '物品',\n",
       " '物品',\n",
       " '拆封',\n",
       " '包裝',\n",
       " '有效期',\n",
       " '整理',\n",
       " '轉運',\n",
       " '困擾',\n",
       " '時間',\n",
       " '民眾',\n",
       " '清單',\n",
       " '藥品',\n",
       " '外交部',\n",
       " '外交部',\n",
       " '民眾',\n",
       " '援助',\n",
       " '烏克蘭',\n",
       " '人道',\n",
       " '物資',\n",
       " '志工',\n",
       " '幫忙',\n",
       " '貢獻',\n",
       " '外交部',\n",
       " '各界',\n",
       " '人士',\n",
       " '時間',\n",
       " '精神',\n",
       " '投入',\n",
       " '國際',\n",
       " '人道',\n",
       " '援助',\n",
       " '表達',\n",
       " '敬意']"
      ]
     },
     "execution_count": 93,
     "metadata": {},
     "output_type": "execute_result"
    }
   ],
   "source": [
    "eval(row.tokens_v2)"
   ]
  },
  {
   "cell_type": "code",
   "execution_count": null,
   "metadata": {},
   "outputs": [
    {
     "data": {
      "text/plain": [
       "['民眾',\n",
       " '烏克蘭',\n",
       " '愛心',\n",
       " '物資',\n",
       " '外交部',\n",
       " '收到',\n",
       " '外交部長',\n",
       " '吳釗燮',\n",
       " '現場',\n",
       " '協助',\n",
       " '整理',\n",
       " '物資',\n",
       " '志工',\n",
       " '加油',\n",
       " '民眾',\n",
       " '表達',\n",
       " '外交部',\n",
       " '發布',\n",
       " '新聞稿',\n",
       " '外交部',\n",
       " '民間',\n",
       " '募集',\n",
       " '烏克蘭',\n",
       " '難民',\n",
       " '物資',\n",
       " '響應',\n",
       " '外交部',\n",
       " '物資',\n",
       " '民眾',\n",
       " '包裹',\n",
       " '收到',\n",
       " '物資',\n",
       " '品項',\n",
       " '醫療',\n",
       " '口罩',\n",
       " '毛毯',\n",
       " '女性',\n",
       " '衛生',\n",
       " '用品',\n",
       " '尿片',\n",
       " '餅乾',\n",
       " '募集',\n",
       " '活動',\n",
       " '外交部',\n",
       " '民眾',\n",
       " '現場',\n",
       " '分類',\n",
       " '整理',\n",
       " '志工',\n",
       " '外交部',\n",
       " '人員',\n",
       " '吳釗燮',\n",
       " '外交部',\n",
       " '地下',\n",
       " '停車場',\n",
       " '吳釗燮',\n",
       " '在場',\n",
       " '慈濟',\n",
       " '民間',\n",
       " '組織',\n",
       " '志工',\n",
       " '自發',\n",
       " '到場',\n",
       " '幫忙',\n",
       " '善心',\n",
       " '人士',\n",
       " '互動',\n",
       " '烏克蘭',\n",
       " '人士',\n",
       " '義工',\n",
       " '現場',\n",
       " '協助',\n",
       " '吳釗燮',\n",
       " '致意',\n",
       " '慰問',\n",
       " '外交部',\n",
       " '照片',\n",
       " '到場',\n",
       " '幫忙',\n",
       " '烏克蘭',\n",
       " '志工',\n",
       " '家鄉',\n",
       " '情勢',\n",
       " '網紅佳娜',\n",
       " '外交部',\n",
       " '物資',\n",
       " '民眾',\n",
       " '物品',\n",
       " '外交部',\n",
       " '網站',\n",
       " '清單',\n",
       " '物品',\n",
       " '衣物',\n",
       " '外交部',\n",
       " '物品',\n",
       " '物品',\n",
       " '拆封',\n",
       " '包裝',\n",
       " '有效期',\n",
       " '整理',\n",
       " '轉運',\n",
       " '困擾',\n",
       " '時間',\n",
       " '民眾',\n",
       " '清單',\n",
       " '藥品',\n",
       " '外交部',\n",
       " '外交部',\n",
       " '民眾',\n",
       " '援助',\n",
       " '烏克蘭',\n",
       " '人道',\n",
       " '物資',\n",
       " '志工',\n",
       " '幫忙',\n",
       " '貢獻',\n",
       " '外交部',\n",
       " '各界',\n",
       " '人士',\n",
       " '時間',\n",
       " '精神',\n",
       " '投入',\n",
       " '國際',\n",
       " '人道',\n",
       " '援助',\n",
       " '表達',\n",
       " '敬意']"
      ]
     },
     "execution_count": 94,
     "metadata": {},
     "output_type": "execute_result"
    }
   ],
   "source": [
    "tokens"
   ]
  },
  {
   "cell_type": "code",
   "execution_count": null,
   "metadata": {},
   "outputs": [
    {
     "data": {
      "text/plain": [
       "['烏克蘭',\n",
       " '外交部',\n",
       " '外交部',\n",
       " '外交部',\n",
       " '烏克蘭',\n",
       " '外交部',\n",
       " '外交部',\n",
       " '外交部',\n",
       " '外交部',\n",
       " '烏克蘭',\n",
       " '外交部',\n",
       " '烏克蘭',\n",
       " '外交部',\n",
       " '外交部',\n",
       " '外交部',\n",
       " '外交部',\n",
       " '外交部',\n",
       " '烏克蘭',\n",
       " '外交部']"
      ]
     },
     "execution_count": 95,
     "metadata": {},
     "output_type": "execute_result"
    }
   ],
   "source": [
    "[word for word in tokens if (word in user_keywords)]"
   ]
  },
  {
   "cell_type": "code",
   "execution_count": null,
   "metadata": {},
   "outputs": [
    {
     "data": {
      "text/plain": [
       "19"
      ]
     },
     "execution_count": 96,
     "metadata": {},
     "output_type": "execute_result"
    }
   ],
   "source": [
    "len([word for word in tokens if (word in user_keywords)])"
   ]
  },
  {
   "cell_type": "code",
   "execution_count": null,
   "metadata": {},
   "outputs": [
    {
     "data": {
      "text/plain": [
       "19"
      ]
     },
     "execution_count": 97,
     "metadata": {},
     "output_type": "execute_result"
    }
   ],
   "source": [
    "freq"
   ]
  },
  {
   "cell_type": "code",
   "execution_count": null,
   "metadata": {},
   "outputs": [],
   "source": [
    "cate_occurence={}\n",
    "cate_freq={}"
   ]
  },
  {
   "cell_type": "code",
   "execution_count": null,
   "metadata": {},
   "outputs": [
    {
     "data": {
      "text/plain": [
       "{}"
      ]
     },
     "execution_count": 99,
     "metadata": {},
     "output_type": "execute_result"
    }
   ],
   "source": [
    "cate_occurence"
   ]
  },
  {
   "cell_type": "code",
   "execution_count": null,
   "metadata": {},
   "outputs": [],
   "source": [
    "for cate in news_categories:\n",
    "    cate_occurence[cate]=0\n",
    "    cate_freq[cate]=0"
   ]
  },
  {
   "cell_type": "code",
   "execution_count": null,
   "metadata": {},
   "outputs": [
    {
     "data": {
      "text/plain": [
       "{'政治': 0,\n",
       " '科技': 0,\n",
       " '運動': 0,\n",
       " '證卷': 0,\n",
       " '產經': 0,\n",
       " '娛樂': 0,\n",
       " '生活': 0,\n",
       " '國際': 0,\n",
       " '社會': 0,\n",
       " '文化': 0,\n",
       " '兩岸': 0,\n",
       " '全部': 0}"
      ]
     },
     "execution_count": 101,
     "metadata": {},
     "output_type": "execute_result"
    }
   ],
   "source": [
    "cate_occurence"
   ]
  },
  {
   "cell_type": "code",
   "execution_count": null,
   "metadata": {},
   "outputs": [
    {
     "data": {
      "text/plain": [
       "{'政治': 0,\n",
       " '科技': 0,\n",
       " '運動': 0,\n",
       " '證卷': 0,\n",
       " '產經': 0,\n",
       " '娛樂': 0,\n",
       " '生活': 0,\n",
       " '國際': 0,\n",
       " '社會': 0,\n",
       " '文化': 0,\n",
       " '兩岸': 0,\n",
       " '全部': 0}"
      ]
     },
     "execution_count": 102,
     "metadata": {},
     "output_type": "execute_result"
    }
   ],
   "source": [
    "cate_freq"
   ]
  },
  {
   "cell_type": "code",
   "execution_count": null,
   "metadata": {},
   "outputs": [],
   "source": [
    "cate_freq[row.category] += freq\n",
    "cate_freq['全部'] += freq"
   ]
  },
  {
   "cell_type": "code",
   "execution_count": null,
   "metadata": {},
   "outputs": [
    {
     "data": {
      "text/plain": [
       "{'政治': 19,\n",
       " '科技': 0,\n",
       " '運動': 0,\n",
       " '證卷': 0,\n",
       " '產經': 0,\n",
       " '娛樂': 0,\n",
       " '生活': 0,\n",
       " '國際': 0,\n",
       " '社會': 0,\n",
       " '文化': 0,\n",
       " '兩岸': 0,\n",
       " '全部': 19}"
      ]
     },
     "execution_count": 104,
     "metadata": {},
     "output_type": "execute_result"
    }
   ],
   "source": [
    "cate_freq"
   ]
  },
  {
   "cell_type": "code",
   "execution_count": null,
   "metadata": {},
   "outputs": [],
   "source": [
    "# count number of news\n",
    "cate_occurence[row.category] += 1 # add 1 to its category's occurence\n",
    "cate_occurence['全部'] += 1"
   ]
  },
  {
   "cell_type": "code",
   "execution_count": null,
   "metadata": {},
   "outputs": [
    {
     "data": {
      "text/plain": [
       "{'政治': 1,\n",
       " '科技': 0,\n",
       " '運動': 0,\n",
       " '證卷': 0,\n",
       " '產經': 0,\n",
       " '娛樂': 0,\n",
       " '生活': 0,\n",
       " '國際': 0,\n",
       " '社會': 0,\n",
       " '文化': 0,\n",
       " '兩岸': 0,\n",
       " '全部': 1}"
      ]
     },
     "execution_count": 106,
     "metadata": {},
     "output_type": "execute_result"
    }
   ],
   "source": [
    "cate_occurence"
   ]
  },
  {
   "cell_type": "markdown",
   "metadata": {},
   "source": [
    "## Now we can conveniently call those functions"
   ]
  },
  {
   "cell_type": "code",
   "execution_count": null,
   "metadata": {},
   "outputs": [],
   "source": [
    "user_keywords=['烏克蘭','台灣']\n",
    "cond='or'\n",
    "cate='全部'\n",
    "weeks=2\n",
    "df_query = filter_dataFrame(user_keywords, cond, cate, weeks)"
   ]
  },
  {
   "cell_type": "code",
   "execution_count": null,
   "metadata": {},
   "outputs": [
    {
     "data": {
      "text/plain": [
       "91"
      ]
     },
     "execution_count": 108,
     "metadata": {},
     "output_type": "execute_result"
    }
   ],
   "source": [
    "len(df_query)"
   ]
  },
  {
   "cell_type": "code",
   "execution_count": null,
   "metadata": {},
   "outputs": [
    {
     "data": {
      "text/plain": [
       "({'政治': 50,\n",
       "  '科技': 37,\n",
       "  '運動': 14,\n",
       "  '證卷': 27,\n",
       "  '產經': 34,\n",
       "  '娛樂': 16,\n",
       "  '生活': 7,\n",
       "  '國際': 32,\n",
       "  '社會': 8,\n",
       "  '文化': 51,\n",
       "  '兩岸': 11,\n",
       "  '全部': 287},\n",
       " {'政治': 10,\n",
       "  '科技': 11,\n",
       "  '運動': 10,\n",
       "  '證卷': 7,\n",
       "  '產經': 9,\n",
       "  '娛樂': 8,\n",
       "  '生活': 5,\n",
       "  '國際': 9,\n",
       "  '社會': 5,\n",
       "  '文化': 14,\n",
       "  '兩岸': 3,\n",
       "  '全部': 91})"
      ]
     },
     "execution_count": 109,
     "metadata": {},
     "output_type": "execute_result"
    }
   ],
   "source": [
    "count_keyword(df_query, user_keywords)"
   ]
  },
  {
   "cell_type": "code",
   "execution_count": null,
   "metadata": {},
   "outputs": [],
   "source": [
    "user_keywords=['烏克蘭','台灣']\n",
    "cond='and'\n",
    "cate='政治'\n",
    "weeks=2\n",
    "df_query = filter_dataFrame(user_keywords, cond, cate, weeks)"
   ]
  },
  {
   "cell_type": "code",
   "execution_count": null,
   "metadata": {},
   "outputs": [
    {
     "data": {
      "text/plain": [
       "2"
      ]
     },
     "execution_count": 111,
     "metadata": {},
     "output_type": "execute_result"
    }
   ],
   "source": [
    "len(df_query)"
   ]
  },
  {
   "cell_type": "code",
   "execution_count": null,
   "metadata": {},
   "outputs": [
    {
     "data": {
      "text/plain": [
       "({'政治': 14,\n",
       "  '科技': 0,\n",
       "  '運動': 0,\n",
       "  '證卷': 0,\n",
       "  '產經': 0,\n",
       "  '娛樂': 0,\n",
       "  '生活': 0,\n",
       "  '國際': 0,\n",
       "  '社會': 0,\n",
       "  '文化': 0,\n",
       "  '兩岸': 0,\n",
       "  '全部': 14},\n",
       " {'政治': 2,\n",
       "  '科技': 0,\n",
       "  '運動': 0,\n",
       "  '證卷': 0,\n",
       "  '產經': 0,\n",
       "  '娛樂': 0,\n",
       "  '生活': 0,\n",
       "  '國際': 0,\n",
       "  '社會': 0,\n",
       "  '文化': 0,\n",
       "  '兩岸': 0,\n",
       "  '全部': 2})"
      ]
     },
     "execution_count": 112,
     "metadata": {},
     "output_type": "execute_result"
    }
   ],
   "source": [
    "count_keyword(df_query, user_keyword)"
   ]
  },
  {
   "cell_type": "code",
   "execution_count": null,
   "metadata": {},
   "outputs": [],
   "source": []
  },
  {
   "cell_type": "markdown",
   "metadata": {},
   "source": [
    "## Usage of apply, map (For reference)"
   ]
  },
  {
   "cell_type": "code",
   "execution_count": null,
   "metadata": {},
   "outputs": [
    {
     "data": {
      "text/html": [
       "<div>\n",
       "<style scoped>\n",
       "    .dataframe tbody tr th:only-of-type {\n",
       "        vertical-align: middle;\n",
       "    }\n",
       "\n",
       "    .dataframe tbody tr th {\n",
       "        vertical-align: top;\n",
       "    }\n",
       "\n",
       "    .dataframe thead th {\n",
       "        text-align: right;\n",
       "    }\n",
       "</style>\n",
       "<table border=\"1\" class=\"dataframe\">\n",
       "  <thead>\n",
       "    <tr style=\"text-align: right;\">\n",
       "      <th></th>\n",
       "      <th>Col 1</th>\n",
       "      <th>Col 2</th>\n",
       "      <th>Col 3</th>\n",
       "    </tr>\n",
       "  </thead>\n",
       "  <tbody>\n",
       "    <tr>\n",
       "      <th>A</th>\n",
       "      <td>3</td>\n",
       "      <td>2</td>\n",
       "      <td>8</td>\n",
       "    </tr>\n",
       "    <tr>\n",
       "      <th>B</th>\n",
       "      <td>4</td>\n",
       "      <td>3</td>\n",
       "      <td>8</td>\n",
       "    </tr>\n",
       "    <tr>\n",
       "      <th>C</th>\n",
       "      <td>5</td>\n",
       "      <td>6</td>\n",
       "      <td>9</td>\n",
       "    </tr>\n",
       "    <tr>\n",
       "      <th>D</th>\n",
       "      <td>6</td>\n",
       "      <td>4</td>\n",
       "      <td>8</td>\n",
       "    </tr>\n",
       "  </tbody>\n",
       "</table>\n",
       "</div>"
      ],
      "text/plain": [
       "   Col 1  Col 2  Col 3\n",
       "A      3      2      8\n",
       "B      4      3      8\n",
       "C      5      6      9\n",
       "D      6      4      8"
      ]
     },
     "execution_count": 113,
     "metadata": {},
     "output_type": "execute_result"
    }
   ],
   "source": [
    "# apply usage\n",
    "import pandas as pd\n",
    "\n",
    "sample_df = pd.DataFrame({\n",
    "    'Col 1': [3,4,5,6],\n",
    "    'Col 2': [2,3,6,4],\n",
    "    'Col 3': [8,8,9,8],\n",
    "\n",
    "},index=[\"A\",\"B\",\"C\",\"D\"])\n",
    "sample_df"
   ]
  },
  {
   "cell_type": "code",
   "execution_count": null,
   "metadata": {},
   "outputs": [
    {
     "data": {
      "text/html": [
       "<div>\n",
       "<style scoped>\n",
       "    .dataframe tbody tr th:only-of-type {\n",
       "        vertical-align: middle;\n",
       "    }\n",
       "\n",
       "    .dataframe tbody tr th {\n",
       "        vertical-align: top;\n",
       "    }\n",
       "\n",
       "    .dataframe thead th {\n",
       "        text-align: right;\n",
       "    }\n",
       "</style>\n",
       "<table border=\"1\" class=\"dataframe\">\n",
       "  <thead>\n",
       "    <tr style=\"text-align: right;\">\n",
       "      <th></th>\n",
       "      <th>Col 1</th>\n",
       "      <th>Col 2</th>\n",
       "      <th>Col 3</th>\n",
       "    </tr>\n",
       "  </thead>\n",
       "  <tbody>\n",
       "    <tr>\n",
       "      <th>A</th>\n",
       "      <td>13</td>\n",
       "      <td>12</td>\n",
       "      <td>18</td>\n",
       "    </tr>\n",
       "    <tr>\n",
       "      <th>B</th>\n",
       "      <td>14</td>\n",
       "      <td>13</td>\n",
       "      <td>18</td>\n",
       "    </tr>\n",
       "    <tr>\n",
       "      <th>C</th>\n",
       "      <td>15</td>\n",
       "      <td>16</td>\n",
       "      <td>19</td>\n",
       "    </tr>\n",
       "    <tr>\n",
       "      <th>D</th>\n",
       "      <td>16</td>\n",
       "      <td>14</td>\n",
       "      <td>18</td>\n",
       "    </tr>\n",
       "  </tbody>\n",
       "</table>\n",
       "</div>"
      ],
      "text/plain": [
       "   Col 1  Col 2  Col 3\n",
       "A     13     12     18\n",
       "B     14     13     18\n",
       "C     15     16     19\n",
       "D     16     14     18"
      ]
     },
     "execution_count": 114,
     "metadata": {},
     "output_type": "execute_result"
    }
   ],
   "source": [
    "sample_df=sample_df.apply(lambda x: x+10)\n",
    "sample_df"
   ]
  },
  {
   "cell_type": "code",
   "execution_count": null,
   "metadata": {},
   "outputs": [
    {
     "data": {
      "text/html": [
       "<div>\n",
       "<style scoped>\n",
       "    .dataframe tbody tr th:only-of-type {\n",
       "        vertical-align: middle;\n",
       "    }\n",
       "\n",
       "    .dataframe tbody tr th {\n",
       "        vertical-align: top;\n",
       "    }\n",
       "\n",
       "    .dataframe thead th {\n",
       "        text-align: right;\n",
       "    }\n",
       "</style>\n",
       "<table border=\"1\" class=\"dataframe\">\n",
       "  <thead>\n",
       "    <tr style=\"text-align: right;\">\n",
       "      <th></th>\n",
       "      <th>Col 1</th>\n",
       "      <th>Col 2</th>\n",
       "      <th>Col 3</th>\n",
       "    </tr>\n",
       "  </thead>\n",
       "  <tbody>\n",
       "    <tr>\n",
       "      <th>A</th>\n",
       "      <td>3</td>\n",
       "      <td>12</td>\n",
       "      <td>18</td>\n",
       "    </tr>\n",
       "    <tr>\n",
       "      <th>B</th>\n",
       "      <td>4</td>\n",
       "      <td>13</td>\n",
       "      <td>18</td>\n",
       "    </tr>\n",
       "    <tr>\n",
       "      <th>C</th>\n",
       "      <td>5</td>\n",
       "      <td>16</td>\n",
       "      <td>19</td>\n",
       "    </tr>\n",
       "    <tr>\n",
       "      <th>D</th>\n",
       "      <td>6</td>\n",
       "      <td>14</td>\n",
       "      <td>18</td>\n",
       "    </tr>\n",
       "  </tbody>\n",
       "</table>\n",
       "</div>"
      ],
      "text/plain": [
       "   Col 1  Col 2  Col 3\n",
       "A      3     12     18\n",
       "B      4     13     18\n",
       "C      5     16     19\n",
       "D      6     14     18"
      ]
     },
     "execution_count": 115,
     "metadata": {},
     "output_type": "execute_result"
    }
   ],
   "source": [
    "sample_df[\"Col 1\"]=sample_df[\"Col 1\"].apply(lambda x: x-10)\n",
    "sample_df"
   ]
  }
 ],
 "metadata": {
  "kernelspec": {
   "display_name": "venv_bigdata",
   "language": "python",
   "name": "python3"
  },
  "language_info": {
   "codemirror_mode": {
    "name": "ipython",
    "version": 3
   },
   "file_extension": ".py",
   "mimetype": "text/x-python",
   "name": "python",
   "nbconvert_exporter": "python",
   "pygments_lexer": "ipython3",
   "version": "3.11.3"
  },
  "toc": {
   "base_numbering": 1,
   "nav_menu": {},
   "number_sections": true,
   "sideBar": true,
   "skip_h1_title": false,
   "title_cell": "Table of Contents",
   "title_sidebar": "Contents",
   "toc_cell": false,
   "toc_position": {},
   "toc_section_display": true,
   "toc_window_display": true
  }
 },
 "nbformat": 4,
 "nbformat_minor": 2
}
